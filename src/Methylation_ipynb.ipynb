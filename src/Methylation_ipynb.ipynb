{
  "cells": [
    {
      "cell_type": "markdown",
      "metadata": {
        "id": "CLLeQw9Mxab4"
      },
      "source": [
        "## Ссылка на диск с картированными чтениями"
      ]
    },
    {
      "cell_type": "markdown",
      "metadata": {
        "id": "iX7NcoC_CLY0"
      },
      "source": [
        "\n",
        "| | SRA accession  | Stage    |\n",
        "|---:|:-------------|:-----------|\n",
        "| 1 | SRR5836473  | 8 cell       |\n",
        "| 2 | SRR3824222 | Epiblast    |\n",
        "| 3 | SRR5836475  | ICM       |\n"
      ]
    },
    {
      "cell_type": "markdown",
      "metadata": {
        "id": "RQAK_lggxsXi"
      },
      "source": [
        "[Bam-файлы и отчеты](https://drive.google.com/drive/folders/1athn52a93obOwfuHynDCRPRhjAPB80aO?usp=sharing)"
      ]
    },
    {
      "cell_type": "markdown",
      "metadata": {
        "id": "5l0a7C6JHe40"
      },
      "source": [
        "# Установка FastQC"
      ]
    },
    {
      "cell_type": "code",
      "execution_count": null,
      "metadata": {
        "colab": {
          "base_uri": "https://localhost:8080/"
        },
        "id": "esYQuHKO8nAg",
        "outputId": "bff09d0b-4c9a-4f58-b1e0-9af9df2663a9"
      },
      "outputs": [
        {
          "name": "stdout",
          "output_type": "stream",
          "text": [
            "--2022-02-18 22:20:55--  https://www.bioinformatics.babraham.ac.uk/projects/fastqc/fastqc_v0.11.9.zip\n",
            "Resolving www.bioinformatics.babraham.ac.uk (www.bioinformatics.babraham.ac.uk)... 149.155.133.4\n",
            "Connecting to www.bioinformatics.babraham.ac.uk (www.bioinformatics.babraham.ac.uk)|149.155.133.4|:443... connected.\n",
            "HTTP request sent, awaiting response... 200 OK\n",
            "Length: 10249221 (9.8M) [application/zip]\n",
            "Saving to: ‘fastqc_v0.11.9.zip’\n",
            "\n",
            "fastqc_v0.11.9.zip  100%[===================>]   9.77M  2.45MB/s    in 4.0s    \n",
            "\n",
            "2022-02-18 22:21:00 (2.45 MB/s) - ‘fastqc_v0.11.9.zip’ saved [10249221/10249221]\n",
            "\n",
            "Archive:  fastqc_v0.11.9.zip\n",
            "  inflating: FastQC/cisd-jhdf5.jar   \n",
            "   creating: FastQC/Configuration/\n",
            "  inflating: FastQC/Configuration/adapter_list.txt  \n",
            "  inflating: FastQC/Configuration/contaminant_list.txt  \n",
            "  inflating: FastQC/Configuration/limits.txt  \n",
            "  inflating: FastQC/fastqc           \n",
            "  inflating: FastQC/fastqc_icon.ico  \n",
            "   creating: FastQC/Help/\n",
            "   creating: FastQC/Help/1 Introduction/\n",
            "   creating: FastQC/Help/1 Introduction/.svn/\n",
            "  inflating: FastQC/Help/1 Introduction/.svn/entries  \n",
            "   creating: FastQC/Help/1 Introduction/.svn/props/\n",
            "   creating: FastQC/Help/1 Introduction/.svn/text-base/\n",
            "  inflating: FastQC/Help/1 Introduction/.svn/text-base/1.1 What is FastQC.html.svn-base  \n",
            "   creating: FastQC/Help/1 Introduction/.svn/tmp/\n",
            "   creating: FastQC/Help/1 Introduction/.svn/tmp/props/\n",
            "  inflating: FastQC/Help/1 Introduction/1.1 What is FastQC.html  \n",
            "   creating: FastQC/Help/2 Basic Operations/\n",
            "   creating: FastQC/Help/2 Basic Operations/.svn/\n",
            "  inflating: FastQC/Help/2 Basic Operations/.svn/entries  \n",
            "   creating: FastQC/Help/2 Basic Operations/.svn/props/\n",
            "   creating: FastQC/Help/2 Basic Operations/.svn/text-base/\n",
            "  inflating: FastQC/Help/2 Basic Operations/.svn/text-base/2.1 Opening a sequence file.html.svn-base  \n",
            "  inflating: FastQC/Help/2 Basic Operations/.svn/text-base/2.2 Evaluating Results.html.svn-base  \n",
            "  inflating: FastQC/Help/2 Basic Operations/.svn/text-base/2.3 Saving a Report.html.svn-base  \n",
            "   creating: FastQC/Help/2 Basic Operations/.svn/tmp/\n",
            "   creating: FastQC/Help/2 Basic Operations/.svn/tmp/props/\n",
            "  inflating: FastQC/Help/2 Basic Operations/2.1 Opening a sequence file.html  \n",
            "  inflating: FastQC/Help/2 Basic Operations/2.2 Evaluating Results.html  \n",
            "  inflating: FastQC/Help/2 Basic Operations/2.3 Saving a Report.html  \n",
            "   creating: FastQC/Help/3 Analysis Modules/\n",
            "   creating: FastQC/Help/3 Analysis Modules/.svn/\n",
            "  inflating: FastQC/Help/3 Analysis Modules/.svn/entries  \n",
            "   creating: FastQC/Help/3 Analysis Modules/.svn/prop-base/\n",
            " extracting: FastQC/Help/3 Analysis Modules/.svn/prop-base/duplication_levels.png.svn-base  \n",
            "  inflating: FastQC/Help/3 Analysis Modules/.svn/prop-base/kmer_profiles.png.svn-base  \n",
            " extracting: FastQC/Help/3 Analysis Modules/.svn/prop-base/per_base_gc_content.png.svn-base  \n",
            " extracting: FastQC/Help/3 Analysis Modules/.svn/prop-base/per_base_n_content.png.svn-base  \n",
            " extracting: FastQC/Help/3 Analysis Modules/.svn/prop-base/per_base_quality.png.svn-base  \n",
            " extracting: FastQC/Help/3 Analysis Modules/.svn/prop-base/per_base_sequence_content.png.svn-base  \n",
            " extracting: FastQC/Help/3 Analysis Modules/.svn/prop-base/per_sequence_gc_content.png.svn-base  \n",
            " extracting: FastQC/Help/3 Analysis Modules/.svn/prop-base/per_sequence_quality.png.svn-base  \n",
            " extracting: FastQC/Help/3 Analysis Modules/.svn/prop-base/per_tile_quality.png.svn-base  \n",
            " extracting: FastQC/Help/3 Analysis Modules/.svn/prop-base/sequence_length_distribution.png.svn-base  \n",
            "   creating: FastQC/Help/3 Analysis Modules/.svn/props/\n",
            "   creating: FastQC/Help/3 Analysis Modules/.svn/text-base/\n",
            "  inflating: FastQC/Help/3 Analysis Modules/.svn/text-base/1 Basic Statistics.html.svn-base  \n",
            "  inflating: FastQC/Help/3 Analysis Modules/.svn/text-base/10 Adapter Content.html.svn-base  \n",
            "  inflating: FastQC/Help/3 Analysis Modules/.svn/text-base/11 Kmer Content.html.svn-base  \n",
            "  inflating: FastQC/Help/3 Analysis Modules/.svn/text-base/12 Per Tile Sequence Quality.html.svn-base  \n",
            "  inflating: FastQC/Help/3 Analysis Modules/.svn/text-base/2 Per Base Sequence Quality.html.svn-base  \n",
            "  inflating: FastQC/Help/3 Analysis Modules/.svn/text-base/3 Per Sequence Quality Scores.html.svn-base  \n",
            "  inflating: FastQC/Help/3 Analysis Modules/.svn/text-base/4 Per Base Sequence Content.html.svn-base  \n",
            "  inflating: FastQC/Help/3 Analysis Modules/.svn/text-base/5 Per Sequence GC Content.html.svn-base  \n",
            "  inflating: FastQC/Help/3 Analysis Modules/.svn/text-base/6 Per Base N Content.html.svn-base  \n",
            "  inflating: FastQC/Help/3 Analysis Modules/.svn/text-base/7 Sequence Length Distribution.html.svn-base  \n",
            "  inflating: FastQC/Help/3 Analysis Modules/.svn/text-base/8 Duplicate Sequences.html.svn-base  \n",
            "  inflating: FastQC/Help/3 Analysis Modules/.svn/text-base/9 Overrepresented Sequences.html.svn-base  \n",
            "  inflating: FastQC/Help/3 Analysis Modules/.svn/text-base/duplication_levels.png.svn-base  \n",
            "  inflating: FastQC/Help/3 Analysis Modules/.svn/text-base/kmer_profiles.png.svn-base  \n",
            "  inflating: FastQC/Help/3 Analysis Modules/.svn/text-base/per_base_gc_content.png.svn-base  \n",
            "  inflating: FastQC/Help/3 Analysis Modules/.svn/text-base/per_base_n_content.png.svn-base  \n",
            "  inflating: FastQC/Help/3 Analysis Modules/.svn/text-base/per_base_quality.png.svn-base  \n",
            "  inflating: FastQC/Help/3 Analysis Modules/.svn/text-base/per_base_sequence_content.png.svn-base  \n",
            "  inflating: FastQC/Help/3 Analysis Modules/.svn/text-base/per_sequence_gc_content.png.svn-base  \n",
            "  inflating: FastQC/Help/3 Analysis Modules/.svn/text-base/per_sequence_quality.png.svn-base  \n",
            "  inflating: FastQC/Help/3 Analysis Modules/.svn/text-base/per_tile_quality.png.svn-base  \n",
            "  inflating: FastQC/Help/3 Analysis Modules/.svn/text-base/sequence_length_distribution.png.svn-base  \n",
            "   creating: FastQC/Help/3 Analysis Modules/.svn/tmp/\n",
            "   creating: FastQC/Help/3 Analysis Modules/.svn/tmp/props/\n",
            "  inflating: FastQC/Help/3 Analysis Modules/1 Basic Statistics.html  \n",
            "  inflating: FastQC/Help/3 Analysis Modules/10 Adapter Content.html  \n",
            "  inflating: FastQC/Help/3 Analysis Modules/11 Kmer Content.html  \n",
            "  inflating: FastQC/Help/3 Analysis Modules/12 Per Tile Sequence Quality.html  \n",
            "  inflating: FastQC/Help/3 Analysis Modules/2 Per Base Sequence Quality.html  \n",
            "  inflating: FastQC/Help/3 Analysis Modules/3 Per Sequence Quality Scores.html  \n",
            "  inflating: FastQC/Help/3 Analysis Modules/4 Per Base Sequence Content.html  \n",
            "  inflating: FastQC/Help/3 Analysis Modules/5 Per Sequence GC Content.html  \n",
            "  inflating: FastQC/Help/3 Analysis Modules/6 Per Base N Content.html  \n",
            "  inflating: FastQC/Help/3 Analysis Modules/7 Sequence Length Distribution.html  \n",
            "  inflating: FastQC/Help/3 Analysis Modules/8 Duplicate Sequences.html  \n",
            "  inflating: FastQC/Help/3 Analysis Modules/9 Overrepresented Sequences.html  \n",
            "  inflating: FastQC/Help/3 Analysis Modules/duplication_levels.png  \n",
            "  inflating: FastQC/Help/3 Analysis Modules/kmer_profiles.png  \n",
            "  inflating: FastQC/Help/3 Analysis Modules/per_base_gc_content.png  \n",
            "  inflating: FastQC/Help/3 Analysis Modules/per_base_n_content.png  \n",
            "  inflating: FastQC/Help/3 Analysis Modules/per_base_quality.png  \n",
            "  inflating: FastQC/Help/3 Analysis Modules/per_base_sequence_content.png  \n",
            "  inflating: FastQC/Help/3 Analysis Modules/per_sequence_gc_content.png  \n",
            "  inflating: FastQC/Help/3 Analysis Modules/per_sequence_quality.png  \n",
            "  inflating: FastQC/Help/3 Analysis Modules/per_tile_quality.png  \n",
            "  inflating: FastQC/Help/3 Analysis Modules/sequence_length_distribution.png  \n",
            "  inflating: FastQC/INSTALL.txt      \n",
            "  inflating: FastQC/jbzip2-0.9.jar   \n",
            "  inflating: FastQC/LICENSE          \n",
            "  inflating: FastQC/LICENSE.txt      \n",
            "  inflating: FastQC/LICENSE_JHDF5.txt  \n",
            "   creating: FastQC/net/\n",
            "   creating: FastQC/net/sourceforge/\n",
            "   creating: FastQC/net/sourceforge/iharder/\n",
            "   creating: FastQC/net/sourceforge/iharder/base64/\n",
            "  inflating: FastQC/net/sourceforge/iharder/base64/Base64$1.class  \n",
            "  inflating: FastQC/net/sourceforge/iharder/base64/Base64$InputStream.class  \n",
            "  inflating: FastQC/net/sourceforge/iharder/base64/Base64$OutputStream.class  \n",
            "  inflating: FastQC/net/sourceforge/iharder/base64/Base64.class  \n",
            "   creating: FastQC/org/\n",
            "   creating: FastQC/org/apache/\n",
            "   creating: FastQC/org/apache/commons/\n",
            "   creating: FastQC/org/apache/commons/math3/\n",
            "   creating: FastQC/org/apache/commons/math3/analysis/\n",
            "   creating: FastQC/org/apache/commons/math3/analysis/solvers/\n",
            "  inflating: FastQC/org/apache/commons/math3/analysis/solvers/AbstractUnivariateSolver.class  \n",
            "  inflating: FastQC/org/apache/commons/math3/analysis/solvers/AllowedSolution.class  \n",
            "  inflating: FastQC/org/apache/commons/math3/analysis/solvers/BaseAbstractUnivariateSolver.class  \n",
            "  inflating: FastQC/org/apache/commons/math3/analysis/solvers/BaseUnivariateSolver.class  \n",
            "  inflating: FastQC/org/apache/commons/math3/analysis/solvers/BracketedUnivariateSolver.class  \n",
            "  inflating: FastQC/org/apache/commons/math3/analysis/solvers/BrentSolver.class  \n",
            "  inflating: FastQC/org/apache/commons/math3/analysis/solvers/UnivariateSolver.class  \n",
            "  inflating: FastQC/org/apache/commons/math3/analysis/solvers/UnivariateSolverUtils.class  \n",
            "  inflating: FastQC/org/apache/commons/math3/analysis/UnivariateFunction.class  \n",
            "   creating: FastQC/org/apache/commons/math3/distribution/\n",
            "  inflating: FastQC/org/apache/commons/math3/distribution/AbstractIntegerDistribution.class  \n",
            "  inflating: FastQC/org/apache/commons/math3/distribution/AbstractRealDistribution$1.class  \n",
            "  inflating: FastQC/org/apache/commons/math3/distribution/AbstractRealDistribution.class  \n",
            "  inflating: FastQC/org/apache/commons/math3/distribution/BetaDistribution.class  \n",
            "  inflating: FastQC/org/apache/commons/math3/distribution/BinomialDistribution.class  \n",
            "  inflating: FastQC/org/apache/commons/math3/distribution/CauchyDistribution.class  \n",
            "  inflating: FastQC/org/apache/commons/math3/distribution/ChiSquaredDistribution.class  \n",
            "  inflating: FastQC/org/apache/commons/math3/distribution/FDistribution.class  \n",
            "  inflating: FastQC/org/apache/commons/math3/distribution/GammaDistribution.class  \n",
            "  inflating: FastQC/org/apache/commons/math3/distribution/HypergeometricDistribution.class  \n",
            "  inflating: FastQC/org/apache/commons/math3/distribution/IntegerDistribution.class  \n",
            "  inflating: FastQC/org/apache/commons/math3/distribution/NormalDistribution.class  \n",
            "  inflating: FastQC/org/apache/commons/math3/distribution/PascalDistribution.class  \n",
            "  inflating: FastQC/org/apache/commons/math3/distribution/PoissonDistribution.class  \n",
            "  inflating: FastQC/org/apache/commons/math3/distribution/RealDistribution.class  \n",
            "  inflating: FastQC/org/apache/commons/math3/distribution/SaddlePointExpansion.class  \n",
            "  inflating: FastQC/org/apache/commons/math3/distribution/TDistribution.class  \n",
            "  inflating: FastQC/org/apache/commons/math3/distribution/WeibullDistribution.class  \n",
            "  inflating: FastQC/org/apache/commons/math3/distribution/ZipfDistribution.class  \n",
            "   creating: FastQC/org/apache/commons/math3/exception/\n",
            "  inflating: FastQC/org/apache/commons/math3/exception/ConvergenceException.class  \n",
            "  inflating: FastQC/org/apache/commons/math3/exception/DimensionMismatchException.class  \n",
            "  inflating: FastQC/org/apache/commons/math3/exception/MathArithmeticException.class  \n",
            "  inflating: FastQC/org/apache/commons/math3/exception/MathIllegalArgumentException.class  \n",
            "  inflating: FastQC/org/apache/commons/math3/exception/MathIllegalNumberException.class  \n",
            "  inflating: FastQC/org/apache/commons/math3/exception/MathIllegalStateException.class  \n",
            "  inflating: FastQC/org/apache/commons/math3/exception/MathInternalError.class  \n",
            "  inflating: FastQC/org/apache/commons/math3/exception/MaxCountExceededException.class  \n",
            "  inflating: FastQC/org/apache/commons/math3/exception/NoBracketingException.class  \n",
            "  inflating: FastQC/org/apache/commons/math3/exception/NotFiniteNumberException.class  \n",
            "  inflating: FastQC/org/apache/commons/math3/exception/NotPositiveException.class  \n",
            "  inflating: FastQC/org/apache/commons/math3/exception/NotStrictlyPositiveException.class  \n",
            "  inflating: FastQC/org/apache/commons/math3/exception/NullArgumentException.class  \n",
            "  inflating: FastQC/org/apache/commons/math3/exception/NumberIsTooLargeException.class  \n",
            "  inflating: FastQC/org/apache/commons/math3/exception/NumberIsTooSmallException.class  \n",
            "  inflating: FastQC/org/apache/commons/math3/exception/OutOfRangeException.class  \n",
            "  inflating: FastQC/org/apache/commons/math3/exception/TooManyEvaluationsException.class  \n",
            "   creating: FastQC/org/apache/commons/math3/exception/util/\n",
            "  inflating: FastQC/org/apache/commons/math3/exception/util/ArgUtils.class  \n",
            "  inflating: FastQC/org/apache/commons/math3/exception/util/ExceptionContext.class  \n",
            "  inflating: FastQC/org/apache/commons/math3/exception/util/ExceptionContextProvider.class  \n",
            "  inflating: FastQC/org/apache/commons/math3/exception/util/Localizable.class  \n",
            "  inflating: FastQC/org/apache/commons/math3/exception/util/LocalizedFormats.class  \n",
            "   creating: FastQC/org/apache/commons/math3/random/\n",
            "  inflating: FastQC/org/apache/commons/math3/random/AbstractWell.class  \n",
            "  inflating: FastQC/org/apache/commons/math3/random/BitsStreamGenerator.class  \n",
            "  inflating: FastQC/org/apache/commons/math3/random/RandomData.class  \n",
            "  inflating: FastQC/org/apache/commons/math3/random/RandomDataImpl.class  \n",
            "  inflating: FastQC/org/apache/commons/math3/random/RandomGenerator.class  \n",
            "  inflating: FastQC/org/apache/commons/math3/random/Well19937c.class  \n",
            "   creating: FastQC/org/apache/commons/math3/special/\n",
            "  inflating: FastQC/org/apache/commons/math3/special/Beta$1.class  \n",
            "  inflating: FastQC/org/apache/commons/math3/special/Beta.class  \n",
            "  inflating: FastQC/org/apache/commons/math3/special/Erf.class  \n",
            "  inflating: FastQC/org/apache/commons/math3/special/Gamma$1.class  \n",
            "  inflating: FastQC/org/apache/commons/math3/special/Gamma.class  \n",
            "   creating: FastQC/org/apache/commons/math3/util/\n",
            "  inflating: FastQC/org/apache/commons/math3/util/ArithmeticUtils.class  \n",
            "  inflating: FastQC/org/apache/commons/math3/util/ContinuedFraction.class  \n",
            "  inflating: FastQC/org/apache/commons/math3/util/DoubleArray.class  \n",
            "  inflating: FastQC/org/apache/commons/math3/util/FastMath$ExpFracTable.class  \n",
            "  inflating: FastQC/org/apache/commons/math3/util/FastMath$ExpIntTable.class  \n",
            "  inflating: FastQC/org/apache/commons/math3/util/FastMath$lnMant.class  \n",
            "  inflating: FastQC/org/apache/commons/math3/util/FastMath.class  \n",
            "  inflating: FastQC/org/apache/commons/math3/util/FastMathCalc.class  \n",
            "  inflating: FastQC/org/apache/commons/math3/util/FastMathLiteralArrays.class  \n",
            "  inflating: FastQC/org/apache/commons/math3/util/Incrementor$1.class  \n",
            "  inflating: FastQC/org/apache/commons/math3/util/Incrementor$MaxCountExceededCallback.class  \n",
            "  inflating: FastQC/org/apache/commons/math3/util/Incrementor.class  \n",
            "  inflating: FastQC/org/apache/commons/math3/util/MathUtils.class  \n",
            "  inflating: FastQC/org/apache/commons/math3/util/Precision.class  \n",
            "  inflating: FastQC/org/apache/commons/math3/util/ResizableDoubleArray.class  \n",
            "  inflating: FastQC/README.md        \n",
            "  inflating: FastQC/README.txt       \n",
            "  inflating: FastQC/RELEASE_NOTES.txt  \n",
            "  inflating: FastQC/run_fastqc.bat   \n",
            "  inflating: FastQC/sam-1.103.jar    \n",
            "   creating: FastQC/Templates/\n",
            "  inflating: FastQC/Templates/fastqc2fo.xsl  \n",
            "  inflating: FastQC/Templates/header_template.html  \n",
            "   creating: FastQC/Templates/Icons/\n",
            " extracting: FastQC/Templates/Icons/error.png  \n",
            " extracting: FastQC/Templates/Icons/fastqc_icon.png  \n",
            " extracting: FastQC/Templates/Icons/tick.png  \n",
            " extracting: FastQC/Templates/Icons/warning.png  \n",
            "   creating: FastQC/uk/\n",
            "   creating: FastQC/uk/ac/\n",
            "   creating: FastQC/uk/ac/babraham/\n",
            "   creating: FastQC/uk/ac/babraham/FastQC/\n",
            "   creating: FastQC/uk/ac/babraham/FastQC/Analysis/\n",
            "  inflating: FastQC/uk/ac/babraham/FastQC/Analysis/AnalysisListener.class  \n",
            "  inflating: FastQC/uk/ac/babraham/FastQC/Analysis/AnalysisQueue.class  \n",
            "  inflating: FastQC/uk/ac/babraham/FastQC/Analysis/AnalysisRunner.class  \n",
            "  inflating: FastQC/uk/ac/babraham/FastQC/Analysis/OfflineRunner.class  \n",
            "   creating: FastQC/uk/ac/babraham/FastQC/Dialogs/\n",
            "  inflating: FastQC/uk/ac/babraham/FastQC/Dialogs/AboutDialog$1.class  \n",
            "  inflating: FastQC/uk/ac/babraham/FastQC/Dialogs/AboutDialog.class  \n",
            "  inflating: FastQC/uk/ac/babraham/FastQC/Dialogs/FastQCTitlePanel$SmoothJLabel.class  \n",
            "  inflating: FastQC/uk/ac/babraham/FastQC/Dialogs/FastQCTitlePanel.class  \n",
            "  inflating: FastQC/uk/ac/babraham/FastQC/Dialogs/WelcomePanel.class  \n",
            "  inflating: FastQC/uk/ac/babraham/FastQC/FastQCApplication$1.class  \n",
            "  inflating: FastQC/uk/ac/babraham/FastQC/FastQCApplication.class  \n",
            "  inflating: FastQC/uk/ac/babraham/FastQC/FastQCConfig.class  \n",
            "  inflating: FastQC/uk/ac/babraham/FastQC/FastQCMenuBar.class  \n",
            "   creating: FastQC/uk/ac/babraham/FastQC/FileFilters/\n",
            "  inflating: FastQC/uk/ac/babraham/FastQC/FileFilters/BAMFileFilter.class  \n",
            "  inflating: FastQC/uk/ac/babraham/FastQC/FileFilters/CasavaFastQFileFilter.class  \n",
            "  inflating: FastQC/uk/ac/babraham/FastQC/FileFilters/FastQFileFilter.class  \n",
            "  inflating: FastQC/uk/ac/babraham/FastQC/FileFilters/GobyFileFilter.class  \n",
            "  inflating: FastQC/uk/ac/babraham/FastQC/FileFilters/MappedBAMFileFilter.class  \n",
            "  inflating: FastQC/uk/ac/babraham/FastQC/FileFilters/SequenceFileFilter.class  \n",
            "   creating: FastQC/uk/ac/babraham/FastQC/Graphs/\n",
            "  inflating: FastQC/uk/ac/babraham/FastQC/Graphs/BaseGroup.class  \n",
            "  inflating: FastQC/uk/ac/babraham/FastQC/Graphs/LineGraph.class  \n",
            "  inflating: FastQC/uk/ac/babraham/FastQC/Graphs/QualityBoxPlot.class  \n",
            "  inflating: FastQC/uk/ac/babraham/FastQC/Graphs/TileGraph.class  \n",
            "   creating: FastQC/uk/ac/babraham/FastQC/Help/\n",
            "  inflating: FastQC/uk/ac/babraham/FastQC/Help/HelpDialog.class  \n",
            "  inflating: FastQC/uk/ac/babraham/FastQC/Help/HelpIndexRoot$FileSorter.class  \n",
            "  inflating: FastQC/uk/ac/babraham/FastQC/Help/HelpIndexRoot.class  \n",
            "  inflating: FastQC/uk/ac/babraham/FastQC/Help/HelpPage.class  \n",
            "  inflating: FastQC/uk/ac/babraham/FastQC/Help/HelpPageDisplay$HelpEditor.class  \n",
            "  inflating: FastQC/uk/ac/babraham/FastQC/Help/HelpPageDisplay.class  \n",
            "  inflating: FastQC/uk/ac/babraham/FastQC/Help/HelpSearchPanel.class  \n",
            "   creating: FastQC/uk/ac/babraham/FastQC/Modules/\n",
            "  inflating: FastQC/uk/ac/babraham/FastQC/Modules/AbstractQCModule.class  \n",
            "  inflating: FastQC/uk/ac/babraham/FastQC/Modules/AdapterContent$Adapter.class  \n",
            "  inflating: FastQC/uk/ac/babraham/FastQC/Modules/AdapterContent$ResultsTable.class  \n",
            "  inflating: FastQC/uk/ac/babraham/FastQC/Modules/AdapterContent.class  \n",
            "  inflating: FastQC/uk/ac/babraham/FastQC/Modules/BasicStats$ResultsTable.class  \n",
            "  inflating: FastQC/uk/ac/babraham/FastQC/Modules/BasicStats.class  \n",
            "  inflating: FastQC/uk/ac/babraham/FastQC/Modules/DuplicationLevel.class  \n",
            "   creating: FastQC/uk/ac/babraham/FastQC/Modules/GCModel/\n",
            "  inflating: FastQC/uk/ac/babraham/FastQC/Modules/GCModel/GCModel.class  \n",
            "  inflating: FastQC/uk/ac/babraham/FastQC/Modules/GCModel/GCModelValue.class  \n",
            "  inflating: FastQC/uk/ac/babraham/FastQC/Modules/KmerContent$Kmer.class  \n",
            "  inflating: FastQC/uk/ac/babraham/FastQC/Modules/KmerContent$ResultsTable.class  \n",
            "  inflating: FastQC/uk/ac/babraham/FastQC/Modules/KmerContent.class  \n",
            "  inflating: FastQC/uk/ac/babraham/FastQC/Modules/ModuleConfig.class  \n",
            "  inflating: FastQC/uk/ac/babraham/FastQC/Modules/ModuleFactory.class  \n",
            "  inflating: FastQC/uk/ac/babraham/FastQC/Modules/NContent.class  \n",
            "  inflating: FastQC/uk/ac/babraham/FastQC/Modules/OverRepresentedSeqs$OverrepresentedSeq.class  \n",
            "  inflating: FastQC/uk/ac/babraham/FastQC/Modules/OverRepresentedSeqs$ResultsTable.class  \n",
            "  inflating: FastQC/uk/ac/babraham/FastQC/Modules/OverRepresentedSeqs.class  \n",
            "  inflating: FastQC/uk/ac/babraham/FastQC/Modules/PerBaseQualityScores.class  \n",
            "  inflating: FastQC/uk/ac/babraham/FastQC/Modules/PerBaseSequenceContent.class  \n",
            "  inflating: FastQC/uk/ac/babraham/FastQC/Modules/PerSequenceGCContent.class  \n",
            "  inflating: FastQC/uk/ac/babraham/FastQC/Modules/PerSequenceQualityScores.class  \n",
            "  inflating: FastQC/uk/ac/babraham/FastQC/Modules/PerTileQualityScores.class  \n",
            "  inflating: FastQC/uk/ac/babraham/FastQC/Modules/QCModule.class  \n",
            "  inflating: FastQC/uk/ac/babraham/FastQC/Modules/SequenceLengthDistribution.class  \n",
            "   creating: FastQC/uk/ac/babraham/FastQC/Report/\n",
            "  inflating: FastQC/uk/ac/babraham/FastQC/Report/HTMLReportArchive.class  \n",
            "  inflating: FastQC/uk/ac/babraham/FastQC/Report/stylesheet.txt  \n",
            "   creating: FastQC/uk/ac/babraham/FastQC/Resources/\n",
            " extracting: FastQC/uk/ac/babraham/FastQC/Resources/error.png  \n",
            " extracting: FastQC/uk/ac/babraham/FastQC/Resources/fastqc_icon.png  \n",
            "  inflating: FastQC/uk/ac/babraham/FastQC/Resources/fastqc_icon.svg  \n",
            " extracting: FastQC/uk/ac/babraham/FastQC/Resources/fastqc_icon_100.png  \n",
            " extracting: FastQC/uk/ac/babraham/FastQC/Resources/tick.png  \n",
            " extracting: FastQC/uk/ac/babraham/FastQC/Resources/warning.png  \n",
            "   creating: FastQC/uk/ac/babraham/FastQC/Results/\n",
            "  inflating: FastQC/uk/ac/babraham/FastQC/Results/ResultsPanel$ModuleRenderer.class  \n",
            "  inflating: FastQC/uk/ac/babraham/FastQC/Results/ResultsPanel.class  \n",
            "   creating: FastQC/uk/ac/babraham/FastQC/Sequence/\n",
            "  inflating: FastQC/uk/ac/babraham/FastQC/Sequence/BAMFile.class  \n",
            "   creating: FastQC/uk/ac/babraham/FastQC/Sequence/Contaminant/\n",
            "  inflating: FastQC/uk/ac/babraham/FastQC/Sequence/Contaminant/Contaminant.class  \n",
            "  inflating: FastQC/uk/ac/babraham/FastQC/Sequence/Contaminant/ContaminantHit.class  \n",
            "  inflating: FastQC/uk/ac/babraham/FastQC/Sequence/Contaminant/ContaminentFinder.class  \n",
            "  inflating: FastQC/uk/ac/babraham/FastQC/Sequence/Fast5File.class  \n",
            "  inflating: FastQC/uk/ac/babraham/FastQC/Sequence/FastQFile.class  \n",
            "   creating: FastQC/uk/ac/babraham/FastQC/Sequence/QualityEncoding/\n",
            "  inflating: FastQC/uk/ac/babraham/FastQC/Sequence/QualityEncoding/PhredEncoding.class  \n",
            "  inflating: FastQC/uk/ac/babraham/FastQC/Sequence/Sequence.class  \n",
            "  inflating: FastQC/uk/ac/babraham/FastQC/Sequence/SequenceFactory.class  \n",
            "  inflating: FastQC/uk/ac/babraham/FastQC/Sequence/SequenceFile.class  \n",
            "  inflating: FastQC/uk/ac/babraham/FastQC/Sequence/SequenceFileGroup.class  \n",
            "  inflating: FastQC/uk/ac/babraham/FastQC/Sequence/SequenceFormatException.class  \n",
            "   creating: FastQC/uk/ac/babraham/FastQC/Statistics/\n",
            "  inflating: FastQC/uk/ac/babraham/FastQC/Statistics/NormalDistribution.class  \n",
            "  inflating: FastQC/uk/ac/babraham/FastQC/Statistics/PearsonCorrelation.class  \n",
            "   creating: FastQC/uk/ac/babraham/FastQC/Utilities/\n",
            "  inflating: FastQC/uk/ac/babraham/FastQC/Utilities/CasavaBasename.class  \n",
            "  inflating: FastQC/uk/ac/babraham/FastQC/Utilities/HotColdColourGradient.class  \n",
            "  inflating: FastQC/uk/ac/babraham/FastQC/Utilities/ImageToBase64.class  \n",
            "  inflating: FastQC/uk/ac/babraham/FastQC/Utilities/MultiMemberGZIPInputStream.class  \n",
            "  inflating: FastQC/uk/ac/babraham/FastQC/Utilities/NameFormatException.class  \n",
            "  inflating: FastQC/uk/ac/babraham/FastQC/Utilities/NanoporeBasename.class  \n",
            "  inflating: FastQC/uk/ac/babraham/FastQC/Utilities/QualityCount.class  \n",
            "  inflating: FastQC/uk/ac/babraham/FastQC/Utilities/RGB.class  \n"
          ]
        }
      ],
      "source": [
        "!wget https://www.bioinformatics.babraham.ac.uk/projects/fastqc/fastqc_v0.11.9.zip\n",
        "!unzip fastqc_v0.11.9.zip\n",
        "!chmod a+x FastQC/fastqc\n",
        "!rm fastqc_v0.11.9.zip"
      ]
    },
    {
      "cell_type": "markdown",
      "metadata": {
        "id": "_zEx3USYPKoR"
      },
      "source": [
        "Можно получать данные секвенировия с ENA. Например, https://www.ebi.ac.uk/ena/browser/view/SRR5836473"
      ]
    },
    {
      "cell_type": "code",
      "execution_count": null,
      "metadata": {
        "colab": {
          "base_uri": "https://localhost:8080/"
        },
        "id": "c5QMGKJYxrza",
        "outputId": "dd563317-c65e-4fe6-bdb2-c37e86a7b980"
      },
      "outputs": [
        {
          "name": "stdout",
          "output_type": "stream",
          "text": [
            "--2022-02-18 22:21:10--  ftp://ftp.sra.ebi.ac.uk/vol1/fastq/SRR583/003/SRR5836473/SRR5836473_1.fastq.gz\n",
            "           => ‘SRR5836473_1.fastq.gz’\n",
            "Resolving ftp.sra.ebi.ac.uk (ftp.sra.ebi.ac.uk)... 193.62.197.74\n",
            "Connecting to ftp.sra.ebi.ac.uk (ftp.sra.ebi.ac.uk)|193.62.197.74|:21... connected.\n",
            "Logging in as anonymous ... Logged in!\n",
            "==> SYST ... done.    ==> PWD ... done.\n",
            "==> TYPE I ... done.  ==> CWD (1) /vol1/fastq/SRR583/003/SRR5836473 ... done.\n",
            "==> SIZE SRR5836473_1.fastq.gz ... 6856386252\n",
            "==> PASV ... done.    ==> RETR SRR5836473_1.fastq.gz ... done.\n",
            "Length: 6856386252 (6.4G) (unauthoritative)\n",
            "\n",
            "SRR5836473_1.fastq. 100%[===================>]   6.38G  11.9MB/s    in 9m 48s  \n",
            "\n",
            "2022-02-18 22:31:03 (11.1 MB/s) - ‘SRR5836473_1.fastq.gz’ saved [6856386252]\n",
            "\n",
            "Started analysis of SRR5836473_1.fastq\n",
            "Approx 5% complete for SRR5836473_1.fastq\n",
            "Approx 10% complete for SRR5836473_1.fastq\n",
            "Approx 15% complete for SRR5836473_1.fastq\n",
            "Approx 20% complete for SRR5836473_1.fastq\n",
            "Approx 25% complete for SRR5836473_1.fastq\n",
            "Approx 30% complete for SRR5836473_1.fastq\n",
            "Approx 35% complete for SRR5836473_1.fastq\n",
            "Approx 40% complete for SRR5836473_1.fastq\n",
            "Approx 45% complete for SRR5836473_1.fastq\n",
            "Approx 50% complete for SRR5836473_1.fastq\n",
            "Approx 55% complete for SRR5836473_1.fastq\n",
            "Approx 60% complete for SRR5836473_1.fastq\n",
            "Approx 65% complete for SRR5836473_1.fastq\n",
            "Approx 70% complete for SRR5836473_1.fastq\n",
            "Approx 75% complete for SRR5836473_1.fastq\n",
            "Approx 80% complete for SRR5836473_1.fastq\n",
            "Approx 85% complete for SRR5836473_1.fastq\n",
            "Approx 90% complete for SRR5836473_1.fastq\n",
            "Approx 95% complete for SRR5836473_1.fastq\n",
            "Analysis complete for SRR5836473_1.fastq\n",
            "rm: cannot remove '/content/SRR5836473_1.fastq.gz': No such file or directory\n"
          ]
        }
      ],
      "source": [
        "!wget ftp://ftp.sra.ebi.ac.uk/vol1/fastq/SRR583/003/SRR5836473/SRR5836473_1.fastq.gz\n",
        "!gunzip /content/SRR5836473_1.fastq.gz\n",
        "!./FastQC/fastqc  /content/SRR5836473_1.fastq\n",
        "!rm /content/SRR5836473_1.fastq.gz\n",
        "!rm SRR5836473_1_fastqc.zip"
      ]
    },
    {
      "cell_type": "code",
      "execution_count": null,
      "metadata": {
        "id": "cxkZFk-AU0pR"
      },
      "outputs": [],
      "source": [
        "!rm SRR5836473_1.fastq"
      ]
    },
    {
      "cell_type": "code",
      "execution_count": null,
      "metadata": {
        "colab": {
          "base_uri": "https://localhost:8080/"
        },
        "id": "1LSLq-XHMame",
        "outputId": "2998993e-6fd8-497e-bdbc-0d0c254f8787"
      },
      "outputs": [
        {
          "name": "stdout",
          "output_type": "stream",
          "text": [
            "--2022-02-18 23:33:20--  ftp://ftp.sra.ebi.ac.uk/vol1/fastq/SRR382/002/SRR3824222/SRR3824222_1.fastq.gz\n",
            "           => ‘SRR3824222_1.fastq.gz’\n",
            "Resolving ftp.sra.ebi.ac.uk (ftp.sra.ebi.ac.uk)... 193.62.197.74\n",
            "Connecting to ftp.sra.ebi.ac.uk (ftp.sra.ebi.ac.uk)|193.62.197.74|:21... connected.\n",
            "Logging in as anonymous ... Logged in!\n",
            "==> SYST ... done.    ==> PWD ... done.\n",
            "==> TYPE I ... done.  ==> CWD (1) /vol1/fastq/SRR382/002/SRR3824222 ... done.\n",
            "==> SIZE SRR3824222_1.fastq.gz ... 8096784759\n",
            "==> PASV ... done.    ==> RETR SRR3824222_1.fastq.gz ... done.\n",
            "Length: 8096784759 (7.5G) (unauthoritative)\n",
            "\n",
            "SRR3824222_1.fastq. 100%[===================>]   7.54G  12.2MB/s    in 10m 46s \n",
            "\n",
            "2022-02-18 23:44:09 (11.9 MB/s) - Control connection closed.\n",
            "Retrying.\n",
            "\n",
            "--2022-02-18 23:59:10--  ftp://ftp.sra.ebi.ac.uk/vol1/fastq/SRR382/002/SRR3824222/SRR3824222_1.fastq.gz\n",
            "  (try: 2) => ‘SRR3824222_1.fastq.gz’\n",
            "Connecting to ftp.sra.ebi.ac.uk (ftp.sra.ebi.ac.uk)|193.62.197.74|:21... connected.\n",
            "Logging in as anonymous ... Logged in!\n",
            "==> SYST ... done.    ==> PWD ... done.\n",
            "==> TYPE I ... done.  ==> CWD (1) /vol1/fastq/SRR382/002/SRR3824222 ... done.\n",
            "==> SIZE SRR3824222_1.fastq.gz ... 8096784759\n",
            "File has already been retrieved.\n",
            "2022-02-18 23:59:12 (0.00 B/s) - ‘SRR3824222_1.fastq.gz’ saved [8096784759]\n",
            "\n",
            "Started analysis of SRR3824222_1.fastq\n",
            "Approx 5% complete for SRR3824222_1.fastq\n",
            "Approx 10% complete for SRR3824222_1.fastq\n",
            "Approx 15% complete for SRR3824222_1.fastq\n",
            "Approx 20% complete for SRR3824222_1.fastq\n",
            "Approx 25% complete for SRR3824222_1.fastq\n",
            "Approx 30% complete for SRR3824222_1.fastq\n",
            "Approx 35% complete for SRR3824222_1.fastq\n",
            "Approx 40% complete for SRR3824222_1.fastq\n",
            "Approx 45% complete for SRR3824222_1.fastq\n",
            "Approx 50% complete for SRR3824222_1.fastq\n",
            "Approx 55% complete for SRR3824222_1.fastq\n",
            "Approx 60% complete for SRR3824222_1.fastq\n",
            "Approx 65% complete for SRR3824222_1.fastq\n",
            "Approx 70% complete for SRR3824222_1.fastq\n",
            "Approx 75% complete for SRR3824222_1.fastq\n",
            "Approx 80% complete for SRR3824222_1.fastq\n",
            "Approx 85% complete for SRR3824222_1.fastq\n",
            "Approx 90% complete for SRR3824222_1.fastq\n",
            "Approx 95% complete for SRR3824222_1.fastq\n",
            "Analysis complete for SRR3824222_1.fastq\n",
            "rm: cannot remove '/content/SRR3824222_1.fastq.gz': No such file or directory\n",
            "rm: cannot remove 'SRR3824222_1_fastq.zip': No such file or directory\n"
          ]
        }
      ],
      "source": [
        "!wget ftp://ftp.sra.ebi.ac.uk/vol1/fastq/SRR382/002/SRR3824222/SRR3824222_1.fastq.gz\n",
        "!gunzip /content/SRR3824222_1.fastq.gz\n",
        "!./FastQC/fastqc  /content/SRR3824222_1.fastq\n",
        "!rm /content/SRR3824222_1.fastq.gz\n",
        "!rm SRR3824222_1_fastqc.zip"
      ]
    },
    {
      "cell_type": "code",
      "execution_count": null,
      "metadata": {
        "id": "9EA8bS3RX6_w"
      },
      "outputs": [],
      "source": [
        "!rm SRR3824222_1.fastq"
      ]
    },
    {
      "cell_type": "code",
      "execution_count": null,
      "metadata": {
        "colab": {
          "base_uri": "https://localhost:8080/"
        },
        "id": "osRsjbFLMdet",
        "outputId": "8388abe6-7cf7-4de6-cba5-1e95b9c0c320"
      },
      "outputs": [
        {
          "name": "stdout",
          "output_type": "stream",
          "text": [
            "--2022-02-18 00:30:15--  ftp://ftp.sra.ebi.ac.uk/vol1/fastq/SRR583/005/SRR5836475/SRR5836475_1.fastq.gz\n",
            "           => ‘SRR5836475_1.fastq.gz’\n",
            "Resolving ftp.sra.ebi.ac.uk (ftp.sra.ebi.ac.uk)... 193.62.197.74\n",
            "Connecting to ftp.sra.ebi.ac.uk (ftp.sra.ebi.ac.uk)|193.62.197.74|:21... connected.\n",
            "Logging in as anonymous ... Logged in!\n",
            "==> SYST ... done.    ==> PWD ... done.\n",
            "==> TYPE I ... done.  ==> CWD (1) /vol1/fastq/SRR583/005/SRR5836475 ... done.\n",
            "==> SIZE SRR5836475_1.fastq.gz ... 6139527111\n",
            "==> PASV ... done.    ==> RETR SRR5836475_1.fastq.gz ... done.\n",
            "Length: 6139527111 (5.7G) (unauthoritative)\n",
            "\n",
            "SRR5836475_1.fastq. 100%[===================>]   5.72G  10.6MB/s    in 9m 17s  \n",
            "\n",
            "2022-02-18 00:39:36 (10.5 MB/s) - ‘SRR5836475_1.fastq.gz’ saved [6139527111]\n",
            "\n",
            "Started analysis of SRR5836475_1.fastq\n",
            "Approx 5% complete for SRR5836475_1.fastq\n",
            "Approx 10% complete for SRR5836475_1.fastq\n",
            "Approx 15% complete for SRR5836475_1.fastq\n",
            "Approx 20% complete for SRR5836475_1.fastq\n",
            "Approx 25% complete for SRR5836475_1.fastq\n",
            "Approx 30% complete for SRR5836475_1.fastq\n",
            "Approx 35% complete for SRR5836475_1.fastq\n",
            "Approx 40% complete for SRR5836475_1.fastq\n",
            "Approx 45% complete for SRR5836475_1.fastq\n",
            "Approx 50% complete for SRR5836475_1.fastq\n",
            "Approx 55% complete for SRR5836475_1.fastq\n",
            "Approx 60% complete for SRR5836475_1.fastq\n",
            "Approx 65% complete for SRR5836475_1.fastq\n",
            "Approx 70% complete for SRR5836475_1.fastq\n",
            "Approx 75% complete for SRR5836475_1.fastq\n",
            "Approx 80% complete for SRR5836475_1.fastq\n",
            "Approx 85% complete for SRR5836475_1.fastq\n",
            "Approx 90% complete for SRR5836475_1.fastq\n",
            "Approx 95% complete for SRR5836475_1.fastq\n",
            "Analysis complete for SRR5836475_1.fastq\n",
            "rm: cannot remove '/content/SRR5836475_1.fastq.gz': No such file or directory\n",
            "rm: cannot remove 'SRR5836475_1_fastq.gz': No such file or directory\n"
          ]
        }
      ],
      "source": [
        "!wget ftp://ftp.sra.ebi.ac.uk/vol1/fastq/SRR583/005/SRR5836475/SRR5836475_1.fastq.gz\n",
        "!gunzip /content/SRR5836475_1.fastq.gz\n",
        "!./FastQC/fastqc  /content/SRR5836475_1.fastq\n",
        "!rm /content/SRR5836475_1.fastq.gz\n",
        "!rm SRR5836475_1_fastqc.zip"
      ]
    },
    {
      "cell_type": "code",
      "execution_count": null,
      "metadata": {
        "id": "KFVxUiBwLSjS"
      },
      "outputs": [],
      "source": [
        "!rm SRR5836475_1.fastq"
      ]
    },
    {
      "cell_type": "markdown",
      "metadata": {
        "id": "Ugk3bV0LI5El"
      },
      "source": [
        "# Установка Bismark с зависимостями (+bowtie2, samtools)"
      ]
    },
    {
      "cell_type": "code",
      "execution_count": null,
      "metadata": {
        "colab": {
          "base_uri": "https://localhost:8080/"
        },
        "id": "uSOZLyn5n5Nl",
        "outputId": "766a9b15-555c-45a7-9260-0b120d370ecd"
      },
      "outputs": [
        {
          "name": "stdout",
          "output_type": "stream",
          "text": [
            "⏬ Downloading https://github.com/jaimergp/miniforge/releases/latest/download/Mambaforge-colab-Linux-x86_64.sh...\n",
            "📦 Installing...\n",
            "📌 Adjusting configuration...\n",
            "🩹 Patching environment...\n",
            "⏲ Done in 0:00:46\n",
            "🔁 Restarting kernel...\n"
          ]
        }
      ],
      "source": [
        "! pip install -q condacolab\n",
        "import condacolab\n",
        "condacolab.install()"
      ]
    },
    {
      "cell_type": "code",
      "execution_count": null,
      "metadata": {
        "colab": {
          "base_uri": "https://localhost:8080/"
        },
        "id": "npb--DNtn52o",
        "outputId": "1098f49d-ba53-4faf-cdf6-824d2bbce6a5"
      },
      "outputs": [
        {
          "name": "stdout",
          "output_type": "stream",
          "text": [
            "✨🍰✨ Everything looks OK!\n",
            "✨🍰✨ Everything looks OK!\n"
          ]
        }
      ],
      "source": [
        "import condacolab\n",
        "condacolab.check()"
      ]
    },
    {
      "cell_type": "code",
      "execution_count": null,
      "metadata": {
        "colab": {
          "base_uri": "https://localhost:8080/"
        },
        "id": "MfBSN4YuoCL6",
        "outputId": "945c9711-68a6-4b7e-a838-1d0c994b76cf"
      },
      "outputs": [
        {
          "name": "stdout",
          "output_type": "stream",
          "text": [
            "Collecting package metadata (current_repodata.json): - \b\b\\ \b\b| \b\b/ \b\b- \b\b\\ \b\b| \b\b/ \b\b- \b\b\\ \b\b| \b\b/ \b\b- \b\b\\ \b\b| \b\b/ \b\b- \b\b\\ \b\b| \b\b/ \b\b- \b\b\\ \b\b| \b\b/ \b\b- \b\b\\ \b\b| \b\b/ \b\b- \b\b\\ \b\b| \b\b/ \b\b- \b\b\\ \b\b| \b\b/ \b\b- \b\b\\ \b\b| \b\b/ \b\b- \b\b\\ \b\b| \b\b/ \b\b- \b\b\\ \b\b| \b\b/ \b\b- \b\b\\ \b\b| \b\b/ \b\b- \b\b\\ \b\b| \b\b/ \b\b- \b\b\\ \b\b| \b\b/ \b\b- \b\b\\ \b\b| \b\b/ \b\b- \b\b\\ \b\b| \b\b/ \b\b- \b\b\\ \b\b| \b\b/ \b\b- \b\b\\ \b\b| \b\b/ \b\b- \b\b\\ \b\b| \b\b/ \b\b- \b\b\\ \b\b| \b\b/ \b\b- \b\b\\ \b\b| \b\b/ \b\b- \b\b\\ \b\b| \b\b/ \b\b- \b\b\\ \b\b| \b\b/ \b\b- \b\b\\ \b\b| \b\b/ \b\bdone\n",
            "Solving environment: \\ \b\b| \b\b/ \b\b- \b\b\\ \b\b| \b\b/ \b\b- \b\b\\ \b\bdone\n",
            "\n",
            "## Package Plan ##\n",
            "\n",
            "  environment location: /usr/local\n",
            "\n",
            "  added / updated specs:\n",
            "    - bismark\n",
            "\n",
            "\n",
            "The following packages will be downloaded:\n",
            "\n",
            "    package                    |            build\n",
            "    ---------------------------|-----------------\n",
            "    bismark-0.23.1             |       hdfd78af_0         6.6 MB  bioconda\n",
            "    bowtie2-2.2.5              |   py37h22450f8_8        14.9 MB  bioconda\n",
            "    ca-certificates-2021.10.8  |       ha878542_0         139 KB  conda-forge\n",
            "    certifi-2021.10.8          |   py37h89c1867_1         145 KB  conda-forge\n",
            "    conda-4.12.0               |   py37h89c1867_0         1.0 MB  conda-forge\n",
            "    hisat2-2.2.1               |       h1b792b2_3        16.5 MB  bioconda\n",
            "    perl-5.32.1                | 0_h7f98852_perl5        14.5 MB  conda-forge\n",
            "    python_abi-3.7             |          2_cp37m           4 KB  conda-forge\n",
            "    samtools-1.3.1             |                0         1.5 MB  bioconda\n",
            "    ------------------------------------------------------------\n",
            "                                           Total:        55.2 MB\n",
            "\n",
            "The following NEW packages will be INSTALLED:\n",
            "\n",
            "  bismark            bioconda/noarch::bismark-0.23.1-hdfd78af_0\n",
            "  bowtie2            bioconda/linux-64::bowtie2-2.2.5-py37h22450f8_8\n",
            "  hisat2             bioconda/linux-64::hisat2-2.2.1-h1b792b2_3\n",
            "  perl               conda-forge/linux-64::perl-5.32.1-0_h7f98852_perl5\n",
            "  samtools           bioconda/linux-64::samtools-1.3.1-0\n",
            "\n",
            "The following packages will be UPDATED:\n",
            "\n",
            "  ca-certificates                      2020.12.5-ha878542_0 --> 2021.10.8-ha878542_0\n",
            "  certifi                          2020.12.5-py37h89c1867_1 --> 2021.10.8-py37h89c1867_1\n",
            "  conda                                4.9.2-py37h89c1867_0 --> 4.12.0-py37h89c1867_0\n",
            "  python_abi                                    3.7-1_cp37m --> 3.7-2_cp37m\n",
            "\n",
            "\n",
            "\n",
            "Downloading and Extracting Packages\n",
            "ca-certificates-2021 | 139 KB    | : 100% 1.0/1 [00:00<00:00,  9.93it/s]\n",
            "perl-5.32.1          | 14.5 MB   | : 100% 1.0/1 [00:04<00:00,  4.14s/it]\n",
            "hisat2-2.2.1         | 16.5 MB   | : 100% 1.0/1 [00:03<00:00,  3.25s/it]\n",
            "bowtie2-2.2.5        | 14.9 MB   | : 100% 1.0/1 [00:02<00:00,  2.93s/it]\n",
            "bismark-0.23.1       | 6.6 MB    | : 100% 1.0/1 [00:01<00:00,  1.49s/it]\n",
            "conda-4.12.0         | 1.0 MB    | : 100% 1.0/1 [00:00<00:00,  3.21it/s]\n",
            "samtools-1.3.1       | 1.5 MB    | : 100% 1.0/1 [00:00<00:00,  3.01it/s]\n",
            "certifi-2021.10.8    | 145 KB    | : 100% 1.0/1 [00:00<00:00, 16.35it/s]\n",
            "python_abi-3.7       | 4 KB      | : 100% 1.0/1 [00:00<00:00, 32.21it/s]\n",
            "Preparing transaction: / \b\b- \b\bdone\n",
            "Verifying transaction: | \b\b/ \b\b- \b\b\\ \b\b| \b\b/ \b\bdone\n",
            "Executing transaction: \\ \b\b| \b\b/ \b\bdone\n"
          ]
        }
      ],
      "source": [
        "! conda install -c bioconda bismark"
      ]
    },
    {
      "cell_type": "code",
      "execution_count": null,
      "metadata": {
        "colab": {
          "base_uri": "https://localhost:8080/"
        },
        "id": "13VM_exnoHEl",
        "outputId": "4286d77c-295f-4acc-b5df-1c7210b8e165"
      },
      "outputs": [
        {
          "name": "stdout",
          "output_type": "stream",
          "text": [
            "\n",
            "Usage: samtools view [options] <in.bam>|<in.sam>|<in.cram> [region ...]\n",
            "\n",
            "Options:\n",
            "  -b       output BAM\n",
            "  -C       output CRAM (requires -T)\n",
            "  -1       use fast BAM compression (implies -b)\n",
            "  -u       uncompressed BAM output (implies -b)\n",
            "  -h       include header in SAM output\n",
            "  -H       print SAM header only (no alignments)\n",
            "  -c       print only the count of matching records\n",
            "  -o FILE  output file name [stdout]\n",
            "  -U FILE  output reads not selected by filters to FILE [null]\n",
            "  -t FILE  FILE listing reference names and lengths (see long help) [null]\n",
            "  -L FILE  only include reads overlapping this BED FILE [null]\n",
            "  -r STR   only include reads in read group STR [null]\n",
            "  -R FILE  only include reads with read group listed in FILE [null]\n",
            "  -q INT   only include reads with mapping quality >= INT [0]\n",
            "  -l STR   only include reads in library STR [null]\n",
            "  -m INT   only include reads with number of CIGAR operations consuming\n",
            "           query sequence >= INT [0]\n",
            "  -f INT   only include reads with all bits set in INT set in FLAG [0]\n",
            "  -F INT   only include reads with none of the bits set in INT set in FLAG [0]\n",
            "  -x STR   read tag to strip (repeatable) [null]\n",
            "  -B       collapse the backward CIGAR operation\n",
            "  -s FLOAT integer part sets seed of random number generator [0];\n",
            "           rest sets fraction of templates to subsample [no subsampling]\n",
            "  -@, --threads INT\n",
            "           number of BAM/CRAM compression threads [0]\n",
            "  -?       print long help, including note about region specification\n",
            "  -S       ignored (input format is auto-detected)\n",
            "      --input-fmt-option OPT[=VAL]\n",
            "               Specify a single input file format option in the form\n",
            "               of OPTION or OPTION=VALUE\n",
            "  -O, --output-fmt FORMAT[,OPT[=VAL]]...\n",
            "               Specify output format (SAM, BAM, CRAM)\n",
            "      --output-fmt-option OPT[=VAL]\n",
            "               Specify a single output file format option in the form\n",
            "               of OPTION or OPTION=VALUE\n",
            "  -T, --reference FILE\n",
            "               Reference sequence FASTA FILE [null]\n",
            "\n"
          ]
        }
      ],
      "source": [
        "! samtools view"
      ]
    },
    {
      "cell_type": "markdown",
      "metadata": {
        "id": "lBUia_8DP-gu"
      },
      "source": [
        "Можно загрузить файл с google drive напрямую:"
      ]
    },
    {
      "cell_type": "code",
      "execution_count": null,
      "metadata": {
        "id": "1EIlznsb14lV"
      },
      "outputs": [],
      "source": [
        "import gdown"
      ]
    },
    {
      "cell_type": "code",
      "execution_count": null,
      "metadata": {
        "colab": {
          "base_uri": "https://localhost:8080/",
          "height": 105
        },
        "id": "Xk4d5WBh0peD",
        "outputId": "201c9ca1-ad49-4257-d182-856828849637"
      },
      "outputs": [
        {
          "name": "stderr",
          "output_type": "stream",
          "text": [
            "Downloading...\n",
            "From: https://drive.google.com/uc?id=1A0yrDgfIyBir3fPgT9_mclEZNOUkhCfP&confirm=t\n",
            "To: /content/SRR5836473_1_bismark_bt2_pe.bam\n",
            "100%|██████████| 667M/667M [00:03<00:00, 205MB/s]\n"
          ]
        },
        {
          "data": {
            "application/vnd.google.colaboratory.intrinsic+json": {
              "type": "string"
            },
            "text/plain": [
              "'SRR5836473_1_bismark_bt2_pe.bam'"
            ]
          },
          "execution_count": 6,
          "metadata": {},
          "output_type": "execute_result"
        }
      ],
      "source": [
        "id = \"1A0yrDgfIyBir3fPgT9_mclEZNOUkhCfP\"\n",
        "gdown.download(f'https://drive.google.com/uc?id={id}&confirm=t', quiet=False)"
      ]
    },
    {
      "cell_type": "code",
      "execution_count": null,
      "metadata": {
        "colab": {
          "base_uri": "https://localhost:8080/",
          "height": 105
        },
        "id": "r-Q-zX3D0YGU",
        "outputId": "f970da33-0a89-459b-f21e-978e970c15f7"
      },
      "outputs": [
        {
          "name": "stderr",
          "output_type": "stream",
          "text": [
            "Downloading...\n",
            "From: https://drive.google.com/uc?id=1tnhtwKBO2Fszj-Im30XuuADtO7oIN5-B&confirm=t\n",
            "To: /content/SRR5836473_1_bismark_bt2_PE_report.txt\n",
            "100%|██████████| 1.90k/1.90k [00:00<00:00, 3.39MB/s]\n"
          ]
        },
        {
          "data": {
            "application/vnd.google.colaboratory.intrinsic+json": {
              "type": "string"
            },
            "text/plain": [
              "'SRR5836473_1_bismark_bt2_PE_report.txt'"
            ]
          },
          "execution_count": 7,
          "metadata": {},
          "output_type": "execute_result"
        }
      ],
      "source": [
        "id = \"1tnhtwKBO2Fszj-Im30XuuADtO7oIN5-B\"\n",
        "gdown.download(f'https://drive.google.com/uc?id={id}&confirm=t', quiet=False)"
      ]
    },
    {
      "cell_type": "code",
      "execution_count": null,
      "metadata": {
        "colab": {
          "base_uri": "https://localhost:8080/",
          "height": 105
        },
        "id": "gc8oLYwp0s4o",
        "outputId": "11fb6fe7-d497-4e12-f742-c01c82982b0f"
      },
      "outputs": [
        {
          "name": "stderr",
          "output_type": "stream",
          "text": [
            "Downloading...\n",
            "From: https://drive.google.com/uc?id=1NmzWngRAZvChd1C7JlNkIr2iQShW1BRm&confirm=t\n",
            "To: /content/SRR3824222_1_bismark_bt2_pe.bam\n",
            "100%|██████████| 1.56G/1.56G [00:19<00:00, 80.2MB/s]\n"
          ]
        },
        {
          "data": {
            "application/vnd.google.colaboratory.intrinsic+json": {
              "type": "string"
            },
            "text/plain": [
              "'SRR3824222_1_bismark_bt2_pe.bam'"
            ]
          },
          "execution_count": 8,
          "metadata": {},
          "output_type": "execute_result"
        }
      ],
      "source": [
        "id = \"1NmzWngRAZvChd1C7JlNkIr2iQShW1BRm\"\n",
        "gdown.download(f'https://drive.google.com/uc?id={id}&confirm=t', quiet=False)"
      ]
    },
    {
      "cell_type": "code",
      "execution_count": null,
      "metadata": {
        "colab": {
          "base_uri": "https://localhost:8080/",
          "height": 105
        },
        "id": "95qrR8PM0y2L",
        "outputId": "0f4c4c46-1954-40c1-8f6c-31c2640431ca"
      },
      "outputs": [
        {
          "name": "stderr",
          "output_type": "stream",
          "text": [
            "Downloading...\n",
            "From: https://drive.google.com/uc?id=1a-USP32jw0n6L9pRqsbUCjt4j8VopPBg&confirm=t\n",
            "To: /content/SRR3824222_1_bismark_bt2_PE_report.txt\n",
            "100%|██████████| 1.90k/1.90k [00:00<00:00, 1.80MB/s]\n"
          ]
        },
        {
          "data": {
            "application/vnd.google.colaboratory.intrinsic+json": {
              "type": "string"
            },
            "text/plain": [
              "'SRR3824222_1_bismark_bt2_PE_report.txt'"
            ]
          },
          "execution_count": 9,
          "metadata": {},
          "output_type": "execute_result"
        }
      ],
      "source": [
        "id = \"1a-USP32jw0n6L9pRqsbUCjt4j8VopPBg\"\n",
        "gdown.download(f'https://drive.google.com/uc?id={id}&confirm=t', quiet=False)"
      ]
    },
    {
      "cell_type": "code",
      "execution_count": null,
      "metadata": {
        "colab": {
          "base_uri": "https://localhost:8080/",
          "height": 105
        },
        "id": "HO2ho1xO06jy",
        "outputId": "294922d1-79ec-4099-b64a-5470f1d6f0d7"
      },
      "outputs": [
        {
          "name": "stderr",
          "output_type": "stream",
          "text": [
            "Downloading...\n",
            "From: https://drive.google.com/uc?id=1q74W3m0bC41q5x29yO2G4tjesLl-1jih&confirm=t\n",
            "To: /content/SRR5836475_1_bismark_bt2_pe.bam\n",
            "100%|██████████| 960M/960M [00:14<00:00, 65.0MB/s]\n"
          ]
        },
        {
          "data": {
            "application/vnd.google.colaboratory.intrinsic+json": {
              "type": "string"
            },
            "text/plain": [
              "'SRR5836475_1_bismark_bt2_pe.bam'"
            ]
          },
          "execution_count": 10,
          "metadata": {},
          "output_type": "execute_result"
        }
      ],
      "source": [
        "id = \"1q74W3m0bC41q5x29yO2G4tjesLl-1jih\"\n",
        "gdown.download(f'https://drive.google.com/uc?id={id}&confirm=t', quiet=False)"
      ]
    },
    {
      "cell_type": "code",
      "execution_count": null,
      "metadata": {
        "colab": {
          "base_uri": "https://localhost:8080/",
          "height": 105
        },
        "id": "XvyQXJl807OV",
        "outputId": "7b8705c9-248f-4903-9afb-f16e81f3d312"
      },
      "outputs": [
        {
          "name": "stderr",
          "output_type": "stream",
          "text": [
            "Downloading...\n",
            "From: https://drive.google.com/uc?id=14vyhf4aKfEPXR2yfK1Rk_f3Muzf1hL40&confirm=t\n",
            "To: /content/SRR5836475_1_bismark_bt2_PE_report.txt\n",
            "100%|██████████| 1.89k/1.89k [00:00<00:00, 3.56MB/s]\n"
          ]
        },
        {
          "data": {
            "application/vnd.google.colaboratory.intrinsic+json": {
              "type": "string"
            },
            "text/plain": [
              "'SRR5836475_1_bismark_bt2_PE_report.txt'"
            ]
          },
          "execution_count": 11,
          "metadata": {},
          "output_type": "execute_result"
        }
      ],
      "source": [
        "id = \"14vyhf4aKfEPXR2yfK1Rk_f3Muzf1hL40\"\n",
        "gdown.download(f'https://drive.google.com/uc?id={id}&confirm=t', quiet=False)"
      ]
    },
    {
      "cell_type": "code",
      "execution_count": null,
      "metadata": {
        "colab": {
          "base_uri": "https://localhost:8080/"
        },
        "id": "AxMpAQFVQFR8",
        "outputId": "8abb99b6-f7ee-4389-8c54-bd2e0593d320"
      },
      "outputs": [
        {
          "name": "stdout",
          "output_type": "stream",
          "text": [
            "total 3.0G\n",
            "-rw-r--r-- 1 root root  14K Mar 21 16:44 condacolab_install.log\n",
            "drwxr-xr-x 1 root root 4.0K Mar  9 14:48 sample_data\n",
            "-rw-r--r-- 1 root root 1.5G Mar 21 16:46 SRR3824222_1_bismark_bt2_pe.bam\n",
            "-rw-r--r-- 1 root root 1.9K Mar 21 16:46 SRR3824222_1_bismark_bt2_PE_report.txt\n",
            "-rw-r--r-- 1 root root 636M Mar 21 16:45 SRR5836473_1_bismark_bt2_pe.bam\n",
            "-rw-r--r-- 1 root root 1.9K Mar 21 16:45 SRR5836473_1_bismark_bt2_PE_report.txt\n",
            "-rw-r--r-- 1 root root 916M Mar 21 16:46 SRR5836475_1_bismark_bt2_pe.bam\n",
            "-rw-r--r-- 1 root root 1.9K Mar 21 16:46 SRR5836475_1_bismark_bt2_PE_report.txt\n"
          ]
        }
      ],
      "source": [
        "! ls -lh"
      ]
    },
    {
      "cell_type": "code",
      "execution_count": null,
      "metadata": {
        "colab": {
          "base_uri": "https://localhost:8080/"
        },
        "id": "yMQy_LQ8xSOP",
        "outputId": "5cc075d9-aaba-4597-ff63-9ca3e686853a"
      },
      "outputs": [
        {
          "name": "stdout",
          "output_type": "stream",
          "text": [
            "SRR5836473.18_18/1\t99\tchr11\t116830009\t0\t139M\t=\t116830059\t190\tTTTATTTTGTTATTGGATTTAGAGATTATTTGGCGGGAATCGGGTTTTTTTTTTTTTTTTTTATAATAGAGTGTCGTAATAGTAAAATTGAGTTTTGATTAGAGTGATTTTGATTTGGTTTCGTTTTTTTTTTCGTTCG\tFKKKKKKKKKKKKKKKK<FKKKKFKKKKKKKKKKKKKFKKKKKKFAFKKKKKKKKKKKKKKKAKFFFFKFF7FFFKFKK7AKKKKKKKKAFKKKKAFKKAFKFK,F<FAKKKAFAFFF,FKKKKKKKKKKKKFF<A77F\tNM:i:37\tMD:Z:0C1C2C0C2C2C6C0C23C0C0C0C0C1C0C0C0C0C2C0C2C4C0T8G2C12C4T1C7C0C4C4C1C4C3C2C3C2\tXM:Z:h.h..hx..h..x......x.............Z......Z...hhhhh.hhhhh..hh..h....x.......Z....x............h......x.......hh....h....h.xZ...h...h..xZ..xZ.\tXR:Z:CT\tXG:Z:CT\n",
            "SRR5836473.18_18/1\t147\tchr11\t116830059\t0\t140M\t=\t116830009\t-190\tTTTTTTTTTTTTATAATAGAGTGTCGTAATAGTAAAATTGAGTTTTGATTAGAGTGATTTTGATTTGGTTTCGTTTTTTTTTTCGTTCGTTTAGTTTTTTTTTTGTAGTTCGAGTTGTTATTTTAGTTGAATTGTTTATT\tKKF<A,KAFA7A7,K77KF<F<A<F<7,,7,7A7,,7AFFFA<,KKKAA<<,7KAF7KKFAA<AKFKKF7<KKKKFKKKKKFFKKFFFKKKKKKKKKFKKKKKKKKFKKFKKKKKKKKKKKKKKKKKKKKKKKKKKKKKF\tNM:i:39\tMD:Z:0C0C0C0C0C2C0C2C4C0T8G2C12C4T1C7C0C4C4C1C4C3C2C3C3C5C0C1C1C2T0C2C0C7C0C2C9C0C3C3\tXM:Z:hhhhh..hh..h....x.......Z....x............h......x.......hh....h....h.xZ...h...h..xZ..xZ..h.....hh.h.h...x..hxZ......hh..h.........xz...h...\tXR:Z:GA\tXG:Z:CT\n",
            "SRR5836473.30_30/1\t99\tchr11\t24232407\t0\t140M\t=\t24232506\t239\tGGTAAGAAGGATATATGTTTAATTATGTTTATAGTAGTTTTATTTATAATAGTTAGAAGTTGGAAAGAATTTAGATGTTTTTCAATAGAGGAATGGATATTAAAAAATGTGGTATATTTATATAATGGAGTATTATTTAG\tKKKKKKKKKKKKKKKKKKKKKKKKKKKKKKKKKKKKKKKKKKKKKKKKKKKKKKKKKKKKKKKKKKKKKKKKKKKKKKKKKKKKKKKKKKKKKKKKKKKKKKKKKKKKKFFKKKKKKKKKKKKKKKKKKKFKKKKKAFKK\tNM:i:29\tMD:Z:0T10C1C3C1C0C1C6C4C2C0C13C0C5C9C0C0C5C0C0C0C4C13C0C13C5C1C12C1C2\tXM:Z:...........h.h...h.h..h......h....x..hh.............hx.....x.........hhx.....hhhh.H..x.............hh.............h.....h.h............h.x..\tXR:Z:CT\tXG:Z:CT\n",
            "SRR5836473.30_30/1\t147\tchr11\t24232506\t0\t140M\t=\t24232407\t-239\tTTAAAAAATGTGGTATATTTATATAATGGAGTATTATTTAGTTATTAAAAAGAATGAATTTATGAAATTTTTAGGTAAATGGATGGATTTGGAGGGTATTATTTTGAGTGAGGTAATTTAATTATAAAAGAATTTATATG\t7AKKKKFFFAA7AKFAKKFKFAKKKKKFA7KKKFAFFAKKKKKKFFKFKKKKKKKKKAKKKKKFKKKKKKKKKKKKKFKKKKKKKKKFKKKKKKKKKKKKKKA<AKFKF<AKKKKKKFKFKKKKKKKKKKKKKKKKKKFF\tNM:i:28\tMD:Z:0C0C13C5C1C12C1C2C27C0C4C0C10C0C7C2C2C0C12C0C0C3C1C7C1C1C1C0A0\tXM:Z:hh.............h.....h.h............h.x..h...........................hh....h...........hx.......h..h..hx............hhh...h.h.......h.h.h.h.\tXR:Z:GA\tXG:Z:CT\n",
            "SRR5836473.39_39/1\t83\tchr11\t105051790\t0\t13M1D127M\t=\t105051789\t-142\tTTAAAAACTACATATACTAATATACTAACAAACAAATAAACCAATAAAATAAAATTAAAAACCCAAAAATAAACCCACACACCTATAATCACTTAATCTTTATCAAAAAAACTAAAACCATCCAATAAAAAAAAAACACC\tKFKKKKKKKKKKKKKKKKKKKKKKKKKKKKKKKKKKKKKKKKKKKKKKKKKKKKKKKKKFKKKKKKKKKKKKFKKKKKFKKKKKKKKKKKKKKKKKKKKKKKKKKKKKKKKKKKKKFKKKKKKKKKKKKKKKKKKKKKKK\tNM:i:31\tMD:Z:0A8G3^G0G4G0G6G3G4G2G6G0G4G4G2G5G4G15G0G6G6G0A3G0G0G1G13G1G0G6G3G1\tXM:Z:.........x...h....xh......x...x....h..h......hh....h....h..h.....x....h...............hh......h......h....hhh.h.............x.hh......h.....\tXR:Z:CT\tXG:Z:GA\n",
            "SRR5836473.39_39/1\t163\tchr11\t105051789\t0\t14M1D126M\t=\t105051790\t142\tATTAAAAACTACATATACTAATATACTAACAAACAAATAAACCAATAAAATAAAATTAAAAACCCAAAAATAAACCCACACACCTATAATCACTTAATCTTTATCAAAAAAACTAAAACCATCCAATAAAAAAAAAACAC\tKKKKKKKKKKKKKKKKKKKKKKKKKKKKKKKKKKKKKKKKKKKKKKKKKKKKKKKKKKKKKKKKKKKKKKKKKKKKKKKKKKKKKKKKKKKKKKKKKKKKFKKKKK<FKA<FKFFKKKKKKKKKFKFKKFK,,<FA,,7<\tNM:i:32\tMD:Z:0G0A8G3^G0G4G0G6G3G4G2G6G0G4G4G2G5G4G15G0G6G6G0A3G0G0G1G13G1G0G6G3G0\tXM:Z:h.........x...h....xh......x...x....h..h......hh....h....h..h.....x....h...............hh......h......h....hhh.h.............x.hh......h....\tXR:Z:GA\tXG:Z:GA\n",
            "SRR5836473.41_41/1\t99\tchr11\t40185837\t0\t140M\t=\t40185875\t178\tAATTTTTTTGGGGATTGTATTGAATTTGTAGATTGTTTTTGGTAAGAGAGTTATTTTTATTATATTGATTTTGTTAATTTATGAATATGGGAGATTTTTTTATTTTTTGAGATTTTTTTTAATTTTTTTTTTTAGAGATT\tKKKKKKKKKKKKKKKFKKKKKKKKKKKKKKFKKKKKKKKKFKKKKKKKKKFKKKKKKKKKKKKKKKKKKKKKKKKKKKKKKKKKKKKKKKKKKKKKKKKKKKKKKKKKKKKKKKKKKKKKKKKKKKKKKKKKKF7<77FF\tNM:i:28\tMD:Z:6G0A9C7C9C6C4T2C0C7C9C0C2C0C3C0C5C9C3C0C2C2C6C2C8C3C2C5C1\tXM:Z:.................h.......x.........h......h.......hh.......h.........hx..hh...hh.....h.........h...hh..h..x......h..h........h...h..x.....h.\tXR:Z:CT\tXG:Z:CT\n",
            "SRR5836473.41_41/1\t147\tchr11\t40185875\t0\t140M\t=\t40185837\t-178\tTTGGTAAGAGAGTTATTTTTATTATATTGATTTTGTTAATTTATGAATATGGGAGATTTTTTTATTTTTTGAGATTTTTTTTAATTTTTTTTTTTAGAGATTTGAAGTTTTTATTATATAGATTTTTTATTTTTTTAGTG\tAKKKKKAAFFFKKKKKKKKKKKKKFFKKKKKKKKKKFAFKKKKKKKKKKKKKKKKKKKKKKKKKKKKKKFKKKKKKKKKKKKFKKKKKKKKKKKKKKKKKKKKKKKKKKKKKKKKKKKKKKKKKKKKKKKKKKKKKKKKK\tNM:i:31\tMD:Z:4C4T2C0C7C9C0C2C0C3C0C5C9C3C0C2C2C6C2C8C3C2C5C8C4C3A4C3C1C2C6T0\tXM:Z:....h.......hh.......h.........hx..hh...hh.....h.........h...hh..h..x......h..h........h...h..x.....h........h....h........h...h.h..h.......\tXR:Z:GA\tXG:Z:CT\n",
            "SRR5836473.46_46/1\t83\tchr11\t22771774\t8\t140M\t=\t22771594\t-320\tCAAATTAAAAAAAAAAAAATAAAAATATCACTTTTTACAAATAATATAATAATATATATAAATAACCCTAAAAATTCTATCACAAAACTCCTAAACCTAATAAACAACTTCAATAAAATAACTAAATATAAAATTAACTC\tKKKKAAKKKKKKKKKKKKKKKKKKKKKKKKKKKKKKKKKKKKKKKKKKKKKKKKKKKKKKKKKKKKKKKKKKKKKKKKKKKKKKKKKKKKKKKKKKKKKKKKKKKKKKKKKKKKKKKKKKKKKKKKKKKKKKKKKKKKKK\tNM:i:26\tMD:Z:6G0G4G2G2G1C15G2G2G4G3G9G1G13C1C2G1G9G3G7G5G1G2G2G2G0G15\tXM:Z:......hh....h..h..h.................h..x..h....h...h.........h.h....................h.........h...x.......x.....x.h..h..h..xh...............\tXR:Z:CT\tXG:Z:GA\n",
            "SRR5836473.46_46/1\t163\tchr11\t22771594\t8\t140M\t=\t22771774\t320\tAGAATAAAAACAATCTACAACAAACCAATAACCAACATCAAAATAAATAATAAAAAACTAAAAACAATCCCACTAAAATCAAAAACTAAACAAAACTACCCACTTTCTCCCTACCTATTCAACATTATACTTAAAATCCT\tFKKKKKKKKKKKKKKKKKKKKKKKKKKKKKKKKKKKKKKKKKKKKKKKKKKKKKKKKKKKKKKKKKKKKKKKKKKKKKKKKAKKKKKKKKKKKKKKKKKKKKKKKKFFKFKKKKKKFKKKKKKK<AKKKKKKFFF7<A<K\tNM:i:25\tMD:Z:1T0G6G9G7G2G11G5G0G1G1G2G2G0G2G17G0G0G4G4G0G2G28G5G2G4\tXM:Z:..h......h.........x.......x..h...........h.....hh.h.h..h..xh..h.................xhh....h....hh..x............................h.....h..h....\tXR:Z:GA\tXG:Z:GA\n"
          ]
        }
      ],
      "source": [
        "! samtools view SRR5836473_1_bismark_bt2_pe.bam | head"
      ]
    },
    {
      "cell_type": "code",
      "execution_count": null,
      "metadata": {
        "colab": {
          "base_uri": "https://localhost:8080/"
        },
        "id": "SrGGCxZQ2Ao3",
        "outputId": "3700a7c9-129e-4201-de7f-e4d8017cb226"
      },
      "outputs": [
        {
          "name": "stdout",
          "output_type": "stream",
          "text": [
            "[bam_sort_core] merging from 5 files...\n"
          ]
        }
      ],
      "source": [
        "! samtools sort SRR5836473_1_bismark_bt2_pe.bam -o sorted_8cell.bam"
      ]
    },
    {
      "cell_type": "code",
      "execution_count": null,
      "metadata": {
        "id": "GErvoOM-3Axj"
      },
      "outputs": [],
      "source": [
        "! samtools index sorted_8cell.bam"
      ]
    },
    {
      "cell_type": "code",
      "execution_count": null,
      "metadata": {
        "colab": {
          "base_uri": "https://localhost:8080/"
        },
        "id": "h34xbtRveoNW",
        "outputId": "b30d678c-b9c5-4cf6-a3b8-7b487d92f543"
      },
      "outputs": [
        {
          "name": "stdout",
          "output_type": "stream",
          "text": [
            "[bam_sort_core] merging from 7 files...\n"
          ]
        }
      ],
      "source": [
        "! samtools sort SRR5836475_1_bismark_bt2_pe.bam -o sorted_icm.bam"
      ]
    },
    {
      "cell_type": "code",
      "execution_count": null,
      "metadata": {
        "id": "zuXu2QEqepGL"
      },
      "outputs": [],
      "source": [
        "! samtools index sorted_icm.bam"
      ]
    },
    {
      "cell_type": "code",
      "execution_count": null,
      "metadata": {
        "colab": {
          "base_uri": "https://localhost:8080/"
        },
        "id": "foKU_wiferbo",
        "outputId": "f22c67ce-b210-4d00-e166-e65433edbf08"
      },
      "outputs": [
        {
          "name": "stdout",
          "output_type": "stream",
          "text": [
            "[bam_sort_core] merging from 11 files...\n"
          ]
        }
      ],
      "source": [
        "! samtools sort SRR3824222_1_bismark_bt2_pe.bam -o sorted_epiblast.bam"
      ]
    },
    {
      "cell_type": "code",
      "execution_count": null,
      "metadata": {
        "id": "KCAPcaMner_y"
      },
      "outputs": [],
      "source": [
        "! samtools index sorted_epiblast.bam"
      ]
    },
    {
      "cell_type": "code",
      "execution_count": null,
      "metadata": {
        "colab": {
          "base_uri": "https://localhost:8080/"
        },
        "id": "DfUCwYyQfpnD",
        "outputId": "70ed6e27-b854-4041-af1d-a181499ae07b"
      },
      "outputs": [
        {
          "name": "stdout",
          "output_type": "stream",
          "text": [
            "1090\n",
            "1456\n",
            "2328\n",
            "464\n",
            "630\n",
            "1062\n"
          ]
        }
      ],
      "source": [
        "! samtools view sorted_8cell.bam chr11:11347700-11367700 | cut -f1 | sort -u | wc -l\n",
        "! samtools view sorted_icm.bam chr11:11347700-11367700 | cut -f1 | sort -u | wc -l\n",
        "! samtools view sorted_epiblast.bam chr11:11347700-11367700 | cut -f1 | sort -u | wc -l\n",
        "\n",
        "! samtools view sorted_8cell.bam chr11:40185800-40195800 | cut -f1 | sort -u | wc -l\n",
        "! samtools view sorted_icm.bam chr11:40185800-40195800 | cut -f1 | sort -u | wc -l\n",
        "! samtools view sorted_epiblast.bam chr11:40185800-40195800 | cut -f1 | sort -u | wc -l"
      ]
    },
    {
      "cell_type": "code",
      "execution_count": null,
      "metadata": {
        "colab": {
          "base_uri": "https://localhost:8080/",
          "height": 142
        },
        "id": "bxetiVBCjmc2",
        "outputId": "c5baae7c-0f1a-409d-a4e5-344d5816daac"
      },
      "outputs": [
        {
          "data": {
            "text/html": [
              "\n",
              "  <div id=\"df-72ef4329-b65e-4f10-b8b6-b49f23b90448\">\n",
              "    <div class=\"colab-df-container\">\n",
              "      <div>\n",
              "<style scoped>\n",
              "    .dataframe tbody tr th:only-of-type {\n",
              "        vertical-align: middle;\n",
              "    }\n",
              "\n",
              "    .dataframe tbody tr th {\n",
              "        vertical-align: top;\n",
              "    }\n",
              "\n",
              "    .dataframe thead th {\n",
              "        text-align: right;\n",
              "    }\n",
              "</style>\n",
              "<table border=\"1\" class=\"dataframe\">\n",
              "  <thead>\n",
              "    <tr style=\"text-align: right;\">\n",
              "      <th></th>\n",
              "      <th></th>\n",
              "      <th>chr11:11347700-11367700</th>\n",
              "      <th>chr11:40185800-40195800</th>\n",
              "    </tr>\n",
              "  </thead>\n",
              "  <tbody>\n",
              "    <tr>\n",
              "      <th>0</th>\n",
              "      <td>8 Cell</td>\n",
              "      <td>1090</td>\n",
              "      <td>464</td>\n",
              "    </tr>\n",
              "    <tr>\n",
              "      <th>1</th>\n",
              "      <td>Epiblast</td>\n",
              "      <td>1456</td>\n",
              "      <td>630</td>\n",
              "    </tr>\n",
              "    <tr>\n",
              "      <th>2</th>\n",
              "      <td>ICM</td>\n",
              "      <td>2328</td>\n",
              "      <td>1062</td>\n",
              "    </tr>\n",
              "  </tbody>\n",
              "</table>\n",
              "</div>\n",
              "      <button class=\"colab-df-convert\" onclick=\"convertToInteractive('df-72ef4329-b65e-4f10-b8b6-b49f23b90448')\"\n",
              "              title=\"Convert this dataframe to an interactive table.\"\n",
              "              style=\"display:none;\">\n",
              "        \n",
              "  <svg xmlns=\"http://www.w3.org/2000/svg\" height=\"24px\"viewBox=\"0 0 24 24\"\n",
              "       width=\"24px\">\n",
              "    <path d=\"M0 0h24v24H0V0z\" fill=\"none\"/>\n",
              "    <path d=\"M18.56 5.44l.94 2.06.94-2.06 2.06-.94-2.06-.94-.94-2.06-.94 2.06-2.06.94zm-11 1L8.5 8.5l.94-2.06 2.06-.94-2.06-.94L8.5 2.5l-.94 2.06-2.06.94zm10 10l.94 2.06.94-2.06 2.06-.94-2.06-.94-.94-2.06-.94 2.06-2.06.94z\"/><path d=\"M17.41 7.96l-1.37-1.37c-.4-.4-.92-.59-1.43-.59-.52 0-1.04.2-1.43.59L10.3 9.45l-7.72 7.72c-.78.78-.78 2.05 0 2.83L4 21.41c.39.39.9.59 1.41.59.51 0 1.02-.2 1.41-.59l7.78-7.78 2.81-2.81c.8-.78.8-2.07 0-2.86zM5.41 20L4 18.59l7.72-7.72 1.47 1.35L5.41 20z\"/>\n",
              "  </svg>\n",
              "      </button>\n",
              "      \n",
              "  <style>\n",
              "    .colab-df-container {\n",
              "      display:flex;\n",
              "      flex-wrap:wrap;\n",
              "      gap: 12px;\n",
              "    }\n",
              "\n",
              "    .colab-df-convert {\n",
              "      background-color: #E8F0FE;\n",
              "      border: none;\n",
              "      border-radius: 50%;\n",
              "      cursor: pointer;\n",
              "      display: none;\n",
              "      fill: #1967D2;\n",
              "      height: 32px;\n",
              "      padding: 0 0 0 0;\n",
              "      width: 32px;\n",
              "    }\n",
              "\n",
              "    .colab-df-convert:hover {\n",
              "      background-color: #E2EBFA;\n",
              "      box-shadow: 0px 1px 2px rgba(60, 64, 67, 0.3), 0px 1px 3px 1px rgba(60, 64, 67, 0.15);\n",
              "      fill: #174EA6;\n",
              "    }\n",
              "\n",
              "    [theme=dark] .colab-df-convert {\n",
              "      background-color: #3B4455;\n",
              "      fill: #D2E3FC;\n",
              "    }\n",
              "\n",
              "    [theme=dark] .colab-df-convert:hover {\n",
              "      background-color: #434B5C;\n",
              "      box-shadow: 0px 1px 3px 1px rgba(0, 0, 0, 0.15);\n",
              "      filter: drop-shadow(0px 1px 2px rgba(0, 0, 0, 0.3));\n",
              "      fill: #FFFFFF;\n",
              "    }\n",
              "  </style>\n",
              "\n",
              "      <script>\n",
              "        const buttonEl =\n",
              "          document.querySelector('#df-72ef4329-b65e-4f10-b8b6-b49f23b90448 button.colab-df-convert');\n",
              "        buttonEl.style.display =\n",
              "          google.colab.kernel.accessAllowed ? 'block' : 'none';\n",
              "\n",
              "        async function convertToInteractive(key) {\n",
              "          const element = document.querySelector('#df-72ef4329-b65e-4f10-b8b6-b49f23b90448');\n",
              "          const dataTable =\n",
              "            await google.colab.kernel.invokeFunction('convertToInteractive',\n",
              "                                                     [key], {});\n",
              "          if (!dataTable) return;\n",
              "\n",
              "          const docLinkHtml = 'Like what you see? Visit the ' +\n",
              "            '<a target=\"_blank\" href=https://colab.research.google.com/notebooks/data_table.ipynb>data table notebook</a>'\n",
              "            + ' to learn more about interactive tables.';\n",
              "          element.innerHTML = '';\n",
              "          dataTable['output_type'] = 'display_data';\n",
              "          await google.colab.output.renderOutput(dataTable, element);\n",
              "          const docLink = document.createElement('div');\n",
              "          docLink.innerHTML = docLinkHtml;\n",
              "          element.appendChild(docLink);\n",
              "        }\n",
              "      </script>\n",
              "    </div>\n",
              "  </div>\n",
              "  "
            ],
            "text/plain": [
              "             chr11:11347700-11367700  chr11:40185800-40195800\n",
              "0    8 Cell                     1090                      464\n",
              "1  Epiblast                     1456                      630\n",
              "2       ICM                     2328                     1062"
            ]
          },
          "execution_count": 21,
          "metadata": {},
          "output_type": "execute_result"
        }
      ],
      "source": [
        "import pandas as pd\n",
        "df = pd.DataFrame({\n",
        "        '': ['8 Cell', 'Epiblast', 'ICM'],\n",
        "        'chr11:11347700-11367700': [1090, 1456, 2328],\n",
        "        'chr11:40185800-40195800': [464, 630, 1062]\n",
        "     })\n",
        "df"
      ]
    },
    {
      "cell_type": "code",
      "execution_count": null,
      "metadata": {
        "colab": {
          "base_uri": "https://localhost:8080/"
        },
        "id": "7DrYOYL6cTJ6",
        "outputId": "6d10f12d-368f-4ce5-f24e-399b39d4b7e9"
      },
      "outputs": [
        {
          "name": "stdout",
          "output_type": "stream",
          "text": [
            "--2022-02-18 17:05:54--  http://himorna.fbras.ru/~ivan/DataLog/2022/0218.teaching.dna_meth/ICM/SRR5836475_1_bismark_bt2_PE_report.txt\n",
            "Resolving himorna.fbras.ru (himorna.fbras.ru)... 83.149.211.143\n",
            "Connecting to himorna.fbras.ru (himorna.fbras.ru)|83.149.211.143|:80... connected.\n",
            "HTTP request sent, awaiting response... 200 OK\n",
            "Length: 1885 (1.8K) [text/plain]\n",
            "Saving to: ‘SRR5836475_1_bismark_bt2_PE_report.txt.1’\n",
            "\n",
            "SRR5836475_1_bismar 100%[===================>]   1.84K  --.-KB/s    in 0s      \n",
            "\n",
            "2022-02-18 17:05:57 (152 MB/s) - ‘SRR5836475_1_bismark_bt2_PE_report.txt.1’ saved [1885/1885]\n",
            "\n",
            "--2022-02-18 17:05:57--  http://himorna.fbras.ru/~ivan/DataLog/2022/0218.teaching.dna_meth/cell8/SRR5836473_1_bismark_bt2_PE_report.txt\n",
            "Resolving himorna.fbras.ru (himorna.fbras.ru)... 83.149.211.143\n",
            "Connecting to himorna.fbras.ru (himorna.fbras.ru)|83.149.211.143|:80... connected.\n",
            "HTTP request sent, awaiting response... 200 OK\n",
            "Length: 1898 (1.9K) [text/plain]\n",
            "Saving to: ‘SRR5836473_1_bismark_bt2_PE_report.txt.1’\n",
            "\n",
            "SRR5836473_1_bismar 100%[===================>]   1.85K  --.-KB/s    in 0s      \n",
            "\n",
            "2022-02-18 17:05:57 (211 MB/s) - ‘SRR5836473_1_bismark_bt2_PE_report.txt.1’ saved [1898/1898]\n",
            "\n",
            "--2022-02-18 17:05:57--  http://himorna.fbras.ru/~ivan/DataLog/2022/0218.teaching.dna_meth/epiblast/SRR3824222_1_bismark_bt2_PE_report.txt\n",
            "Resolving himorna.fbras.ru (himorna.fbras.ru)... 83.149.211.143\n",
            "Connecting to himorna.fbras.ru (himorna.fbras.ru)|83.149.211.143|:80... connected.\n",
            "HTTP request sent, awaiting response... 200 OK\n",
            "Length: 1902 (1.9K) [text/plain]\n",
            "Saving to: ‘SRR3824222_1_bismark_bt2_PE_report.txt.1’\n",
            "\n",
            "SRR3824222_1_bismar 100%[===================>]   1.86K  --.-KB/s    in 0s      \n",
            "\n",
            "2022-02-18 17:05:58 (265 MB/s) - ‘SRR3824222_1_bismark_bt2_PE_report.txt.1’ saved [1902/1902]\n",
            "\n"
          ]
        }
      ],
      "source": [
        "! wget http://himorna.fbras.ru/~ivan/DataLog/2022/0218.teaching.dna_meth/ICM/SRR5836475_1_bismark_bt2_PE_report.txt\n",
        "! wget http://himorna.fbras.ru/~ivan/DataLog/2022/0218.teaching.dna_meth/cell8/SRR5836473_1_bismark_bt2_PE_report.txt\n",
        "! wget http://himorna.fbras.ru/~ivan/DataLog/2022/0218.teaching.dna_meth/epiblast/SRR3824222_1_bismark_bt2_PE_report.txt"
      ]
    },
    {
      "cell_type": "markdown",
      "metadata": {
        "id": "CliRCSUQTmV-"
      },
      "source": [
        "Дедупликация"
      ]
    },
    {
      "cell_type": "code",
      "execution_count": null,
      "metadata": {
        "colab": {
          "base_uri": "https://localhost:8080/"
        },
        "id": "ShW-Fhzq19kE",
        "outputId": "5908ff9c-4128-47d9-e291-7621bd848375"
      },
      "outputs": [
        {
          "name": "stdout",
          "output_type": "stream",
          "text": [
            "Output filename was given as: s_8cell\n",
            "Processing paired-end Bismark output file(s) (SAM format):\n",
            "SRR5836473_1_bismark_bt2_pe.bam\n",
            "\n",
            "\n",
            "If there are several alignments to a single position in the genome the first alignment will be chosen. Since the input files are not in any way sorted this is a near-enough random selection of reads.\n",
            "\n",
            "Checking file >>SRR5836473_1_bismark_bt2_pe.bam<< for signs of file truncation...\n",
            "\n",
            "\n",
            "\n",
            "Now testing Bismark result file SRR5836473_1_bismark_bt2_pe.bam for positional sorting (which would be bad...)\t...passed!\n",
            "Output file is: s_8cell.deduplicated.bam\n",
            "\n",
            "skipping header line:\t@HD\tVN:1.0\tSO:unsorted\n",
            "skipping header line:\t@SQ\tSN:chr11\tLN:122082543\n",
            "skipping header line:\t@PG\tID:Bismark\tVN:v0.23.1dev\tCL:\"bismark -p 2 --gzip mouse_chr -1 data/SRR5836473_1.fastq.gz -2 data/SRR5836473_2.fastq.gz -o cell8/\"\n",
            "\n",
            "Total number of alignments analysed in SRR5836473_1_bismark_bt2_pe.bam:\t2850231\n",
            "Total number duplicated alignments removed:\t521904 (18.31%)\n",
            "Duplicated alignments were found at:\t230432 different position(s)\n",
            "\n",
            "Total count of deduplicated leftover sequences: 2328327 (81.69% of total)\n",
            "\n"
          ]
        }
      ],
      "source": [
        "! deduplicate_bismark  --bam  --paired  -o s_8cell SRR5836473_1_bismark_bt2_pe.bam"
      ]
    },
    {
      "cell_type": "code",
      "execution_count": null,
      "metadata": {
        "colab": {
          "base_uri": "https://localhost:8080/"
        },
        "id": "3vJ-zfXIclI8",
        "outputId": "f7bf281a-f237-4712-b2f3-218a6b80025d"
      },
      "outputs": [
        {
          "name": "stdout",
          "output_type": "stream",
          "text": [
            "Output filename was given as: s_epiblast\n",
            "Processing paired-end Bismark output file(s) (SAM format):\n",
            "SRR3824222_1_bismark_bt2_pe.bam\n",
            "\n",
            "\n",
            "If there are several alignments to a single position in the genome the first alignment will be chosen. Since the input files are not in any way sorted this is a near-enough random selection of reads.\n",
            "\n",
            "Checking file >>SRR3824222_1_bismark_bt2_pe.bam<< for signs of file truncation...\n",
            "\n",
            "\n",
            "\n",
            "Now testing Bismark result file SRR3824222_1_bismark_bt2_pe.bam for positional sorting (which would be bad...)\t...passed!\n",
            "Output file is: s_epiblast.deduplicated.bam\n",
            "\n",
            "skipping header line:\t@HD\tVN:1.0\tSO:unsorted\n",
            "skipping header line:\t@SQ\tSN:chr11\tLN:122082543\n",
            "skipping header line:\t@PG\tID:Bismark\tVN:v0.23.1dev\tCL:\"bismark -p 2 --gzip mouse_chr -1 data/SRR3824222_1.fastq.gz -2 data/SRR3824222_2.fastq.gz -o epiblast/\"\n",
            "\n",
            "Total number of alignments analysed in SRR3824222_1_bismark_bt2_pe.bam:\t7039016\n",
            "Total number duplicated alignments removed:\t205258 (2.92%)\n",
            "Duplicated alignments were found at:\t164796 different position(s)\n",
            "\n",
            "Total count of deduplicated leftover sequences: 6833758 (97.08% of total)\n",
            "\n"
          ]
        }
      ],
      "source": [
        "! deduplicate_bismark  --bam  --paired  -o s_epiblast SRR3824222_1_bismark_bt2_pe.bam"
      ]
    },
    {
      "cell_type": "code",
      "execution_count": null,
      "metadata": {
        "colab": {
          "base_uri": "https://localhost:8080/"
        },
        "id": "6v-mpgkUcuES",
        "outputId": "8e3bd4e8-784b-4ac2-8cb8-1dc197b67124"
      },
      "outputs": [
        {
          "name": "stdout",
          "output_type": "stream",
          "text": [
            "Output filename was given as: s_icm\n",
            "Processing paired-end Bismark output file(s) (SAM format):\n",
            "SRR5836475_1_bismark_bt2_pe.bam\n",
            "\n",
            "\n",
            "If there are several alignments to a single position in the genome the first alignment will be chosen. Since the input files are not in any way sorted this is a near-enough random selection of reads.\n",
            "\n",
            "Checking file >>SRR5836475_1_bismark_bt2_pe.bam<< for signs of file truncation...\n",
            "\n",
            "\n",
            "\n",
            "Now testing Bismark result file SRR5836475_1_bismark_bt2_pe.bam for positional sorting (which would be bad...)\t...passed!\n",
            "Output file is: s_icm.deduplicated.bam\n",
            "\n",
            "skipping header line:\t@HD\tVN:1.0\tSO:unsorted\n",
            "skipping header line:\t@SQ\tSN:chr11\tLN:122082543\n",
            "skipping header line:\t@PG\tID:Bismark\tVN:v0.23.1dev\tCL:\"bismark --gzip mouse_chr -1 data/SRR5836475_1.fastq.gz -2 data/SRR5836475_2.fastq.gz -o ICM/\"\n",
            "\n",
            "Total number of alignments analysed in SRR5836475_1_bismark_bt2_pe.bam:\t4159998\n",
            "Total number duplicated alignments removed:\t377882 (9.08%)\n",
            "Duplicated alignments were found at:\t229833 different position(s)\n",
            "\n",
            "Total count of deduplicated leftover sequences: 3782116 (90.92% of total)\n",
            "\n"
          ]
        }
      ],
      "source": [
        "! deduplicate_bismark  --bam  --paired  -o s_icm SRR5836475_1_bismark_bt2_pe.bam"
      ]
    },
    {
      "cell_type": "code",
      "execution_count": null,
      "metadata": {
        "colab": {
          "base_uri": "https://localhost:8080/",
          "height": 142
        },
        "id": "OkrrqUQPXCCI",
        "outputId": "35f0f67b-d20e-45c8-f853-adb470e4aae5"
      },
      "outputs": [
        {
          "data": {
            "text/html": [
              "\n",
              "  <div id=\"df-23d3d5b9-6a5a-4c43-8bce-9fa2652f21d5\">\n",
              "    <div class=\"colab-df-container\">\n",
              "      <div>\n",
              "<style scoped>\n",
              "    .dataframe tbody tr th:only-of-type {\n",
              "        vertical-align: middle;\n",
              "    }\n",
              "\n",
              "    .dataframe tbody tr th {\n",
              "        vertical-align: top;\n",
              "    }\n",
              "\n",
              "    .dataframe thead th {\n",
              "        text-align: right;\n",
              "    }\n",
              "</style>\n",
              "<table border=\"1\" class=\"dataframe\">\n",
              "  <thead>\n",
              "    <tr style=\"text-align: right;\">\n",
              "      <th></th>\n",
              "      <th></th>\n",
              "      <th>chr11:11347700-11367700</th>\n",
              "      <th>chr11:40185800-40195800</th>\n",
              "      <th>percent</th>\n",
              "    </tr>\n",
              "  </thead>\n",
              "  <tbody>\n",
              "    <tr>\n",
              "      <th>0</th>\n",
              "      <td>8 Cell</td>\n",
              "      <td>1090</td>\n",
              "      <td>464</td>\n",
              "      <td>18.31</td>\n",
              "    </tr>\n",
              "    <tr>\n",
              "      <th>1</th>\n",
              "      <td>Epiblast</td>\n",
              "      <td>1456</td>\n",
              "      <td>630</td>\n",
              "      <td>9.08</td>\n",
              "    </tr>\n",
              "    <tr>\n",
              "      <th>2</th>\n",
              "      <td>ICM</td>\n",
              "      <td>2328</td>\n",
              "      <td>1062</td>\n",
              "      <td>2.92</td>\n",
              "    </tr>\n",
              "  </tbody>\n",
              "</table>\n",
              "</div>\n",
              "      <button class=\"colab-df-convert\" onclick=\"convertToInteractive('df-23d3d5b9-6a5a-4c43-8bce-9fa2652f21d5')\"\n",
              "              title=\"Convert this dataframe to an interactive table.\"\n",
              "              style=\"display:none;\">\n",
              "        \n",
              "  <svg xmlns=\"http://www.w3.org/2000/svg\" height=\"24px\"viewBox=\"0 0 24 24\"\n",
              "       width=\"24px\">\n",
              "    <path d=\"M0 0h24v24H0V0z\" fill=\"none\"/>\n",
              "    <path d=\"M18.56 5.44l.94 2.06.94-2.06 2.06-.94-2.06-.94-.94-2.06-.94 2.06-2.06.94zm-11 1L8.5 8.5l.94-2.06 2.06-.94-2.06-.94L8.5 2.5l-.94 2.06-2.06.94zm10 10l.94 2.06.94-2.06 2.06-.94-2.06-.94-.94-2.06-.94 2.06-2.06.94z\"/><path d=\"M17.41 7.96l-1.37-1.37c-.4-.4-.92-.59-1.43-.59-.52 0-1.04.2-1.43.59L10.3 9.45l-7.72 7.72c-.78.78-.78 2.05 0 2.83L4 21.41c.39.39.9.59 1.41.59.51 0 1.02-.2 1.41-.59l7.78-7.78 2.81-2.81c.8-.78.8-2.07 0-2.86zM5.41 20L4 18.59l7.72-7.72 1.47 1.35L5.41 20z\"/>\n",
              "  </svg>\n",
              "      </button>\n",
              "      \n",
              "  <style>\n",
              "    .colab-df-container {\n",
              "      display:flex;\n",
              "      flex-wrap:wrap;\n",
              "      gap: 12px;\n",
              "    }\n",
              "\n",
              "    .colab-df-convert {\n",
              "      background-color: #E8F0FE;\n",
              "      border: none;\n",
              "      border-radius: 50%;\n",
              "      cursor: pointer;\n",
              "      display: none;\n",
              "      fill: #1967D2;\n",
              "      height: 32px;\n",
              "      padding: 0 0 0 0;\n",
              "      width: 32px;\n",
              "    }\n",
              "\n",
              "    .colab-df-convert:hover {\n",
              "      background-color: #E2EBFA;\n",
              "      box-shadow: 0px 1px 2px rgba(60, 64, 67, 0.3), 0px 1px 3px 1px rgba(60, 64, 67, 0.15);\n",
              "      fill: #174EA6;\n",
              "    }\n",
              "\n",
              "    [theme=dark] .colab-df-convert {\n",
              "      background-color: #3B4455;\n",
              "      fill: #D2E3FC;\n",
              "    }\n",
              "\n",
              "    [theme=dark] .colab-df-convert:hover {\n",
              "      background-color: #434B5C;\n",
              "      box-shadow: 0px 1px 3px 1px rgba(0, 0, 0, 0.15);\n",
              "      filter: drop-shadow(0px 1px 2px rgba(0, 0, 0, 0.3));\n",
              "      fill: #FFFFFF;\n",
              "    }\n",
              "  </style>\n",
              "\n",
              "      <script>\n",
              "        const buttonEl =\n",
              "          document.querySelector('#df-23d3d5b9-6a5a-4c43-8bce-9fa2652f21d5 button.colab-df-convert');\n",
              "        buttonEl.style.display =\n",
              "          google.colab.kernel.accessAllowed ? 'block' : 'none';\n",
              "\n",
              "        async function convertToInteractive(key) {\n",
              "          const element = document.querySelector('#df-23d3d5b9-6a5a-4c43-8bce-9fa2652f21d5');\n",
              "          const dataTable =\n",
              "            await google.colab.kernel.invokeFunction('convertToInteractive',\n",
              "                                                     [key], {});\n",
              "          if (!dataTable) return;\n",
              "\n",
              "          const docLinkHtml = 'Like what you see? Visit the ' +\n",
              "            '<a target=\"_blank\" href=https://colab.research.google.com/notebooks/data_table.ipynb>data table notebook</a>'\n",
              "            + ' to learn more about interactive tables.';\n",
              "          element.innerHTML = '';\n",
              "          dataTable['output_type'] = 'display_data';\n",
              "          await google.colab.output.renderOutput(dataTable, element);\n",
              "          const docLink = document.createElement('div');\n",
              "          docLink.innerHTML = docLinkHtml;\n",
              "          element.appendChild(docLink);\n",
              "        }\n",
              "      </script>\n",
              "    </div>\n",
              "  </div>\n",
              "  "
            ],
            "text/plain": [
              "             chr11:11347700-11367700  chr11:40185800-40195800  percent\n",
              "0    8 Cell                     1090                      464    18.31\n",
              "1  Epiblast                     1456                      630     9.08\n",
              "2       ICM                     2328                     1062     2.92"
            ]
          },
          "execution_count": 26,
          "metadata": {},
          "output_type": "execute_result"
        }
      ],
      "source": [
        "df['percent'] = [18.31, 9.08, 2.92]\n",
        "df"
      ]
    },
    {
      "cell_type": "code",
      "execution_count": null,
      "metadata": {
        "id": "MqiXSNHRiR7v"
      },
      "outputs": [],
      "source": [
        "df.to_csv('table.csv')"
      ]
    },
    {
      "cell_type": "code",
      "execution_count": null,
      "metadata": {
        "colab": {
          "base_uri": "https://localhost:8080/"
        },
        "id": "mUlhNr8EZAUZ",
        "outputId": "fb8d90a5-c1b8-4e82-de36-245950f6784b"
      },
      "outputs": [
        {
          "name": "stdout",
          "output_type": "stream",
          "text": [
            "--2022-02-18 17:32:47--  http://himorna.fbras.ru/~ivan/DataLog/2022/0218.teaching.dna_meth/mouse_chr.zip\n",
            "Resolving himorna.fbras.ru (himorna.fbras.ru)... 83.149.211.143\n",
            "Connecting to himorna.fbras.ru (himorna.fbras.ru)|83.149.211.143|:80... connected.\n",
            "HTTP request sent, awaiting response... 200 OK\n",
            "Length: 365516609 (349M) [application/zip]\n",
            "Saving to: ‘mouse_chr.zip’\n",
            "\n",
            "mouse_chr.zip       100%[===================>] 348.58M  10.2MB/s    in 37s     \n",
            "\n",
            "2022-02-18 17:33:25 (9.47 MB/s) - ‘mouse_chr.zip’ saved [365516609/365516609]\n",
            "\n"
          ]
        }
      ],
      "source": [
        "! wget http://himorna.fbras.ru/~ivan/DataLog/2022/0218.teaching.dna_meth/mouse_chr.zip"
      ]
    },
    {
      "cell_type": "code",
      "execution_count": null,
      "metadata": {
        "colab": {
          "base_uri": "https://localhost:8080/"
        },
        "id": "4NZ1s3i5bUUq",
        "outputId": "3ea85c13-55ce-41b4-eaaa-bf5664c20f32"
      },
      "outputs": [
        {
          "name": "stdout",
          "output_type": "stream",
          "text": [
            "Archive:  mouse_chr.zip\n",
            "   creating: mouse_chr/\n",
            "   creating: mouse_chr/Bisulfite_Genome/\n",
            "   creating: mouse_chr/Bisulfite_Genome/CT_conversion/\n",
            "  inflating: mouse_chr/Bisulfite_Genome/CT_conversion/genome_mfa.CT_conversion.fa  \n",
            "  inflating: mouse_chr/Bisulfite_Genome/CT_conversion/BS_CT.4.bt2  \n",
            "  inflating: mouse_chr/Bisulfite_Genome/CT_conversion/BS_CT.1.bt2  \n",
            "  inflating: mouse_chr/Bisulfite_Genome/CT_conversion/BS_CT.3.bt2  \n",
            "  inflating: mouse_chr/Bisulfite_Genome/CT_conversion/BS_CT.2.bt2  \n",
            "  inflating: mouse_chr/Bisulfite_Genome/CT_conversion/BS_CT.rev.2.bt2  \n",
            "  inflating: mouse_chr/Bisulfite_Genome/CT_conversion/BS_CT.rev.1.bt2  \n",
            "   creating: mouse_chr/Bisulfite_Genome/GA_conversion/\n",
            "  inflating: mouse_chr/Bisulfite_Genome/GA_conversion/BS_GA.rev.1.bt2  \n",
            "  inflating: mouse_chr/Bisulfite_Genome/GA_conversion/BS_GA.rev.2.bt2  \n",
            "  inflating: mouse_chr/Bisulfite_Genome/GA_conversion/genome_mfa.GA_conversion.fa  \n",
            "  inflating: mouse_chr/Bisulfite_Genome/GA_conversion/BS_GA.4.bt2  \n",
            "  inflating: mouse_chr/Bisulfite_Genome/GA_conversion/BS_GA.1.bt2  \n",
            "  inflating: mouse_chr/Bisulfite_Genome/GA_conversion/BS_GA.2.bt2  \n",
            "  inflating: mouse_chr/Bisulfite_Genome/GA_conversion/BS_GA.3.bt2  \n",
            "  inflating: mouse_chr/chr11.fa      \n"
          ]
        }
      ],
      "source": [
        "! unzip mouse_chr.zip"
      ]
    },
    {
      "cell_type": "code",
      "execution_count": null,
      "metadata": {
        "colab": {
          "base_uri": "https://localhost:8080/"
        },
        "id": "eEk0vVi0iyMz",
        "outputId": "fbdc3608-4792-49da-f7dd-2e7fff834d12"
      },
      "outputs": [
        {
          "name": "stdout",
          "output_type": "stream",
          "text": [
            "\n",
            " *** Bismark methylation extractor version v0.23.1 ***\n",
            "\n",
            "Trying to determine the type of mapping from the SAM header line of file s_8cell.deduplicated.bam\n",
            "Treating file(s) as paired-end data (as extracted from @PG line)\n",
            "\n",
            "Setting option '--no_overlap' since this is (normally) the right thing to do for paired-end data\n",
            "\n",
            "\n",
            "Setting core usage to single-threaded (default). Consider using --multicore <int> to speed up the extraction process.\n",
            "\n",
            "Summarising Bismark methylation extractor parameters:\n",
            "===============================================================\n",
            "Bismark paired-end SAM format specified (default)\n",
            "Number of cores to be used: 1\n",
            "Output will be written to the current directory ('/content')\n",
            "\n",
            "\n",
            "Summarising bedGraph parameters:\n",
            "===============================================================\n",
            "Generating additional output in bedGraph and coverage format\n",
            "bedGraph format:\t<Chromosome> <Start Position> <End Position> <Methylation Percentage>\n",
            "coverage format:\t<Chromosome> <Start Position> <End Position> <Methylation Percentage> <count methylated> <count non-methylated>\n",
            "\n",
            "Using a cutoff of 1 read(s) to report cytosine positions\n",
            "Reporting and sorting cytosine methylation information in CpG context only (default)\n",
            "The bedGraph UNIX sort command will use the following memory setting:\t'2G'. Temporary directory used for sorting is the output directory\n",
            "\n",
            "\n",
            "Summarising genome-wide cytosine methylation report parameters:\n",
            "===============================================================\n",
            "Generating comprehensive genome-wide cytosine report\n",
            "(output format: <Chromosome> <Position> <Strand> <count methylated> <count non-methylated>  <C-context>  <trinucleotide context> )\n",
            "Reporting cytosine methylation in CpG context only (default)\n",
            "Using 1-based genomic coordinates (default)\n",
            "Genome folder was specified as ./mouse_chr/\n",
            "\n",
            "Checking file >>s_8cell.deduplicated.bam<< for signs of file truncation...\n",
            "\n",
            "\n",
            "Now testing Bismark result file >s_8cell.deduplicated.bam< for positional sorting (which would be bad...)\t...passed!\n",
            "Writing result file containing methylation information for C in CpG context from the original top strand to CpG_OT_s_8cell.deduplicated.txt.gz\n",
            "Writing result file containing methylation information for C in CpG context from the complementary to original top strand to CpG_CTOT_s_8cell.deduplicated.txt.gz\n",
            "Writing result file containing methylation information for C in CpG context from the complementary to original bottom strand to CpG_CTOB_s_8cell.deduplicated.txt.gz\n",
            "Writing result file containing methylation information for C in CpG context from the original bottom strand to CpG_OB_s_8cell.deduplicated.txt.gz\n",
            "\n",
            "Writing result file containing methylation information for C in CHG context from the original top strand to CHG_OT_s_8cell.deduplicated.txt.gz\n",
            "Writing result file containing methylation information for C in CHG context from the complementary to original top strand to CHG_CTOT_s_8cell.deduplicated.txt.gz\n",
            "Writing result file containing methylation information for C in CHG context from the complementary to original bottom strand to CHG_CTOB_s_8cell.deduplicated.txt.gz\n",
            "Writing result file containing methylation information for C in CHG context from the original bottom strand to CHG_OB_s_8cell.deduplicated.txt.gz\n",
            "\n",
            "Writing result file containing methylation information for C in CHH context from the original top strand to CHH_OT_s_8cell.deduplicated.txt.gz\n",
            "Writing result file containing methylation information for C in CHH context from the complementary to original top strand to CHH_CTOT_s_8cell.deduplicated.txt.gz\n",
            "Writing result file containing methylation information for C in CHH context from the complementary to original bottom strand to CHH_CTOB_s_8cell.deduplicated.txt.gz\n",
            "Writing result file containing methylation information for C in CHH context from the original bottom strand to CHH_OB_s_8cell.deduplicated.txt.gz\n",
            "\n",
            "Now reading in Bismark result file s_8cell.deduplicated.bam\n",
            "skipping SAM header line:\t@HD\tVN:1.0\tSO:unsorted\n",
            "skipping SAM header line:\t@SQ\tSN:chr11\tLN:122082543\n",
            "skipping SAM header line:\t@PG\tID:Bismark\tVN:v0.23.1dev\tCL:\"bismark -p 2 --gzip mouse_chr -1 data/SRR5836473_1.fastq.gz -2 data/SRR5836473_2.fastq.gz -o cell8/\"\n",
            "Processed lines: 500000\n",
            "Processed lines: 1000000\n",
            "Processed lines: 1500000\n",
            "Processed lines: 2000000\n",
            "\n",
            "Processed 2328327 lines in total\n",
            "Total number of methylation call strings processed: 4656654\n",
            "\n",
            "Final Cytosine Methylation Report\n",
            "=================================\n",
            "Total number of C's analysed:\t104224209\n",
            "\n",
            "Total methylated C's in CpG context:\t2101489\n",
            "Total methylated C's in CHG context:\t269204\n",
            "Total methylated C's in CHH context:\t944695\n",
            "\n",
            "Total C to T conversions in CpG context:\t2731177\n",
            "Total C to T conversions in CHG context:\t22964928\n",
            "Total C to T conversions in CHH context:\t75212716\n",
            "\n",
            "C methylated in CpG context:\t43.5%\n",
            "C methylated in CHG context:\t1.2%\n",
            "C methylated in CHH context:\t1.2%\n",
            "\n",
            "\n",
            "Determining maximum read lengths for M-Bias plots\n",
            "Maximum read length of Read 1: 140\n",
            "Maximum read length of Read 2: 140\n",
            "\n",
            "Perl module GD::Graph::lines is not installed, skipping drawing M-bias plots (only writing out M-bias plot table)\n",
            "Determining maximum read lengths for M-Bias plots\n",
            "Maximum read length of Read 1: 140\n",
            "Maximum read length of Read 2: 140\n",
            "\n",
            "Perl module GD::Graph::lines is not installed, skipping drawing M-bias plots (only writing out M-bias plot table)\n",
            "Deleting unused files ...\n",
            "\n",
            "CpG_OT_s_8cell.deduplicated.txt.gz contains data ->\tkept\n",
            "CpG_CTOT_s_8cell.deduplicated.txt.gz was empty ->\tdeleted\n",
            "CpG_CTOB_s_8cell.deduplicated.txt.gz was empty ->\tdeleted\n",
            "CpG_OB_s_8cell.deduplicated.txt.gz contains data ->\tkept\n",
            "CHG_OT_s_8cell.deduplicated.txt.gz contains data ->\tkept\n",
            "CHG_CTOT_s_8cell.deduplicated.txt.gz was empty ->\tdeleted\n",
            "CHG_CTOB_s_8cell.deduplicated.txt.gz was empty ->\tdeleted\n",
            "CHG_OB_s_8cell.deduplicated.txt.gz contains data ->\tkept\n",
            "CHH_OT_s_8cell.deduplicated.txt.gz contains data ->\tkept\n",
            "CHH_CTOT_s_8cell.deduplicated.txt.gz was empty ->\tdeleted\n",
            "CHH_CTOB_s_8cell.deduplicated.txt.gz was empty ->\tdeleted\n",
            "CHH_OB_s_8cell.deduplicated.txt.gz contains data ->\tkept\n",
            "\n",
            "\n",
            "Using these input files: CpG_OT_s_8cell.deduplicated.txt.gz CpG_OB_s_8cell.deduplicated.txt.gz CHG_OT_s_8cell.deduplicated.txt.gz CHG_OB_s_8cell.deduplicated.txt.gz CHH_OT_s_8cell.deduplicated.txt.gz CHH_OB_s_8cell.deduplicated.txt.gz\n",
            "\n",
            "Summary of parameters for bismark2bedGraph conversion:\n",
            "======================================================\n",
            "bedGraph output:\t\ts_8cell.deduplicated.bedGraph.gz\n",
            "output directory:\t\t><\n",
            "remove whitespaces:\t\tno\n",
            "CX context:\t\t\tno (CpG context only, default)\n",
            "No-header selected:\t\tno\n",
            "Sorting method:\t\t\tUnix sort-based (smaller memory footprint, but slower)\n",
            "Sort buffer size:\t\t2G\n",
            "Coverage threshold:\t\t1\n",
            "=============================================================================\n",
            "Methylation information will now be written into a bedGraph and coverage file\n",
            "=============================================================================\n",
            "\n",
            "Using the following files as Input:\n",
            "/content/CpG_OT_s_8cell.deduplicated.txt.gz\t/content/CpG_OB_s_8cell.deduplicated.txt.gz\n",
            "\n",
            "Writing bedGraph to file: s_8cell.deduplicated.bedGraph.gz\n",
            "Also writing out a coverage file including counts methylated and unmethylated residues to file: s_8cell.deduplicated.bismark.cov.gz\n",
            "\n",
            "Now writing methylation information for file >>CpG_OT_s_8cell.deduplicated.txt.gz<< to individual files for each chromosome\n",
            "Finished writing out individual chromosome files for CpG_OT_s_8cell.deduplicated.txt.gz\n",
            "Now writing methylation information for file >>CpG_OB_s_8cell.deduplicated.txt.gz<< to individual files for each chromosome\n",
            "Finished writing out individual chromosome files for CpG_OB_s_8cell.deduplicated.txt.gz\n",
            "\n",
            "Collecting temporary chromosome file information... Processing the following input file(s):\n",
            "CpG_OT_s_8cell.deduplicated.txt.gz.chrchr11.methXtractor.temp\n",
            "\n",
            "Sorting input file CpG_OT_s_8cell.deduplicated.txt.gz.chrchr11.methXtractor.temp by positions (using -S of 2G)\n",
            "tcmalloc: large alloc 2147491840 bytes == 0x55ff5d832000 @  0x7f82aefdb1e7 0x55ff5c87d718 0x55ff5c87c5a1 0x7f82ae9b9c87 0x55ff5c87d02a\n",
            "Successfully deleted the temporary input file CpG_OT_s_8cell.deduplicated.txt.gz.chrchr11.methXtractor.temp\n",
            "\n",
            "Finished BedGraph conversion ...\n",
            "\n",
            "Summary of parameters for genome-wide cytosine report:\n",
            "==============================================================================\n",
            "Coverage infile:\t\t\t\ts_8cell.deduplicated.bismark.cov.gz\n",
            "Output directory:\t\t\t\t><\n",
            "Parent directory:\t\t\t\t>/content/<\n",
            "Genome directory:\t\t\t\t>/content/mouse_chr/<\n",
            "Coverage threshold\t\t\t\t0 (all positions will be reported, default)\n",
            "CX context:\t\t\t\t\tno (CpG context only, default)\n",
            "Genome coordinates used:\t\t\t1-based (default)\n",
            "GZIP compression:\t\t\t\tyes\n",
            "Split by chromosome:\t\t\t\tno\n",
            "\n",
            "\n",
            "Now reading in and storing sequence information of the genome specified in: /content/mouse_chr/\n",
            "\n",
            "chr chr11 (122082543 bp)\n",
            "\n",
            "Stored sequence information of 1 chromosomes/scaffolds in total\n",
            "\n",
            "==============================================================================\n",
            "Methylation information will now be written into a genome-wide cytosine report\n",
            "==============================================================================\n",
            "\n",
            "Adding context-specific methylation summaries\n",
            "\n",
            ">>> Writing genome-wide cytosine report to: s_8cell.deduplicated.CpG_report.txt.gz <<<\n",
            "\n",
            ">>> Writing all cytosine context summary file to: s_8cell.deduplicated.cytosine_context_summary.txt <<<\n",
            "\n",
            "Storing all covered cytosine positions for chromosome: chr11\n",
            "Writing cytosine report for last chromosome chr11 (stored 1736778 different covered positions)\n",
            "Finished writing out cytosine report for covered chromosomes (processed 1 chromosomes/scaffolds in total)\n",
            "\n",
            "Now processing chromosomes that were not covered by any methylation calls in the coverage file...\n",
            "All chromosomes in the genome were covered by at least some reads. coverage2cytosine processing complete.\n",
            "\n",
            "\n",
            "\n",
            "Finished generating genome-wide cytosine report\n",
            "\n"
          ]
        }
      ],
      "source": [
        "! bismark_methylation_extractor --gzip --bedGraph --cytosine_report --genome_folder ./mouse_chr s_8cell.deduplicated.bam"
      ]
    },
    {
      "cell_type": "code",
      "execution_count": null,
      "metadata": {
        "colab": {
          "base_uri": "https://localhost:8080/"
        },
        "id": "X0T9DtBAizMQ",
        "outputId": "1746fff1-110f-49ed-8669-e3781fe9035c"
      },
      "outputs": [
        {
          "name": "stdout",
          "output_type": "stream",
          "text": [
            "\n",
            " *** Bismark methylation extractor version v0.23.1 ***\n",
            "\n",
            "Trying to determine the type of mapping from the SAM header line of file s_icm.deduplicated.bam\n",
            "Treating file(s) as paired-end data (as extracted from @PG line)\n",
            "\n",
            "Setting option '--no_overlap' since this is (normally) the right thing to do for paired-end data\n",
            "\n",
            "\n",
            "Setting core usage to single-threaded (default). Consider using --multicore <int> to speed up the extraction process.\n",
            "\n",
            "Summarising Bismark methylation extractor parameters:\n",
            "===============================================================\n",
            "Bismark paired-end SAM format specified (default)\n",
            "Number of cores to be used: 1\n",
            "Output will be written to the current directory ('/content')\n",
            "\n",
            "\n",
            "Summarising bedGraph parameters:\n",
            "===============================================================\n",
            "Generating additional output in bedGraph and coverage format\n",
            "bedGraph format:\t<Chromosome> <Start Position> <End Position> <Methylation Percentage>\n",
            "coverage format:\t<Chromosome> <Start Position> <End Position> <Methylation Percentage> <count methylated> <count non-methylated>\n",
            "\n",
            "Using a cutoff of 1 read(s) to report cytosine positions\n",
            "Reporting and sorting cytosine methylation information in CpG context only (default)\n",
            "The bedGraph UNIX sort command will use the following memory setting:\t'2G'. Temporary directory used for sorting is the output directory\n",
            "\n",
            "\n",
            "Summarising genome-wide cytosine methylation report parameters:\n",
            "===============================================================\n",
            "Generating comprehensive genome-wide cytosine report\n",
            "(output format: <Chromosome> <Position> <Strand> <count methylated> <count non-methylated>  <C-context>  <trinucleotide context> )\n",
            "Reporting cytosine methylation in CpG context only (default)\n",
            "Using 1-based genomic coordinates (default)\n",
            "Genome folder was specified as ./mouse_chr/\n",
            "\n",
            "Checking file >>s_icm.deduplicated.bam<< for signs of file truncation...\n",
            "\n",
            "\n",
            "Now testing Bismark result file >s_icm.deduplicated.bam< for positional sorting (which would be bad...)\t...passed!\n",
            "Writing result file containing methylation information for C in CpG context from the original top strand to CpG_OT_s_icm.deduplicated.txt.gz\n",
            "Writing result file containing methylation information for C in CpG context from the complementary to original top strand to CpG_CTOT_s_icm.deduplicated.txt.gz\n",
            "Writing result file containing methylation information for C in CpG context from the complementary to original bottom strand to CpG_CTOB_s_icm.deduplicated.txt.gz\n",
            "Writing result file containing methylation information for C in CpG context from the original bottom strand to CpG_OB_s_icm.deduplicated.txt.gz\n",
            "\n",
            "Writing result file containing methylation information for C in CHG context from the original top strand to CHG_OT_s_icm.deduplicated.txt.gz\n",
            "Writing result file containing methylation information for C in CHG context from the complementary to original top strand to CHG_CTOT_s_icm.deduplicated.txt.gz\n",
            "Writing result file containing methylation information for C in CHG context from the complementary to original bottom strand to CHG_CTOB_s_icm.deduplicated.txt.gz\n",
            "Writing result file containing methylation information for C in CHG context from the original bottom strand to CHG_OB_s_icm.deduplicated.txt.gz\n",
            "\n",
            "Writing result file containing methylation information for C in CHH context from the original top strand to CHH_OT_s_icm.deduplicated.txt.gz\n",
            "Writing result file containing methylation information for C in CHH context from the complementary to original top strand to CHH_CTOT_s_icm.deduplicated.txt.gz\n",
            "Writing result file containing methylation information for C in CHH context from the complementary to original bottom strand to CHH_CTOB_s_icm.deduplicated.txt.gz\n",
            "Writing result file containing methylation information for C in CHH context from the original bottom strand to CHH_OB_s_icm.deduplicated.txt.gz\n",
            "\n",
            "Now reading in Bismark result file s_icm.deduplicated.bam\n",
            "skipping SAM header line:\t@HD\tVN:1.0\tSO:unsorted\n",
            "skipping SAM header line:\t@SQ\tSN:chr11\tLN:122082543\n",
            "skipping SAM header line:\t@PG\tID:Bismark\tVN:v0.23.1dev\tCL:\"bismark --gzip mouse_chr -1 data/SRR5836475_1.fastq.gz -2 data/SRR5836475_2.fastq.gz -o ICM/\"\n",
            "Processed lines: 500000\n",
            "Processed lines: 1000000\n",
            "Processed lines: 1500000\n",
            "Processed lines: 2000000\n",
            "Processed lines: 2500000\n",
            "Processed lines: 3000000\n",
            "Processed lines: 3500000\n",
            "\n",
            "Processed 3782116 lines in total\n",
            "Total number of methylation call strings processed: 7564232\n",
            "\n",
            "Final Cytosine Methylation Report\n",
            "=================================\n",
            "Total number of C's analysed:\t177157754\n",
            "\n",
            "Total methylated C's in CpG context:\t1914374\n",
            "Total methylated C's in CHG context:\t297421\n",
            "Total methylated C's in CHH context:\t1066806\n",
            "\n",
            "Total C to T conversions in CpG context:\t6262904\n",
            "Total C to T conversions in CHG context:\t39194423\n",
            "Total C to T conversions in CHH context:\t128421826\n",
            "\n",
            "C methylated in CpG context:\t23.4%\n",
            "C methylated in CHG context:\t0.8%\n",
            "C methylated in CHH context:\t0.8%\n",
            "\n",
            "\n",
            "Determining maximum read lengths for M-Bias plots\n",
            "Maximum read length of Read 1: 140\n",
            "Maximum read length of Read 2: 140\n",
            "\n",
            "Perl module GD::Graph::lines is not installed, skipping drawing M-bias plots (only writing out M-bias plot table)\n",
            "Determining maximum read lengths for M-Bias plots\n",
            "Maximum read length of Read 1: 140\n",
            "Maximum read length of Read 2: 140\n",
            "\n",
            "Perl module GD::Graph::lines is not installed, skipping drawing M-bias plots (only writing out M-bias plot table)\n",
            "Deleting unused files ...\n",
            "\n",
            "CpG_OT_s_icm.deduplicated.txt.gz contains data ->\tkept\n",
            "CpG_CTOT_s_icm.deduplicated.txt.gz was empty ->\tdeleted\n",
            "CpG_CTOB_s_icm.deduplicated.txt.gz was empty ->\tdeleted\n",
            "CpG_OB_s_icm.deduplicated.txt.gz contains data ->\tkept\n",
            "CHG_OT_s_icm.deduplicated.txt.gz contains data ->\tkept\n",
            "CHG_CTOT_s_icm.deduplicated.txt.gz was empty ->\tdeleted\n",
            "CHG_CTOB_s_icm.deduplicated.txt.gz was empty ->\tdeleted\n",
            "CHG_OB_s_icm.deduplicated.txt.gz contains data ->\tkept\n",
            "CHH_OT_s_icm.deduplicated.txt.gz contains data ->\tkept\n",
            "CHH_CTOT_s_icm.deduplicated.txt.gz was empty ->\tdeleted\n",
            "CHH_CTOB_s_icm.deduplicated.txt.gz was empty ->\tdeleted\n",
            "CHH_OB_s_icm.deduplicated.txt.gz contains data ->\tkept\n",
            "\n",
            "\n",
            "Using these input files: CpG_OT_s_icm.deduplicated.txt.gz CpG_OB_s_icm.deduplicated.txt.gz CHG_OT_s_icm.deduplicated.txt.gz CHG_OB_s_icm.deduplicated.txt.gz CHH_OT_s_icm.deduplicated.txt.gz CHH_OB_s_icm.deduplicated.txt.gz\n",
            "\n",
            "Summary of parameters for bismark2bedGraph conversion:\n",
            "======================================================\n",
            "bedGraph output:\t\ts_icm.deduplicated.bedGraph.gz\n",
            "output directory:\t\t><\n",
            "remove whitespaces:\t\tno\n",
            "CX context:\t\t\tno (CpG context only, default)\n",
            "No-header selected:\t\tno\n",
            "Sorting method:\t\t\tUnix sort-based (smaller memory footprint, but slower)\n",
            "Sort buffer size:\t\t2G\n",
            "Coverage threshold:\t\t1\n",
            "=============================================================================\n",
            "Methylation information will now be written into a bedGraph and coverage file\n",
            "=============================================================================\n",
            "\n",
            "Using the following files as Input:\n",
            "/content/CpG_OT_s_icm.deduplicated.txt.gz\t/content/CpG_OB_s_icm.deduplicated.txt.gz\n",
            "\n",
            "Writing bedGraph to file: s_icm.deduplicated.bedGraph.gz\n",
            "Also writing out a coverage file including counts methylated and unmethylated residues to file: s_icm.deduplicated.bismark.cov.gz\n",
            "\n",
            "Now writing methylation information for file >>CpG_OT_s_icm.deduplicated.txt.gz<< to individual files for each chromosome\n",
            "Finished writing out individual chromosome files for CpG_OT_s_icm.deduplicated.txt.gz\n",
            "Now writing methylation information for file >>CpG_OB_s_icm.deduplicated.txt.gz<< to individual files for each chromosome\n",
            "Finished writing out individual chromosome files for CpG_OB_s_icm.deduplicated.txt.gz\n",
            "\n",
            "Collecting temporary chromosome file information... Processing the following input file(s):\n",
            "CpG_OT_s_icm.deduplicated.txt.gz.chrchr11.methXtractor.temp\n",
            "\n",
            "Sorting input file CpG_OT_s_icm.deduplicated.txt.gz.chrchr11.methXtractor.temp by positions (using -S of 2G)\n",
            "tcmalloc: large alloc 2147491840 bytes == 0x5646df5e6000 @  0x7f68bc23e1e7 0x5646dea2c718 0x5646dea2b5a1 0x7f68bbc1cc87 0x5646dea2c02a\n",
            "Successfully deleted the temporary input file CpG_OT_s_icm.deduplicated.txt.gz.chrchr11.methXtractor.temp\n",
            "\n",
            "Finished BedGraph conversion ...\n",
            "\n",
            "Summary of parameters for genome-wide cytosine report:\n",
            "==============================================================================\n",
            "Coverage infile:\t\t\t\ts_icm.deduplicated.bismark.cov.gz\n",
            "Output directory:\t\t\t\t><\n",
            "Parent directory:\t\t\t\t>/content/<\n",
            "Genome directory:\t\t\t\t>/content/mouse_chr/<\n",
            "Coverage threshold\t\t\t\t0 (all positions will be reported, default)\n",
            "CX context:\t\t\t\t\tno (CpG context only, default)\n",
            "Genome coordinates used:\t\t\t1-based (default)\n",
            "GZIP compression:\t\t\t\tyes\n",
            "Split by chromosome:\t\t\t\tno\n",
            "\n",
            "\n",
            "Now reading in and storing sequence information of the genome specified in: /content/mouse_chr/\n",
            "\n",
            "chr chr11 (122082543 bp)\n",
            "\n",
            "Stored sequence information of 1 chromosomes/scaffolds in total\n",
            "\n",
            "==============================================================================\n",
            "Methylation information will now be written into a genome-wide cytosine report\n",
            "==============================================================================\n",
            "\n",
            "Adding context-specific methylation summaries\n",
            "\n",
            ">>> Writing genome-wide cytosine report to: s_icm.deduplicated.CpG_report.txt.gz <<<\n",
            "\n",
            ">>> Writing all cytosine context summary file to: s_icm.deduplicated.cytosine_context_summary.txt <<<\n",
            "\n",
            "Storing all covered cytosine positions for chromosome: chr11\n",
            "Writing cytosine report for last chromosome chr11 (stored 2053827 different covered positions)\n",
            "Finished writing out cytosine report for covered chromosomes (processed 1 chromosomes/scaffolds in total)\n",
            "\n",
            "Now processing chromosomes that were not covered by any methylation calls in the coverage file...\n",
            "All chromosomes in the genome were covered by at least some reads. coverage2cytosine processing complete.\n",
            "\n",
            "\n",
            "\n",
            "Finished generating genome-wide cytosine report\n",
            "\n"
          ]
        }
      ],
      "source": [
        "! bismark_methylation_extractor --gzip --bedGraph --cytosine_report --genome_folder ./mouse_chr s_icm.deduplicated.bam"
      ]
    },
    {
      "cell_type": "code",
      "execution_count": null,
      "metadata": {
        "colab": {
          "base_uri": "https://localhost:8080/"
        },
        "id": "LGvfgeAvi4E6",
        "outputId": "b7c52c2e-93f2-4eb6-f1ea-11795f16540a"
      },
      "outputs": [
        {
          "name": "stdout",
          "output_type": "stream",
          "text": [
            "\n",
            " *** Bismark methylation extractor version v0.23.1 ***\n",
            "\n",
            "Trying to determine the type of mapping from the SAM header line of file s_epiblast.deduplicated.bam\n",
            "Treating file(s) as paired-end data (as extracted from @PG line)\n",
            "\n",
            "Setting option '--no_overlap' since this is (normally) the right thing to do for paired-end data\n",
            "\n",
            "\n",
            "Setting core usage to single-threaded (default). Consider using --multicore <int> to speed up the extraction process.\n",
            "\n",
            "Summarising Bismark methylation extractor parameters:\n",
            "===============================================================\n",
            "Bismark paired-end SAM format specified (default)\n",
            "Number of cores to be used: 1\n",
            "Output will be written to the current directory ('/content')\n",
            "\n",
            "\n",
            "Summarising bedGraph parameters:\n",
            "===============================================================\n",
            "Generating additional output in bedGraph and coverage format\n",
            "bedGraph format:\t<Chromosome> <Start Position> <End Position> <Methylation Percentage>\n",
            "coverage format:\t<Chromosome> <Start Position> <End Position> <Methylation Percentage> <count methylated> <count non-methylated>\n",
            "\n",
            "Using a cutoff of 1 read(s) to report cytosine positions\n",
            "Reporting and sorting cytosine methylation information in CpG context only (default)\n",
            "The bedGraph UNIX sort command will use the following memory setting:\t'2G'. Temporary directory used for sorting is the output directory\n",
            "\n",
            "\n",
            "Summarising genome-wide cytosine methylation report parameters:\n",
            "===============================================================\n",
            "Generating comprehensive genome-wide cytosine report\n",
            "(output format: <Chromosome> <Position> <Strand> <count methylated> <count non-methylated>  <C-context>  <trinucleotide context> )\n",
            "Reporting cytosine methylation in CpG context only (default)\n",
            "Using 1-based genomic coordinates (default)\n",
            "Genome folder was specified as ./mouse_chr/\n",
            "\n",
            "Checking file >>s_epiblast.deduplicated.bam<< for signs of file truncation...\n",
            "\n",
            "\n",
            "Now testing Bismark result file >s_epiblast.deduplicated.bam< for positional sorting (which would be bad...)\t...passed!\n",
            "Writing result file containing methylation information for C in CpG context from the original top strand to CpG_OT_s_epiblast.deduplicated.txt.gz\n",
            "Writing result file containing methylation information for C in CpG context from the complementary to original top strand to CpG_CTOT_s_epiblast.deduplicated.txt.gz\n",
            "Writing result file containing methylation information for C in CpG context from the complementary to original bottom strand to CpG_CTOB_s_epiblast.deduplicated.txt.gz\n",
            "Writing result file containing methylation information for C in CpG context from the original bottom strand to CpG_OB_s_epiblast.deduplicated.txt.gz\n",
            "\n",
            "Writing result file containing methylation information for C in CHG context from the original top strand to CHG_OT_s_epiblast.deduplicated.txt.gz\n",
            "Writing result file containing methylation information for C in CHG context from the complementary to original top strand to CHG_CTOT_s_epiblast.deduplicated.txt.gz\n",
            "Writing result file containing methylation information for C in CHG context from the complementary to original bottom strand to CHG_CTOB_s_epiblast.deduplicated.txt.gz\n",
            "Writing result file containing methylation information for C in CHG context from the original bottom strand to CHG_OB_s_epiblast.deduplicated.txt.gz\n",
            "\n",
            "Writing result file containing methylation information for C in CHH context from the original top strand to CHH_OT_s_epiblast.deduplicated.txt.gz\n",
            "Writing result file containing methylation information for C in CHH context from the complementary to original top strand to CHH_CTOT_s_epiblast.deduplicated.txt.gz\n",
            "Writing result file containing methylation information for C in CHH context from the complementary to original bottom strand to CHH_CTOB_s_epiblast.deduplicated.txt.gz\n",
            "Writing result file containing methylation information for C in CHH context from the original bottom strand to CHH_OB_s_epiblast.deduplicated.txt.gz\n",
            "\n",
            "Now reading in Bismark result file s_epiblast.deduplicated.bam\n",
            "skipping SAM header line:\t@HD\tVN:1.0\tSO:unsorted\n",
            "skipping SAM header line:\t@SQ\tSN:chr11\tLN:122082543\n",
            "skipping SAM header line:\t@PG\tID:Bismark\tVN:v0.23.1dev\tCL:\"bismark -p 2 --gzip mouse_chr -1 data/SRR3824222_1.fastq.gz -2 data/SRR3824222_2.fastq.gz -o epiblast/\"\n",
            "Processed lines: 500000\n",
            "Processed lines: 1000000\n",
            "Processed lines: 1500000\n",
            "Processed lines: 2000000\n",
            "Processed lines: 2500000\n",
            "Processed lines: 3000000\n",
            "Processed lines: 3500000\n",
            "Processed lines: 4000000\n",
            "Processed lines: 4500000\n",
            "Processed lines: 5000000\n",
            "Processed lines: 5500000\n",
            "Processed lines: 6000000\n",
            "Processed lines: 6500000\n",
            "\n",
            "Processed 6833758 lines in total\n",
            "Total number of methylation call strings processed: 13667516\n",
            "\n",
            "Final Cytosine Methylation Report\n",
            "=================================\n",
            "Total number of C's analysed:\t330808061\n",
            "\n",
            "Total methylated C's in CpG context:\t11544557\n",
            "Total methylated C's in CHG context:\t1572954\n",
            "Total methylated C's in CHH context:\t3695988\n",
            "\n",
            "Total C to T conversions in CpG context:\t3465254\n",
            "Total C to T conversions in CHG context:\t71995231\n",
            "Total C to T conversions in CHH context:\t238534077\n",
            "\n",
            "C methylated in CpG context:\t76.9%\n",
            "C methylated in CHG context:\t2.1%\n",
            "C methylated in CHH context:\t1.5%\n",
            "\n",
            "\n",
            "Determining maximum read lengths for M-Bias plots\n",
            "Maximum read length of Read 1: 140\n",
            "Maximum read length of Read 2: 140\n",
            "\n",
            "Perl module GD::Graph::lines is not installed, skipping drawing M-bias plots (only writing out M-bias plot table)\n",
            "Determining maximum read lengths for M-Bias plots\n",
            "Maximum read length of Read 1: 140\n",
            "Maximum read length of Read 2: 140\n",
            "\n",
            "Perl module GD::Graph::lines is not installed, skipping drawing M-bias plots (only writing out M-bias plot table)\n",
            "Deleting unused files ...\n",
            "\n",
            "CpG_OT_s_epiblast.deduplicated.txt.gz contains data ->\tkept\n",
            "CpG_CTOT_s_epiblast.deduplicated.txt.gz was empty ->\tdeleted\n",
            "CpG_CTOB_s_epiblast.deduplicated.txt.gz was empty ->\tdeleted\n",
            "CpG_OB_s_epiblast.deduplicated.txt.gz contains data ->\tkept\n",
            "CHG_OT_s_epiblast.deduplicated.txt.gz contains data ->\tkept\n",
            "CHG_CTOT_s_epiblast.deduplicated.txt.gz was empty ->\tdeleted\n",
            "CHG_CTOB_s_epiblast.deduplicated.txt.gz was empty ->\tdeleted\n",
            "CHG_OB_s_epiblast.deduplicated.txt.gz contains data ->\tkept\n",
            "CHH_OT_s_epiblast.deduplicated.txt.gz contains data ->\tkept\n",
            "CHH_CTOT_s_epiblast.deduplicated.txt.gz was empty ->\tdeleted\n",
            "CHH_CTOB_s_epiblast.deduplicated.txt.gz was empty ->\tdeleted\n",
            "CHH_OB_s_epiblast.deduplicated.txt.gz contains data ->\tkept\n",
            "\n",
            "\n",
            "Using these input files: CpG_OT_s_epiblast.deduplicated.txt.gz CpG_OB_s_epiblast.deduplicated.txt.gz CHG_OT_s_epiblast.deduplicated.txt.gz CHG_OB_s_epiblast.deduplicated.txt.gz CHH_OT_s_epiblast.deduplicated.txt.gz CHH_OB_s_epiblast.deduplicated.txt.gz\n",
            "\n",
            "Summary of parameters for bismark2bedGraph conversion:\n",
            "======================================================\n",
            "bedGraph output:\t\ts_epiblast.deduplicated.bedGraph.gz\n",
            "output directory:\t\t><\n",
            "remove whitespaces:\t\tno\n",
            "CX context:\t\t\tno (CpG context only, default)\n",
            "No-header selected:\t\tno\n",
            "Sorting method:\t\t\tUnix sort-based (smaller memory footprint, but slower)\n",
            "Sort buffer size:\t\t2G\n",
            "Coverage threshold:\t\t1\n",
            "=============================================================================\n",
            "Methylation information will now be written into a bedGraph and coverage file\n",
            "=============================================================================\n",
            "\n",
            "Using the following files as Input:\n",
            "/content/CpG_OT_s_epiblast.deduplicated.txt.gz\t/content/CpG_OB_s_epiblast.deduplicated.txt.gz\n",
            "\n",
            "Writing bedGraph to file: s_epiblast.deduplicated.bedGraph.gz\n",
            "Also writing out a coverage file including counts methylated and unmethylated residues to file: s_epiblast.deduplicated.bismark.cov.gz\n",
            "\n",
            "Now writing methylation information for file >>CpG_OT_s_epiblast.deduplicated.txt.gz<< to individual files for each chromosome\n",
            "Finished writing out individual chromosome files for CpG_OT_s_epiblast.deduplicated.txt.gz\n",
            "Now writing methylation information for file >>CpG_OB_s_epiblast.deduplicated.txt.gz<< to individual files for each chromosome\n",
            "Finished writing out individual chromosome files for CpG_OB_s_epiblast.deduplicated.txt.gz\n",
            "\n",
            "Collecting temporary chromosome file information... Processing the following input file(s):\n",
            "CpG_OT_s_epiblast.deduplicated.txt.gz.chrchr11.methXtractor.temp\n",
            "\n",
            "Sorting input file CpG_OT_s_epiblast.deduplicated.txt.gz.chrchr11.methXtractor.temp by positions (using -S of 2G)\n",
            "tcmalloc: large alloc 2147491840 bytes == 0x5574abc48000 @  0x7f0c712001e7 0x5574aa10b718 0x5574aa10a5a1 0x7f0c70bdec87 0x5574aa10b02a\n",
            "Successfully deleted the temporary input file CpG_OT_s_epiblast.deduplicated.txt.gz.chrchr11.methXtractor.temp\n",
            "\n",
            "Finished BedGraph conversion ...\n",
            "\n",
            "Summary of parameters for genome-wide cytosine report:\n",
            "==============================================================================\n",
            "Coverage infile:\t\t\t\ts_epiblast.deduplicated.bismark.cov.gz\n",
            "Output directory:\t\t\t\t><\n",
            "Parent directory:\t\t\t\t>/content/<\n",
            "Genome directory:\t\t\t\t>/content/mouse_chr/<\n",
            "Coverage threshold\t\t\t\t0 (all positions will be reported, default)\n",
            "CX context:\t\t\t\t\tno (CpG context only, default)\n",
            "Genome coordinates used:\t\t\t1-based (default)\n",
            "GZIP compression:\t\t\t\tyes\n",
            "Split by chromosome:\t\t\t\tno\n",
            "\n",
            "\n",
            "Now reading in and storing sequence information of the genome specified in: /content/mouse_chr/\n",
            "\n",
            "chr chr11 (122082543 bp)\n",
            "\n",
            "Stored sequence information of 1 chromosomes/scaffolds in total\n",
            "\n",
            "==============================================================================\n",
            "Methylation information will now be written into a genome-wide cytosine report\n",
            "==============================================================================\n",
            "\n",
            "Adding context-specific methylation summaries\n",
            "\n",
            ">>> Writing genome-wide cytosine report to: s_epiblast.deduplicated.CpG_report.txt.gz <<<\n",
            "\n",
            ">>> Writing all cytosine context summary file to: s_epiblast.deduplicated.cytosine_context_summary.txt <<<\n",
            "\n",
            "Storing all covered cytosine positions for chromosome: chr11\n",
            "Writing cytosine report for last chromosome chr11 (stored 2249610 different covered positions)\n",
            "Finished writing out cytosine report for covered chromosomes (processed 1 chromosomes/scaffolds in total)\n",
            "\n",
            "Now processing chromosomes that were not covered by any methylation calls in the coverage file...\n",
            "All chromosomes in the genome were covered by at least some reads. coverage2cytosine processing complete.\n",
            "\n",
            "\n",
            "\n",
            "Finished generating genome-wide cytosine report\n",
            "\n"
          ]
        }
      ],
      "source": [
        "! bismark_methylation_extractor --gzip --bedGraph --cytosine_report --genome_folder ./mouse_chr s_epiblast.deduplicated.bam"
      ]
    },
    {
      "cell_type": "code",
      "execution_count": null,
      "metadata": {
        "colab": {
          "base_uri": "https://localhost:8080/"
        },
        "id": "zD-eMUHFi7HP",
        "outputId": "ebfba053-6f4e-48d3-ece8-e617399c12b5"
      },
      "outputs": [
        {
          "name": "stdout",
          "output_type": "stream",
          "text": [
            "\n",
            "Writing Bismark HTML report to >> SRR5836473_1_bismark_bt2_PE_report.html <<\n",
            "\n",
            "==============================================================================================================\n",
            "Using the following alignment report:\t\t> SRR5836473_1_bismark_bt2_PE_report.txt <\n",
            "Processing alignment report SRR5836473_1_bismark_bt2_PE_report.txt ...\n",
            "Complete\n",
            "\n",
            "Using the following deduplication report:\t> SRR5836473_1_bismark_bt2_pe.deduplication_report.txt <\n",
            "Processing deduplication report SRR5836473_1_bismark_bt2_pe.deduplication_report.txt ...\n",
            "Complete\n",
            "\n",
            "No splitting report file specified, skipping this step\n",
            "Using the following M-bias report:\t\t> s_8cell.deduplicated.M-bias.txt <\n",
            "Processing M-bias report s_8cell.deduplicated.M-bias.txt ...\n",
            "Complete\n",
            "\n",
            "No nucleotide coverage report file specified, skipping this step\n",
            "==============================================================================================================\n",
            "\n",
            "\n"
          ]
        }
      ],
      "source": [
        "! bismark2report --alignment_report SRR5836473_1_bismark_bt2_PE_report.txt -mbias_report s_8cell.deduplicated.M-bias.txt\n"
      ]
    },
    {
      "cell_type": "code",
      "execution_count": null,
      "metadata": {
        "colab": {
          "base_uri": "https://localhost:8080/"
        },
        "id": "9P8nHYbji9zk",
        "outputId": "90fd88a1-542b-45b0-cc60-5a5e5aed9469"
      },
      "outputs": [
        {
          "name": "stdout",
          "output_type": "stream",
          "text": [
            "\n",
            "Writing Bismark HTML report to >> SRR5836475_1_bismark_bt2_PE_report.html <<\n",
            "\n",
            "==============================================================================================================\n",
            "Using the following alignment report:\t\t> SRR5836475_1_bismark_bt2_PE_report.txt <\n",
            "Processing alignment report SRR5836475_1_bismark_bt2_PE_report.txt ...\n",
            "Complete\n",
            "\n",
            "Using the following deduplication report:\t> SRR5836475_1_bismark_bt2_pe.deduplication_report.txt <\n",
            "Processing deduplication report SRR5836475_1_bismark_bt2_pe.deduplication_report.txt ...\n",
            "Complete\n",
            "\n",
            "No splitting report file specified, skipping this step\n",
            "Using the following M-bias report:\t\t> s_icm.deduplicated.M-bias.txt <\n",
            "Processing M-bias report s_icm.deduplicated.M-bias.txt ...\n",
            "Complete\n",
            "\n",
            "No nucleotide coverage report file specified, skipping this step\n",
            "==============================================================================================================\n",
            "\n",
            "\n"
          ]
        }
      ],
      "source": [
        "! bismark2report --alignment_report SRR5836475_1_bismark_bt2_PE_report.txt -mbias_report s_icm.deduplicated.M-bias.txt"
      ]
    },
    {
      "cell_type": "code",
      "execution_count": null,
      "metadata": {
        "colab": {
          "base_uri": "https://localhost:8080/"
        },
        "id": "sv8HD-EUjB_4",
        "outputId": "8ebbfabf-45c9-4950-914c-3abd1c225d4f"
      },
      "outputs": [
        {
          "name": "stdout",
          "output_type": "stream",
          "text": [
            "\n",
            "Writing Bismark HTML report to >> SRR3824222_1_bismark_bt2_PE_report.html <<\n",
            "\n",
            "==============================================================================================================\n",
            "Using the following alignment report:\t\t> SRR3824222_1_bismark_bt2_PE_report.txt <\n",
            "Processing alignment report SRR3824222_1_bismark_bt2_PE_report.txt ...\n",
            "Complete\n",
            "\n",
            "Using the following deduplication report:\t> SRR3824222_1_bismark_bt2_pe.deduplication_report.txt <\n",
            "Processing deduplication report SRR3824222_1_bismark_bt2_pe.deduplication_report.txt ...\n",
            "Complete\n",
            "\n",
            "No splitting report file specified, skipping this step\n",
            "Using the following M-bias report:\t\t> s_epiblast.deduplicated.M-bias.txt <\n",
            "Processing M-bias report s_epiblast.deduplicated.M-bias.txt ...\n",
            "Complete\n",
            "\n",
            "No nucleotide coverage report file specified, skipping this step\n",
            "==============================================================================================================\n",
            "\n",
            "\n"
          ]
        }
      ],
      "source": [
        "! bismark2report --alignment_report SRR3824222_1_bismark_bt2_PE_report.txt -mbias_report s_epiblast.deduplicated.M-bias.txt"
      ]
    },
    {
      "cell_type": "code",
      "execution_count": null,
      "metadata": {
        "id": "vtYY1VfPjO2v"
      },
      "outputs": [],
      "source": [
        "!gunzip *.bedGraph.gz\n",
        "!gunzip *.bismark.cov.gz"
      ]
    },
    {
      "cell_type": "code",
      "execution_count": null,
      "metadata": {
        "colab": {
          "base_uri": "https://localhost:8080/"
        },
        "id": "63LT309_jTFL",
        "outputId": "e3d09baf-255b-4ee2-969f-623df46ea181"
      },
      "outputs": [
        {
          "name": "stdout",
          "output_type": "stream",
          "text": [
            "track type=bedGraph\n",
            "chr11\t3100030\t3100031\t50\n",
            "chr11\t3100047\t3100048\t66.6666666666667\n",
            "chr11\t3100048\t3100049\t50\n",
            "chr11\t3100223\t3100224\t87.5\n",
            "chr11\t3100224\t3100225\t53.3333333333333\n",
            "chr11\t3100285\t3100286\t66.6666666666667\n",
            "chr11\t3100286\t3100287\t33.3333333333333\n",
            "chr11\t3100309\t3100310\t62.5\n",
            "chr11\t3100310\t3100311\t50\n"
          ]
        }
      ],
      "source": [
        "! head s_8cell.deduplicated.bedGraph"
      ]
    },
    {
      "cell_type": "code",
      "execution_count": null,
      "metadata": {
        "colab": {
          "base_uri": "https://localhost:8080/"
        },
        "id": "kPbHB8qnjVMr",
        "outputId": "39980537-5e59-4510-e0ee-909b4f56e578"
      },
      "outputs": [
        {
          "name": "stdout",
          "output_type": "stream",
          "text": [
            "chr11\t3100031\t3100031\t50\t1\t1\n",
            "chr11\t3100048\t3100048\t66.6666666666667\t2\t1\n",
            "chr11\t3100049\t3100049\t50\t1\t1\n",
            "chr11\t3100224\t3100224\t87.5\t7\t1\n",
            "chr11\t3100225\t3100225\t53.3333333333333\t8\t7\n",
            "chr11\t3100286\t3100286\t66.6666666666667\t6\t3\n",
            "chr11\t3100287\t3100287\t33.3333333333333\t5\t10\n",
            "chr11\t3100310\t3100310\t62.5\t5\t3\n",
            "chr11\t3100311\t3100311\t50\t7\t7\n",
            "chr11\t3100349\t3100349\t55.5555555555556\t5\t4\n"
          ]
        }
      ],
      "source": [
        "! head s_8cell.deduplicated.bismark.cov"
      ]
    },
    {
      "cell_type": "markdown",
      "metadata": {
        "id": "LKBD3cwo1wLx"
      },
      "source": [
        "Коллинг метилирования"
      ]
    },
    {
      "cell_type": "code",
      "execution_count": null,
      "metadata": {
        "colab": {
          "base_uri": "https://localhost:8080/"
        },
        "id": "4c5BEvKpDw5K",
        "outputId": "466f8918-d79f-4add-b17b-6601c7630e5a"
      },
      "outputs": [
        {
          "name": "stdout",
          "output_type": "stream",
          "text": [
            "\n",
            " *** Bismark methylation extractor version v0.23.1 ***\n",
            "\n",
            "Trying to determine the type of mapping from the SAM header line of file s_8_cell.deduplicated.bam\n",
            "Treating file(s) as paired-end data (as extracted from @PG line)\n",
            "\n",
            "Setting option '--no_overlap' since this is (normally) the right thing to do for paired-end data\n",
            "\n",
            "\n",
            "Setting core usage to single-threaded (default). Consider using --multicore <int> to speed up the extraction process.\n",
            "\n",
            "Summarising Bismark methylation extractor parameters:\n",
            "===============================================================\n",
            "Bismark paired-end SAM format specified (default)\n",
            "Number of cores to be used: 1\n",
            "Output will be written to the current directory ('/content')\n",
            "\n",
            "\n",
            "Summarising bedGraph parameters:\n",
            "===============================================================\n",
            "Generating additional output in bedGraph and coverage format\n",
            "bedGraph format:\t<Chromosome> <Start Position> <End Position> <Methylation Percentage>\n",
            "coverage format:\t<Chromosome> <Start Position> <End Position> <Methylation Percentage> <count methylated> <count non-methylated>\n",
            "\n",
            "Using a cutoff of 1 read(s) to report cytosine positions\n",
            "Reporting and sorting cytosine methylation information in CpG context only (default)\n",
            "The bedGraph UNIX sort command will use the following memory setting:\t'2G'. Temporary directory used for sorting is the output directory\n",
            "\n",
            "\n",
            "Summarising genome-wide cytosine methylation report parameters:\n",
            "===============================================================\n",
            "Generating comprehensive genome-wide cytosine report\n",
            "(output format: <Chromosome> <Position> <Strand> <count methylated> <count non-methylated>  <C-context>  <trinucleotide context> )\n",
            "Reporting cytosine methylation in CpG context only (default)\n",
            "Using 1-based genomic coordinates (default)\n",
            "Genome folder was specified as ./mouse_chr/\n",
            "\n",
            "Checking file >>s_8_cell.deduplicated.bam<< for signs of file truncation...\n",
            "\n",
            "\n",
            "Now testing Bismark result file >s_8_cell.deduplicated.bam< for positional sorting (which would be bad...)\t...passed!\n",
            "Writing result file containing methylation information for C in CpG context from the original top strand to CpG_OT_s_8_cell.deduplicated.txt.gz\n",
            "Writing result file containing methylation information for C in CpG context from the complementary to original top strand to CpG_CTOT_s_8_cell.deduplicated.txt.gz\n",
            "Writing result file containing methylation information for C in CpG context from the complementary to original bottom strand to CpG_CTOB_s_8_cell.deduplicated.txt.gz\n",
            "Writing result file containing methylation information for C in CpG context from the original bottom strand to CpG_OB_s_8_cell.deduplicated.txt.gz\n",
            "\n",
            "Writing result file containing methylation information for C in CHG context from the original top strand to CHG_OT_s_8_cell.deduplicated.txt.gz\n",
            "Writing result file containing methylation information for C in CHG context from the complementary to original top strand to CHG_CTOT_s_8_cell.deduplicated.txt.gz\n",
            "Writing result file containing methylation information for C in CHG context from the complementary to original bottom strand to CHG_CTOB_s_8_cell.deduplicated.txt.gz\n",
            "Writing result file containing methylation information for C in CHG context from the original bottom strand to CHG_OB_s_8_cell.deduplicated.txt.gz\n",
            "\n",
            "Writing result file containing methylation information for C in CHH context from the original top strand to CHH_OT_s_8_cell.deduplicated.txt.gz\n",
            "Writing result file containing methylation information for C in CHH context from the complementary to original top strand to CHH_CTOT_s_8_cell.deduplicated.txt.gz\n",
            "Writing result file containing methylation information for C in CHH context from the complementary to original bottom strand to CHH_CTOB_s_8_cell.deduplicated.txt.gz\n",
            "Writing result file containing methylation information for C in CHH context from the original bottom strand to CHH_OB_s_8_cell.deduplicated.txt.gz\n",
            "\n",
            "Now reading in Bismark result file s_8_cell.deduplicated.bam\n",
            "skipping SAM header line:\t@HD\tVN:1.0\tSO:unsorted\n",
            "skipping SAM header line:\t@SQ\tSN:chr11\tLN:122082543\n",
            "skipping SAM header line:\t@PG\tID:Bismark\tVN:v0.23.1dev\tCL:\"bismark -p 2 --gzip mouse_chr -1 data/SRR5836473_1.fastq.gz -2 data/SRR5836473_2.fastq.gz -o cell8/\"\n",
            "Processed lines: 500000\n",
            "Processed lines: 1000000\n",
            "Processed lines: 1500000\n",
            "Processed lines: 2000000\n",
            "\n",
            "Processed 2328327 lines in total\n",
            "Total number of methylation call strings processed: 4656654\n",
            "\n",
            "Final Cytosine Methylation Report\n",
            "=================================\n",
            "Total number of C's analysed:\t104224209\n",
            "\n",
            "Total methylated C's in CpG context:\t2101489\n",
            "Total methylated C's in CHG context:\t269204\n",
            "Total methylated C's in CHH context:\t944695\n",
            "\n",
            "Total C to T conversions in CpG context:\t2731177\n",
            "Total C to T conversions in CHG context:\t22964928\n",
            "Total C to T conversions in CHH context:\t75212716\n",
            "\n",
            "C methylated in CpG context:\t43.5%\n",
            "C methylated in CHG context:\t1.2%\n",
            "C methylated in CHH context:\t1.2%\n",
            "\n",
            "\n",
            "Determining maximum read lengths for M-Bias plots\n",
            "Maximum read length of Read 1: 140\n",
            "Maximum read length of Read 2: 140\n",
            "\n",
            "Perl module GD::Graph::lines is not installed, skipping drawing M-bias plots (only writing out M-bias plot table)\n",
            "Determining maximum read lengths for M-Bias plots\n",
            "Maximum read length of Read 1: 140\n",
            "Maximum read length of Read 2: 140\n",
            "\n",
            "Perl module GD::Graph::lines is not installed, skipping drawing M-bias plots (only writing out M-bias plot table)\n",
            "Deleting unused files ...\n",
            "\n",
            "CpG_OT_s_8_cell.deduplicated.txt.gz contains data ->\tkept\n",
            "CpG_CTOT_s_8_cell.deduplicated.txt.gz was empty ->\tdeleted\n",
            "CpG_CTOB_s_8_cell.deduplicated.txt.gz was empty ->\tdeleted\n",
            "CpG_OB_s_8_cell.deduplicated.txt.gz contains data ->\tkept\n",
            "CHG_OT_s_8_cell.deduplicated.txt.gz contains data ->\tkept\n",
            "CHG_CTOT_s_8_cell.deduplicated.txt.gz was empty ->\tdeleted\n",
            "CHG_CTOB_s_8_cell.deduplicated.txt.gz was empty ->\tdeleted\n",
            "CHG_OB_s_8_cell.deduplicated.txt.gz contains data ->\tkept\n",
            "CHH_OT_s_8_cell.deduplicated.txt.gz contains data ->\tkept\n",
            "CHH_CTOT_s_8_cell.deduplicated.txt.gz was empty ->\tdeleted\n",
            "CHH_CTOB_s_8_cell.deduplicated.txt.gz was empty ->\tdeleted\n",
            "CHH_OB_s_8_cell.deduplicated.txt.gz contains data ->\tkept\n",
            "\n",
            "\n",
            "Using these input files: CpG_OT_s_8_cell.deduplicated.txt.gz CpG_OB_s_8_cell.deduplicated.txt.gz CHG_OT_s_8_cell.deduplicated.txt.gz CHG_OB_s_8_cell.deduplicated.txt.gz CHH_OT_s_8_cell.deduplicated.txt.gz CHH_OB_s_8_cell.deduplicated.txt.gz\n",
            "\n",
            "Summary of parameters for bismark2bedGraph conversion:\n",
            "======================================================\n",
            "bedGraph output:\t\ts_8_cell.deduplicated.bedGraph.gz\n",
            "output directory:\t\t><\n",
            "remove whitespaces:\t\tno\n",
            "CX context:\t\t\tno (CpG context only, default)\n",
            "No-header selected:\t\tno\n",
            "Sorting method:\t\t\tUnix sort-based (smaller memory footprint, but slower)\n",
            "Sort buffer size:\t\t2G\n",
            "Coverage threshold:\t\t1\n",
            "=============================================================================\n",
            "Methylation information will now be written into a bedGraph and coverage file\n",
            "=============================================================================\n",
            "\n",
            "Using the following files as Input:\n",
            "/content/CpG_OT_s_8_cell.deduplicated.txt.gz\t/content/CpG_OB_s_8_cell.deduplicated.txt.gz\n",
            "\n",
            "Writing bedGraph to file: s_8_cell.deduplicated.bedGraph.gz\n",
            "Also writing out a coverage file including counts methylated and unmethylated residues to file: s_8_cell.deduplicated.bismark.cov.gz\n",
            "\n",
            "Now writing methylation information for file >>CpG_OT_s_8_cell.deduplicated.txt.gz<< to individual files for each chromosome\n",
            "Finished writing out individual chromosome files for CpG_OT_s_8_cell.deduplicated.txt.gz\n",
            "Now writing methylation information for file >>CpG_OB_s_8_cell.deduplicated.txt.gz<< to individual files for each chromosome\n",
            "Finished writing out individual chromosome files for CpG_OB_s_8_cell.deduplicated.txt.gz\n",
            "\n",
            "Collecting temporary chromosome file information... Processing the following input file(s):\n",
            "CpG_OT_s_8_cell.deduplicated.txt.gz.chrchr11.methXtractor.temp\n",
            "\n",
            "Sorting input file CpG_OT_s_8_cell.deduplicated.txt.gz.chrchr11.methXtractor.temp by positions (using -S of 2G)\n",
            "tcmalloc: large alloc 2147491840 bytes == 0x5556297f0000 @  0x7fa0c12371e7 0x555627ccb718 0x555627cca5a1 0x7fa0c0c15bf7 0x555627ccb02a\n",
            "Successfully deleted the temporary input file CpG_OT_s_8_cell.deduplicated.txt.gz.chrchr11.methXtractor.temp\n",
            "\n",
            "Finished BedGraph conversion ...\n",
            "\n",
            "Summary of parameters for genome-wide cytosine report:\n",
            "==============================================================================\n",
            "Coverage infile:\t\t\t\ts_8_cell.deduplicated.bismark.cov.gz\n",
            "Output directory:\t\t\t\t><\n",
            "Parent directory:\t\t\t\t>/content/<\n",
            "Genome directory:\t\t\t\t>/content/mouse_chr/<\n",
            "Coverage threshold\t\t\t\t0 (all positions will be reported, default)\n",
            "CX context:\t\t\t\t\tno (CpG context only, default)\n",
            "Genome coordinates used:\t\t\t1-based (default)\n",
            "GZIP compression:\t\t\t\tyes\n",
            "Split by chromosome:\t\t\t\tno\n",
            "\n",
            "\n",
            "Now reading in and storing sequence information of the genome specified in: /content/mouse_chr/\n",
            "\n",
            "chr chr11 (122082543 bp)\n",
            "\n",
            "Stored sequence information of 1 chromosomes/scaffolds in total\n",
            "\n",
            "==============================================================================\n",
            "Methylation information will now be written into a genome-wide cytosine report\n",
            "==============================================================================\n",
            "\n",
            "Adding context-specific methylation summaries\n",
            "\n",
            ">>> Writing genome-wide cytosine report to: s_8_cell.deduplicated.CpG_report.txt.gz <<<\n",
            "\n",
            ">>> Writing all cytosine context summary file to: s_8_cell.deduplicated.cytosine_context_summary.txt <<<\n",
            "\n",
            "Storing all covered cytosine positions for chromosome: chr11\n",
            "Writing cytosine report for last chromosome chr11 (stored 1736778 different covered positions)\n",
            "Finished writing out cytosine report for covered chromosomes (processed 1 chromosomes/scaffolds in total)\n",
            "\n",
            "Now processing chromosomes that were not covered by any methylation calls in the coverage file...\n",
            "All chromosomes in the genome were covered by at least some reads. coverage2cytosine processing complete.\n",
            "\n",
            "\n",
            "\n",
            "Finished generating genome-wide cytosine report\n",
            "\n"
          ]
        }
      ],
      "source": [
        "! bismark_methylation_extractor --gzip --bedGraph --cytosine_report --genome_folder ./mouse_chr s_8_cell.deduplicated.bam"
      ]
    },
    {
      "cell_type": "code",
      "execution_count": null,
      "metadata": {
        "colab": {
          "base_uri": "https://localhost:8080/"
        },
        "id": "iNwzMUeAkQ4f",
        "outputId": "60db20c5-d3a0-4f8b-a7f9-54ddf0244fad"
      },
      "outputs": [
        {
          "name": "stdout",
          "output_type": "stream",
          "text": [
            "total 2.4G\n",
            "-rw-r--r-- 1 root root  47M Feb 14 09:31 CHG_OB_s_8_cell.deduplicated.txt.gz\n",
            "-rw-r--r-- 1 root root  47M Feb 14 09:31 CHG_OT_s_8_cell.deduplicated.txt.gz\n",
            "-rw-r--r-- 1 root root 127M Feb 14 09:31 CHH_OB_s_8_cell.deduplicated.txt.gz\n",
            "-rw-r--r-- 1 root root 126M Feb 14 09:31 CHH_OT_s_8_cell.deduplicated.txt.gz\n",
            "-rw-r--r-- 1 root root  13K Feb 14 08:55 condacolab_install.log\n",
            "-rw-r--r-- 1 root root  15M Feb 14 09:31 CpG_OB_s_8_cell.deduplicated.txt.gz\n",
            "-rw-r--r-- 1 root root  15M Feb 14 09:31 CpG_OT_s_8_cell.deduplicated.txt.gz\n",
            "drwxr-xr-x 3 root root 4.0K Feb  3 06:58 mouse_chr\n",
            "-rw------- 1 root root 349M Feb 14 09:12 mouse_chr.zip\n",
            "-rw-r--r-- 1 root root 528M Feb 14 09:07 s_8_cell.deduplicated.bam\n",
            "-rw-r--r-- 1 root root 9.8M Feb 14 09:31 s_8_cell.deduplicated.bedGraph.gz\n",
            "-rw-r--r-- 1 root root 9.4M Feb 14 09:31 s_8_cell.deduplicated.bismark.cov.gz\n",
            "-rw-r--r-- 1 root root 9.9M Feb 14 09:35 s_8_cell.deduplicated.CpG_report.txt.gz\n",
            "-rw-r--r-- 1 root root 1.6K Feb 14 09:35 s_8_cell.deduplicated.cytosine_context_summary.txt\n",
            "-rw-r--r-- 1 root root  22K Feb 14 09:31 s_8_cell.deduplicated.M-bias.txt\n",
            "-rw-r--r-- 1 root root  840 Feb 14 09:31 s_8_cell.deduplicated_splitting_report.txt\n",
            "drwxr-xr-x 1 root root 4.0K Feb  1 14:32 sample_data\n",
            "-rw-r--r-- 1 root root 524M Feb 14 09:01 sorted_8cell.bam\n",
            "-rw-r--r-- 1 root root 199K Feb 14 09:04 sorted_8cell.bam.bai\n",
            "-rw------- 1 root root 636M Feb 14 08:57 SRR5836473_1_bismark_bt2_pe.bam\n",
            "-rw-r--r-- 1 root root  283 Feb 14 09:07 SRR5836473_1_bismark_bt2_pe.deduplication_report.txt\n",
            "-rw------- 1 root root 1.9K Feb 14 08:58 SRR5836473_1_bismark_bt2_PE_report.txt\n"
          ]
        }
      ],
      "source": [
        "! ls -lh"
      ]
    },
    {
      "cell_type": "markdown",
      "metadata": {
        "id": "1yuRuud-mMK-"
      },
      "source": [
        ""
      ]
    },
    {
      "cell_type": "code",
      "execution_count": null,
      "metadata": {
        "colab": {
          "base_uri": "https://localhost:8080/"
        },
        "id": "6RQ7FwM-UsSi",
        "outputId": "ed894d64-917a-41f4-8ede-b4eb095376f6"
      },
      "outputs": [
        {
          "name": "stdout",
          "output_type": "stream",
          "text": [
            "Found 1 alignment reports in current directory. Now trying to figure out whether there are corresponding optional reports\n",
            "\n",
            "Writing Bismark HTML report to >> SRR5836473_1_bismark_bt2_PE_report.html <<\n",
            "\n",
            "==============================================================================================================\n",
            "Using the following alignment report:\t\t> SRR5836473_1_bismark_bt2_PE_report.txt <\n",
            "Processing alignment report SRR5836473_1_bismark_bt2_PE_report.txt ...\n",
            "Complete\n",
            "\n",
            "Using the following deduplication report:\t> SRR5836473_1_bismark_bt2_pe.deduplication_report.txt <\n",
            "Processing deduplication report SRR5836473_1_bismark_bt2_pe.deduplication_report.txt ...\n",
            "Complete\n",
            "\n",
            "No splitting report file specified, skipping this step\n",
            "Using the following M-bias report:\t\t> s_8_cell.deduplicated.M-bias.txt <\n",
            "Processing M-bias report s_8_cell.deduplicated.M-bias.txt ...\n",
            "Complete\n",
            "\n",
            "No nucleotide coverage report file specified, skipping this step\n",
            "==============================================================================================================\n",
            "\n",
            "\n"
          ]
        }
      ],
      "source": [
        "! bismark2report -mbias_report s_8_cell.deduplicated.M-bias.txt\n"
      ]
    },
    {
      "cell_type": "code",
      "execution_count": null,
      "metadata": {
        "colab": {
          "base_uri": "https://localhost:8080/"
        },
        "id": "tI5AUYTPliqA",
        "outputId": "ce78ad41-7453-4bba-c532-94e4abedd673"
      },
      "outputs": [
        {
          "name": "stdout",
          "output_type": "stream",
          "text": [
            "track type=bedGraph\n",
            "chr11\t3100030\t3100031\t50\n",
            "chr11\t3100047\t3100048\t66.6666666666667\n",
            "chr11\t3100048\t3100049\t50\n",
            "chr11\t3100223\t3100224\t87.5\n",
            "chr11\t3100224\t3100225\t53.3333333333333\n",
            "chr11\t3100285\t3100286\t66.6666666666667\n",
            "chr11\t3100286\t3100287\t33.3333333333333\n",
            "chr11\t3100309\t3100310\t62.5\n",
            "chr11\t3100310\t3100311\t50\n"
          ]
        }
      ],
      "source": [
        "! head s_8_cell.deduplicated.bedGraph"
      ]
    },
    {
      "cell_type": "code",
      "execution_count": null,
      "metadata": {
        "colab": {
          "base_uri": "https://localhost:8080/"
        },
        "id": "fcS724jEncto",
        "outputId": "05a52408-c273-4d86-8068-da898f23c4ca"
      },
      "outputs": [
        {
          "name": "stdout",
          "output_type": "stream",
          "text": [
            "chr11\t3100031\t3100031\t50\t1\t1\n",
            "chr11\t3100048\t3100048\t66.6666666666667\t2\t1\n",
            "chr11\t3100049\t3100049\t50\t1\t1\n",
            "chr11\t3100224\t3100224\t87.5\t7\t1\n",
            "chr11\t3100225\t3100225\t53.3333333333333\t8\t7\n",
            "chr11\t3100286\t3100286\t66.6666666666667\t6\t3\n",
            "chr11\t3100287\t3100287\t33.3333333333333\t5\t10\n",
            "chr11\t3100310\t3100310\t62.5\t5\t3\n",
            "chr11\t3100311\t3100311\t50\t7\t7\n",
            "chr11\t3100349\t3100349\t55.5555555555556\t5\t4\n"
          ]
        }
      ],
      "source": [
        "! head s_8_cell.deduplicated.bismark.cov"
      ]
    },
    {
      "cell_type": "code",
      "execution_count": null,
      "metadata": {
        "id": "8lXvxNdt_XNj"
      },
      "outputs": [],
      "source": [
        "import numpy as np\n",
        "import matplotlib.pyplot as plt\n",
        "\n",
        "def hist(name):\n",
        "    file_name = f's_{name}.deduplicated.bismark.cov'\n",
        "    with open(file_name, 'r') as file:\n",
        "        lines = file.readlines()\n",
        "    data = np.empty(len(lines))\n",
        "    print(data.shape)\n",
        "    for idx, line in enumerate(lines):\n",
        "        if idx % 100000 == 99999:\n",
        "            print(idx / 100000)\n",
        "        _, _, _, num, _, _ = line.split()\n",
        "        data[idx] = float(num)\n",
        "    print(data)\n",
        "    fig, ax = plt.subplots(1, 1)\n",
        "    fig.set_size_inches(18, 14)\n",
        "    ax.hist(data, bins=20)"
      ]
    },
    {
      "cell_type": "code",
      "execution_count": null,
      "metadata": {
        "colab": {
          "base_uri": "https://localhost:8080/",
          "height": 958
        },
        "id": "r2_NGkz1_oIV",
        "outputId": "1cec2131-6219-4d7d-d998-372990616ae4"
      },
      "outputs": [
        {
          "name": "stdout",
          "output_type": "stream",
          "text": [
            "(1736778,)\n",
            "0.99999\n",
            "1.99999\n",
            "2.99999\n",
            "3.99999\n",
            "4.99999\n",
            "5.99999\n",
            "6.99999\n",
            "7.99999\n",
            "8.99999\n",
            "9.99999\n",
            "10.99999\n",
            "11.99999\n",
            "12.99999\n",
            "13.99999\n",
            "14.99999\n",
            "15.99999\n",
            "16.99999\n",
            "[ 50.          66.66666667  50.         ...   0.          33.33333333\n",
            " 100.        ]\n"
          ]
        },
        {
          "data": {
            "image/png": "[encoded data removed]",
            "text/plain": [
              "<Figure size 1296x1008 with 1 Axes>"
            ]
          },
          "metadata": {},
          "output_type": "display_data"
        }
      ],
      "source": [
        "hist('8cell')"
      ]
    },
    {
      "cell_type": "code",
      "execution_count": null,
      "metadata": {
        "colab": {
          "base_uri": "https://localhost:8080/",
          "height": 1000
        },
        "id": "5Wfmic8K_s9E",
        "outputId": "e3459aac-e24e-4587-bd0b-9960377624fa"
      },
      "outputs": [
        {
          "name": "stdout",
          "output_type": "stream",
          "text": [
            "(2053827,)\n",
            "0.99999\n",
            "1.99999\n",
            "2.99999\n",
            "3.99999\n",
            "4.99999\n",
            "5.99999\n",
            "6.99999\n",
            "7.99999\n",
            "8.99999\n",
            "9.99999\n",
            "10.99999\n",
            "11.99999\n",
            "12.99999\n",
            "13.99999\n",
            "14.99999\n",
            "15.99999\n",
            "16.99999\n",
            "17.99999\n",
            "18.99999\n",
            "19.99999\n",
            "[33.33333333 50.         50.         ... 33.33333333 33.33333333\n",
            "  0.        ]\n"
          ]
        },
        {
          "data": {
            "image/png": "[encoded data removed]",
            "text/plain": [
              "<Figure size 1296x1008 with 1 Axes>"
            ]
          },
          "metadata": {},
          "output_type": "display_data"
        }
      ],
      "source": [
        "hist('icm')"
      ]
    },
    {
      "cell_type": "code",
      "execution_count": null,
      "metadata": {
        "colab": {
          "base_uri": "https://localhost:8080/",
          "height": 1000
        },
        "id": "SGmmo7x0_vM8",
        "outputId": "c7e2896d-817f-413f-df50-9c9b269aa19c"
      },
      "outputs": [
        {
          "name": "stdout",
          "output_type": "stream",
          "text": [
            "(2249610,)\n",
            "0.99999\n",
            "1.99999\n",
            "2.99999\n",
            "3.99999\n",
            "4.99999\n",
            "5.99999\n",
            "6.99999\n",
            "7.99999\n",
            "8.99999\n",
            "9.99999\n",
            "10.99999\n",
            "11.99999\n",
            "12.99999\n",
            "13.99999\n",
            "14.99999\n",
            "15.99999\n",
            "16.99999\n",
            "17.99999\n",
            "18.99999\n",
            "19.99999\n",
            "20.99999\n",
            "21.99999\n",
            "[ 75. 100. 100. ... 100.  50. 100.]\n"
          ]
        },
        {
          "data": {
            "image/png": "[encoded data removed]",
            "text/plain": [
              "<Figure size 1296x1008 with 1 Axes>"
            ]
          },
          "metadata": {},
          "output_type": "display_data"
        }
      ],
      "source": [
        "hist('epiblast')"
      ]
    },
    {
      "cell_type": "code",
      "execution_count": null,
      "metadata": {
        "colab": {
          "base_uri": "https://localhost:8080/"
        },
        "id": "2DnfQizK_zSV",
        "outputId": "c575bb2e-6742-48a3-c62e-2cda45e06b96"
      },
      "outputs": [
        {
          "name": "stdout",
          "output_type": "stream",
          "text": [
            "Collecting package metadata (current_repodata.json): - \b\b\\ \b\b| \b\b/ \b\b- \b\b\\ \b\b| \b\b/ \b\b- \b\b\\ \b\b| \b\b/ \b\b- \b\b\\ \b\b| \b\b/ \b\b- \b\b\\ \b\b| \b\b/ \b\b- \b\b\\ \b\b| \b\b/ \b\b- \b\b\\ \b\b| \b\b/ \b\b- \b\b\\ \b\b| \b\b/ \b\b- \b\b\\ \b\b| \b\b/ \b\b- \b\b\\ \b\b| \b\b/ \b\b- \b\b\\ \b\b| \b\b/ \b\b- \b\b\\ \b\b| \b\b/ \b\b- \b\b\\ \b\b| \b\b/ \b\b- \b\b\\ \b\b| \b\b/ \b\b- \b\b\\ \b\b| \b\b/ \b\b- \b\b\\ \b\b| \b\b/ \b\b- \b\b\\ \b\b| \b\b/ \b\b- \b\b\\ \b\b| \b\b/ \b\b- \b\b\\ \b\b| \b\b/ \b\b- \b\b\\ \b\b| \b\b/ \b\b- \b\b\\ \b\b| \b\b/ \b\b- \b\b\\ \b\b| \b\b/ \b\b- \b\b\\ \b\b| \b\b/ \b\b- \b\b\\ \b\b| \b\b/ \b\b- \b\b\\ \b\b| \b\b/ \b\b- \b\b\\ \b\b| \b\b/ \b\b- \b\b\\ \b\b| \b\b/ \b\b- \b\b\\ \b\b| \b\b/ \b\b- \b\b\\ \b\b| \b\b/ \b\b- \b\b\\ \b\b| \b\b/ \b\b- \b\b\\ \b\b| \b\b/ \b\b- \b\b\\ \b\b| \b\b/ \b\b- \b\b\\ \b\b| \b\b/ \b\b- \b\b\\ \b\b| \b\b/ \b\b- \b\b\\ \b\bdone\n",
            "Solving environment: / \b\b- \b\b\\ \b\b| \b\b/ \b\b- \b\b\\ \b\b| \b\b/ \b\b- \b\b\\ \b\bdone\n",
            "\n",
            "## Package Plan ##\n",
            "\n",
            "  environment location: /usr/local\n",
            "\n",
            "  added / updated specs:\n",
            "    - ucsc-fetchchromsizes\n",
            "\n",
            "\n",
            "The following packages will be downloaded:\n",
            "\n",
            "    package                    |            build\n",
            "    ---------------------------|-----------------\n",
            "    libpng-1.6.37              |       h21135ba_2         306 KB  conda-forge\n",
            "    libuuid-2.32.1             |    h7f98852_1000          28 KB  conda-forge\n",
            "    mysql-connector-c-6.1.11   |    h6eb9d5d_1007         2.7 MB  conda-forge\n",
            "    ucsc-fetchchromsizes-377   |       h0b8a92a_2           7 KB  bioconda\n",
            "    ------------------------------------------------------------\n",
            "                                           Total:         3.0 MB\n",
            "\n",
            "The following NEW packages will be INSTALLED:\n",
            "\n",
            "  libpng             conda-forge/linux-64::libpng-1.6.37-h21135ba_2\n",
            "  libuuid            conda-forge/linux-64::libuuid-2.32.1-h7f98852_1000\n",
            "  mysql-connector-c  conda-forge/linux-64::mysql-connector-c-6.1.11-h6eb9d5d_1007\n",
            "  ucsc-fetchchromsi~ bioconda/linux-64::ucsc-fetchchromsizes-377-h0b8a92a_2\n",
            "\n",
            "\n",
            "\n",
            "Downloading and Extracting Packages\n",
            "mysql-connector-c-6. | 2.7 MB    | : 100% 1.0/1 [00:00<00:00,  1.67it/s]\n",
            "ucsc-fetchchromsizes | 7 KB      | : 100% 1.0/1 [00:00<00:00, 25.17it/s]\n",
            "libpng-1.6.37        | 306 KB    | : 100% 1.0/1 [00:00<00:00,  8.31it/s]\n",
            "libuuid-2.32.1       | 28 KB     | : 100% 1.0/1 [00:00<00:00, 26.76it/s]\n",
            "Preparing transaction: / \b\bdone\n",
            "Verifying transaction: \\ \b\b| \b\bdone\n",
            "Executing transaction: - \b\bdone\n"
          ]
        }
      ],
      "source": [
        "! conda install -c bioconda ucsc-fetchchromsizes"
      ]
    },
    {
      "cell_type": "code",
      "execution_count": null,
      "metadata": {
        "colab": {
          "base_uri": "https://localhost:8080/"
        },
        "id": "Wae8ozip_2e4",
        "outputId": "b2dd1267-1be5-4459-d41f-31fb63f0594d"
      },
      "outputs": [
        {
          "name": "stdout",
          "output_type": "stream",
          "text": [
            "INFO: trying CURL  for database mm10\n",
            "url: http://hgdownload.soe.ucsc.edu/goldenPath/mm10/bigZips/mm10.chrom.sizes\n"
          ]
        }
      ],
      "source": [
        "! fetchChromSizes mm10 > m.chrom.sizes"
      ]
    },
    {
      "cell_type": "code",
      "execution_count": null,
      "metadata": {
        "colab": {
          "base_uri": "https://localhost:8080/"
        },
        "id": "zUZUbDCO_3uq",
        "outputId": "b6ef4fff-e39b-49d7-8895-ad5fa96d0537"
      },
      "outputs": [
        {
          "name": "stdout",
          "output_type": "stream",
          "text": [
            "Collecting package metadata (current_repodata.json): - \b\b\\ \b\b| \b\b/ \b\b- \b\b\\ \b\b| \b\b/ \b\b- \b\b\\ \b\b| \b\b/ \b\b- \b\b\\ \b\b| \b\b/ \b\b- \b\b\\ \b\b| \b\b/ \b\b- \b\bdone\n",
            "Solving environment: | \b\b/ \b\b- \b\b\\ \b\b| \b\b/ \b\b- \b\b\\ \b\b| \b\b/ \b\b- \b\b\\ \b\bdone\n",
            "\n",
            "## Package Plan ##\n",
            "\n",
            "  environment location: /usr/local\n",
            "\n",
            "  added / updated specs:\n",
            "    - ucsc-bedgraphtobigwig\n",
            "\n",
            "\n",
            "The following packages will be downloaded:\n",
            "\n",
            "    package                    |            build\n",
            "    ---------------------------|-----------------\n",
            "    ucsc-bedgraphtobigwig-377  |       h446ed27_1         321 KB  bioconda\n",
            "    ------------------------------------------------------------\n",
            "                                           Total:         321 KB\n",
            "\n",
            "The following NEW packages will be INSTALLED:\n",
            "\n",
            "  ucsc-bedgraphtobi~ bioconda/linux-64::ucsc-bedgraphtobigwig-377-h446ed27_1\n",
            "\n",
            "\n",
            "\n",
            "Downloading and Extracting Packages\n",
            "ucsc-bedgraphtobigwi | 321 KB    | : 100% 1.0/1 [00:00<00:00,  7.70it/s]\n",
            "Preparing transaction: / \b\bdone\n",
            "Verifying transaction: \\ \b\bdone\n",
            "Executing transaction: / \b\bdone\n"
          ]
        }
      ],
      "source": [
        "! conda install -c bioconda ucsc-bedgraphtobigwig"
      ]
    },
    {
      "cell_type": "code",
      "execution_count": null,
      "metadata": {
        "id": "Nb3xw68Q_7w-"
      },
      "outputs": [],
      "source": [
        "! bedGraphToBigWig  s_8cell.deduplicated.bedGraph m.chrom.sizes cell8_methylation.bw\n",
        "! bedGraphToBigWig  s_epiblast.deduplicated.bedGraph m.chrom.sizes epiblast_methylation.bw\n",
        "! bedGraphToBigWig  s_icm.deduplicated.bedGraph m.chrom.sizes icm_methylation.bw"
      ]
    },
    {
      "cell_type": "code",
      "execution_count": null,
      "metadata": {
        "colab": {
          "base_uri": "https://localhost:8080/"
        },
        "id": "xw6cleyrACFY",
        "outputId": "ff815ddc-cc51-46bb-8e92-d74e0deb9ebd"
      },
      "outputs": [
        {
          "name": "stdout",
          "output_type": "stream",
          "text": [
            "track type=bedGraph\n",
            "chr11\t3100030\t3100031\t50\n",
            "chr11\t3100047\t3100048\t66.6666666666667\n",
            "chr11\t3100048\t3100049\t50\n",
            "chr11\t3100223\t3100224\t87.5\n",
            "chr11\t3100224\t3100225\t53.3333333333333\n",
            "chr11\t3100285\t3100286\t66.6666666666667\n",
            "chr11\t3100286\t3100287\t33.3333333333333\n",
            "chr11\t3100309\t3100310\t62.5\n",
            "chr11\t3100310\t3100311\t50\n"
          ]
        }
      ],
      "source": [
        "! head s_8cell.deduplicated.bedGraph"
      ]
    },
    {
      "cell_type": "code",
      "execution_count": null,
      "metadata": {
        "colab": {
          "base_uri": "https://localhost:8080/"
        },
        "id": "UcpohHPJAl_j",
        "outputId": "ba07db53-9c35-4821-b157-6c5b1df6f360"
      },
      "outputs": [
        {
          "name": "stdout",
          "output_type": "stream",
          "text": [
            "Reading package lists... Done\n",
            "Building dependency tree       \n",
            "Reading state information... Done\n",
            "The following NEW packages will be installed:\n",
            "  bedtools\n",
            "0 upgraded, 1 newly installed, 0 to remove and 39 not upgraded.\n",
            "Need to get 577 kB of archives.\n",
            "After this operation, 2,040 kB of additional disk space will be used.\n",
            "Get:1 http://archive.ubuntu.com/ubuntu bionic/universe amd64 bedtools amd64 2.26.0+dfsg-5 [577 kB]\n",
            "Fetched 577 kB in 2s (350 kB/s)\n",
            "Selecting previously unselected package bedtools.\n",
            "(Reading database ... 155335 files and directories currently installed.)\n",
            "Preparing to unpack .../bedtools_2.26.0+dfsg-5_amd64.deb ...\n",
            "Unpacking bedtools (2.26.0+dfsg-5) ...\n",
            "Setting up bedtools (2.26.0+dfsg-5) ...\n"
          ]
        }
      ],
      "source": [
        "! apt-get install bedtools"
      ]
    },
    {
      "cell_type": "code",
      "execution_count": null,
      "metadata": {
        "colab": {
          "background_save": true
        },
        "id": "tFTZXCjPADYQ"
      },
      "outputs": [],
      "source": [
        "! bedtools genomecov -bg -ibam s_8cell.deduplicated.bam -g m.chromSizes  > s_8cell.cover.bedGraph\n",
        "! bedtools genomecov -bg -ibam s_icm.deduplicated.bam -g m.chromSizes  > s_icm.cover.bedGraph\n",
        "! bedtools genomecov -bg -ibam s_epiblast.deduplicated.bam -g m.chromSizes  >  s_epiblast.cover.bedGraph\n",
        "\n",
        "! bedGraphToBigWig   s_8cell.cover.bedGraph m.chrom.sizes cell8_coverage.bw\n",
        "! bedGraphToBigWig   s_icm.cover.bedGraph m.chrom.sizes icm_coverage.bw\n",
        "! bedGraphToBigWig   s_epiblast.cover.bedGraph m.chrom.sizes epiblast_coverage.bw"
      ]
    },
    {
      "cell_type": "code",
      "source": [
        "! pip install pyGenomeTracks"
      ],
      "metadata": {
        "colab": {
          "base_uri": "https://localhost:8080/",
          "height": 1000
        },
        "id": "9DfkErzWlWbu",
        "outputId": "d710c5b9-17ca-41d9-b6aa-953a3cebf7b9"
      },
      "execution_count": 66,
      "outputs": [
        {
          "output_type": "stream",
          "name": "stdout",
          "text": [
            "Collecting pyGenomeTracks\n",
            "  Downloading pyGenomeTracks-3.6-py2.py3-none-any.whl (94 kB)\n",
            "\u001b[K     |████████████████████████████████| 94 kB 2.2 MB/s \n",
            "\u001b[?25hCollecting future>=0.17.0\n",
            "  Downloading future-0.18.2.tar.gz (829 kB)\n",
            "\u001b[K     |████████████████████████████████| 829 kB 22.4 MB/s \n",
            "\u001b[?25hCollecting numpy>=1.16\n",
            "  Downloading numpy-1.21.5-cp37-cp37m-manylinux_2_12_x86_64.manylinux2010_x86_64.whl (15.7 MB)\n",
            "\u001b[K     |████████████████████████████████| 15.7 MB 226 kB/s \n",
            "\u001b[?25hCollecting gffutils>=0.9\n",
            "  Downloading gffutils-0.10.1.tar.gz (1.5 MB)\n",
            "\u001b[K     |████████████████████████████████| 1.5 MB 47.8 MB/s \n",
            "\u001b[?25hCollecting matplotlib<=3.3.2,>=3.1.1\n",
            "  Downloading matplotlib-3.3.2-cp37-cp37m-manylinux1_x86_64.whl (11.6 MB)\n",
            "\u001b[K     |████████████████████████████████| 11.6 MB 34.7 MB/s \n",
            "\u001b[?25hCollecting intervaltree>=2.1.0\n",
            "  Downloading intervaltree-3.1.0.tar.gz (32 kB)\n",
            "Collecting pybedtools>=0.8.1\n",
            "  Downloading pybedtools-0.9.0.tar.gz (12.5 MB)\n",
            "\u001b[K     |████████████████████████████████| 12.5 MB 22.1 MB/s \n",
            "\u001b[?25hRequirement already satisfied: tqdm>=4.20 in /usr/local/lib/python3.7/site-packages (from pyGenomeTracks) (4.59.0)\n",
            "Collecting pyBigWig>=0.3.16\n",
            "  Downloading pyBigWig-0.3.18.tar.gz (64 kB)\n",
            "\u001b[K     |████████████████████████████████| 64 kB 891 kB/s \n",
            "\u001b[?25hCollecting hicmatrix>=15\n",
            "  Downloading HiCMatrix-15-py3-none-any.whl (37 kB)\n",
            "Collecting pysam>=0.14\n",
            "  Downloading pysam-0.18.0-cp37-cp37m-manylinux_2_12_x86_64.manylinux2010_x86_64.whl (14.9 MB)\n",
            "\u001b[K     |████████████████████████████████| 14.9 MB 24.6 MB/s \n",
            "\u001b[?25hCollecting pytest\n",
            "  Downloading pytest-7.1.1-py3-none-any.whl (297 kB)\n",
            "\u001b[K     |████████████████████████████████| 297 kB 56.4 MB/s \n",
            "\u001b[?25hCollecting pyfaidx>=0.5.5.2\n",
            "  Downloading pyfaidx-0.6.4.tar.gz (100 kB)\n",
            "\u001b[K     |████████████████████████████████| 100 kB 9.8 MB/s \n",
            "\u001b[?25hRequirement already satisfied: six>=1.12.0 in /usr/local/lib/python3.7/site-packages (from gffutils>=0.9->pyGenomeTracks) (1.15.0)\n",
            "Collecting argh>=0.26.2\n",
            "  Downloading argh-0.26.2-py2.py3-none-any.whl (30 kB)\n",
            "Collecting argcomplete>=1.9.4\n",
            "  Downloading argcomplete-2.0.0-py2.py3-none-any.whl (37 kB)\n",
            "Collecting simplejson\n",
            "  Downloading simplejson-3.17.6-cp37-cp37m-manylinux_2_5_x86_64.manylinux1_x86_64.manylinux_2_12_x86_64.manylinux2010_x86_64.whl (130 kB)\n",
            "\u001b[K     |████████████████████████████████| 130 kB 45.0 MB/s \n",
            "\u001b[?25hCollecting importlib-metadata<5,>=0.23\n",
            "  Downloading importlib_metadata-4.11.3-py3-none-any.whl (18 kB)\n",
            "Collecting cooler>=0.8.9\n",
            "  Downloading cooler-0.8.11-py2.py3-none-any.whl (100 kB)\n",
            "\u001b[K     |████████████████████████████████| 100 kB 9.8 MB/s \n",
            "\u001b[?25hCollecting tables>=3.5.*\n",
            "  Downloading tables-3.7.0-cp37-cp37m-manylinux_2_17_x86_64.manylinux2014_x86_64.whl (5.9 MB)\n",
            "\u001b[K     |████████████████████████████████| 5.9 MB 22.6 MB/s \n",
            "\u001b[?25hCollecting pandas>=0.25.*\n",
            "  Downloading pandas-1.3.5-cp37-cp37m-manylinux_2_17_x86_64.manylinux2014_x86_64.whl (11.3 MB)\n",
            "\u001b[K     |████████████████████████████████| 11.3 MB 35.2 MB/s \n",
            "\u001b[?25hCollecting scipy>=1.2.*\n",
            "  Downloading scipy-1.7.3-cp37-cp37m-manylinux_2_12_x86_64.manylinux2010_x86_64.whl (38.1 MB)\n",
            "\u001b[K     |████████████████████████████████| 38.1 MB 204 kB/s \n",
            "\u001b[?25hCollecting asciitree\n",
            "  Downloading asciitree-0.3.3.tar.gz (4.0 kB)\n",
            "Collecting multiprocess\n",
            "  Downloading multiprocess-0.70.12.2-py37-none-any.whl (112 kB)\n",
            "\u001b[K     |████████████████████████████████| 112 kB 62.3 MB/s \n",
            "\u001b[?25hCollecting h5py>=2.5\n",
            "  Downloading h5py-3.6.0-cp37-cp37m-manylinux_2_12_x86_64.manylinux2010_x86_64.whl (4.1 MB)\n",
            "\u001b[K     |████████████████████████████████| 4.1 MB 59.9 MB/s \n",
            "\u001b[?25hCollecting cytoolz<0.11\n",
            "  Downloading cytoolz-0.10.1.tar.gz (475 kB)\n",
            "\u001b[K     |████████████████████████████████| 475 kB 48.7 MB/s \n",
            "\u001b[?25hCollecting pypairix\n",
            "  Downloading pypairix-0.3.7.tar.gz (65 kB)\n",
            "\u001b[K     |████████████████████████████████| 65 kB 4.4 MB/s \n",
            "\u001b[?25hCollecting pyyaml\n",
            "  Downloading PyYAML-6.0-cp37-cp37m-manylinux_2_5_x86_64.manylinux1_x86_64.manylinux_2_12_x86_64.manylinux2010_x86_64.whl (596 kB)\n",
            "\u001b[K     |████████████████████████████████| 596 kB 63.7 MB/s \n",
            "\u001b[?25hCollecting click>=7\n",
            "  Downloading click-8.0.4-py3-none-any.whl (97 kB)\n",
            "\u001b[K     |████████████████████████████████| 97 kB 7.7 MB/s \n",
            "\u001b[?25hCollecting toolz>=0.8.0\n",
            "  Downloading toolz-0.11.2-py3-none-any.whl (55 kB)\n",
            "\u001b[K     |████████████████████████████████| 55 kB 4.3 MB/s \n",
            "\u001b[?25hCollecting cached-property\n",
            "  Downloading cached_property-1.5.2-py2.py3-none-any.whl (7.6 kB)\n",
            "Collecting zipp>=0.5\n",
            "  Downloading zipp-3.7.0-py3-none-any.whl (5.3 kB)\n",
            "Collecting typing-extensions>=3.6.4\n",
            "  Downloading typing_extensions-4.1.1-py3-none-any.whl (26 kB)\n",
            "Collecting sortedcontainers<3.0,>=2.0\n",
            "  Downloading sortedcontainers-2.4.0-py2.py3-none-any.whl (29 kB)\n",
            "Collecting pyparsing!=2.0.4,!=2.1.2,!=2.1.6,>=2.0.3\n",
            "  Using cached pyparsing-3.0.7-py3-none-any.whl (98 kB)\n",
            "Collecting pillow>=6.2.0\n",
            "  Downloading Pillow-9.0.1-cp37-cp37m-manylinux_2_17_x86_64.manylinux2014_x86_64.whl (4.3 MB)\n",
            "\u001b[K     |████████████████████████████████| 4.3 MB 41.0 MB/s \n",
            "\u001b[?25hCollecting python-dateutil>=2.1\n",
            "  Downloading python_dateutil-2.8.2-py2.py3-none-any.whl (247 kB)\n",
            "\u001b[K     |████████████████████████████████| 247 kB 43.5 MB/s \n",
            "\u001b[?25hCollecting kiwisolver>=1.0.1\n",
            "  Downloading kiwisolver-1.4.0-cp37-cp37m-manylinux_2_5_x86_64.manylinux1_x86_64.whl (1.1 MB)\n",
            "\u001b[K     |████████████████████████████████| 1.1 MB 52.1 MB/s \n",
            "\u001b[?25hCollecting cycler>=0.10\n",
            "  Downloading cycler-0.11.0-py3-none-any.whl (6.4 kB)\n",
            "Requirement already satisfied: certifi>=2020.06.20 in /usr/local/lib/python3.7/site-packages (from matplotlib<=3.3.2,>=3.1.1->pyGenomeTracks) (2021.10.8)\n",
            "Collecting pytz>=2017.3\n",
            "  Downloading pytz-2022.1-py2.py3-none-any.whl (503 kB)\n",
            "\u001b[K     |████████████████████████████████| 503 kB 46.5 MB/s \n",
            "\u001b[?25hRequirement already satisfied: setuptools>=0.7 in /usr/local/lib/python3.7/site-packages (from pyfaidx>=0.5.5.2->gffutils>=0.9->pyGenomeTracks) (49.6.0.post20210108)\n",
            "Collecting numexpr>=2.6.2\n",
            "  Downloading numexpr-2.8.1-cp37-cp37m-manylinux_2_17_x86_64.manylinux2014_x86_64.whl (379 kB)\n",
            "\u001b[K     |████████████████████████████████| 379 kB 51.0 MB/s \n",
            "\u001b[?25hCollecting packaging\n",
            "  Using cached packaging-21.3-py3-none-any.whl (40 kB)\n",
            "Collecting dill>=0.3.4\n",
            "  Downloading dill-0.3.4-py2.py3-none-any.whl (86 kB)\n",
            "\u001b[K     |████████████████████████████████| 86 kB 5.0 MB/s \n",
            "\u001b[?25hCollecting attrs>=19.2.0\n",
            "  Downloading attrs-21.4.0-py2.py3-none-any.whl (60 kB)\n",
            "\u001b[K     |████████████████████████████████| 60 kB 7.3 MB/s \n",
            "\u001b[?25hCollecting py>=1.8.2\n",
            "  Downloading py-1.11.0-py2.py3-none-any.whl (98 kB)\n",
            "\u001b[K     |████████████████████████████████| 98 kB 7.3 MB/s \n",
            "\u001b[?25hCollecting pluggy<2.0,>=0.12\n",
            "  Downloading pluggy-1.0.0-py2.py3-none-any.whl (13 kB)\n",
            "Collecting tomli>=1.0.0\n",
            "  Using cached tomli-2.0.1-py3-none-any.whl (12 kB)\n",
            "Collecting iniconfig\n",
            "  Downloading iniconfig-1.1.1-py2.py3-none-any.whl (5.0 kB)\n",
            "Building wheels for collected packages: future, gffutils, cytoolz, intervaltree, pybedtools, pyBigWig, pyfaidx, asciitree, pypairix\n",
            "  Building wheel for future (setup.py) ... \u001b[?25l\u001b[?25hdone\n",
            "  Created wheel for future: filename=future-0.18.2-py3-none-any.whl size=491059 sha256=35c1707a61a8933b276b88d521732506adb26c36d85cba94d8c4be85961a5308\n",
            "  Stored in directory: /root/.cache/pip/wheels/56/b0/fe/4410d17b32f1f0c3cf54cdfb2bc04d7b4b8f4ae377e2229ba0\n",
            "  Building wheel for gffutils (setup.py) ... \u001b[?25l\u001b[?25hdone\n",
            "  Created wheel for gffutils: filename=gffutils-0.10.1-py3-none-any.whl size=1608576 sha256=b252a51fcbd0d6f79dbbe8394b56fdb26f1207c7fe853a5fb99b3b2efbc7e8aa\n",
            "  Stored in directory: /root/.cache/pip/wheels/cc/30/54/f2100041e9b3f5ea90f8f7ebd748aa98a58ebc7b456688a0ba\n",
            "  Building wheel for cytoolz (setup.py) ... \u001b[?25l\u001b[?25hdone\n",
            "  Created wheel for cytoolz: filename=cytoolz-0.10.1-cp37-cp37m-linux_x86_64.whl size=1257744 sha256=d799b2f3c809e0bde8b3036099e02d67064a0c33abf0532f98ee48089bd07e1f\n",
            "  Stored in directory: /root/.cache/pip/wheels/db/f0/a6/8d56aaec49585b245b0694bf8972e50a3b2a83331657ea7e95\n",
            "  Building wheel for intervaltree (setup.py) ... \u001b[?25l\u001b[?25hdone\n",
            "  Created wheel for intervaltree: filename=intervaltree-3.1.0-py2.py3-none-any.whl size=26102 sha256=3e8b9106830e30e50e155479db6e8a0ea466c752f599bb6f064b529df99fdefe\n",
            "  Stored in directory: /root/.cache/pip/wheels/16/85/bd/1001cbb46dcfb71c2001cd7401c6fb250392f22a81ce3722f7\n",
            "  Building wheel for pybedtools (setup.py) ... \u001b[?25l\u001b[?25hdone\n",
            "  Created wheel for pybedtools: filename=pybedtools-0.9.0-cp37-cp37m-linux_x86_64.whl size=13654284 sha256=b8668cba732cda81a00fd9325979989715d3830d638ccc8eb4c8e2eb3c1277f0\n",
            "  Stored in directory: /root/.cache/pip/wheels/7a/44/0d/3a7449885adaf8ebb157da8c3c834a712f48b3b3b84ba51dda\n",
            "  Building wheel for pyBigWig (setup.py) ... \u001b[?25l\u001b[?25hdone\n",
            "  Created wheel for pyBigWig: filename=pyBigWig-0.3.18-cp37-cp37m-linux_x86_64.whl size=148236 sha256=5381d33a372ba123c36a93518cda4092c5a05871cf9bb6cca2004f4bbc80c0fd\n",
            "  Stored in directory: /root/.cache/pip/wheels/28/eb/46/c761563ba38bd516bcc6accde3d4188cd84eec067f9201cbec\n",
            "  Building wheel for pyfaidx (setup.py) ... \u001b[?25l\u001b[?25hdone\n",
            "  Created wheel for pyfaidx: filename=pyfaidx-0.6.4-py3-none-any.whl size=26534 sha256=98bde9f30248db5b124d7fbd6b8792be88618121881722ab8fa8c7dafed6804c\n",
            "  Stored in directory: /root/.cache/pip/wheels/b2/16/a9/432d2035e17e4291f49cc518298a44192e5d4f544474f19123\n",
            "  Building wheel for asciitree (setup.py) ... \u001b[?25l\u001b[?25hdone\n",
            "  Created wheel for asciitree: filename=asciitree-0.3.3-py3-none-any.whl size=5036 sha256=b9bf5439bb7018a3d6c1a6c5e8e3989c2d5f65a983c064d79ba4f3f2ff8aaf12\n",
            "  Stored in directory: /root/.cache/pip/wheels/12/1c/38/0def51e15add93bff3f4bf9c248b94db0839b980b8535e72a0\n",
            "  Building wheel for pypairix (setup.py) ... \u001b[?25l\u001b[?25hdone\n",
            "  Created wheel for pypairix: filename=pypairix-0.3.7-cp37-cp37m-linux_x86_64.whl size=148234 sha256=65a01d54a2938a858122f74e68d79567d5a61579f680e680b8b0cfd90f9b6145\n",
            "  Stored in directory: /root/.cache/pip/wheels/c7/8e/06/7c0d1ddd07b0311ea0b859c34e63b395cb931857033ab3cff3\n",
            "Successfully built future gffutils cytoolz intervaltree pybedtools pyBigWig pyfaidx asciitree pypairix\n",
            "Installing collected packages: zipp, typing-extensions, pyparsing, toolz, pytz, python-dateutil, packaging, numpy, importlib-metadata, dill, cached-property, sortedcontainers, simplejson, scipy, pyyaml, pypairix, pyfaidx, pandas, numexpr, multiprocess, h5py, cytoolz, click, asciitree, tomli, tables, pysam, py, pluggy, pillow, kiwisolver, intervaltree, iniconfig, cycler, cooler, attrs, argh, argcomplete, pytest, pyBigWig, pybedtools, matplotlib, hicmatrix, gffutils, future, pyGenomeTracks\n",
            "Successfully installed argcomplete-2.0.0 argh-0.26.2 asciitree-0.3.3 attrs-21.4.0 cached-property-1.5.2 click-8.0.4 cooler-0.8.11 cycler-0.11.0 cytoolz-0.10.1 dill-0.3.4 future-0.18.2 gffutils-0.10.1 h5py-3.6.0 hicmatrix-15 importlib-metadata-4.11.3 iniconfig-1.1.1 intervaltree-3.1.0 kiwisolver-1.4.0 matplotlib-3.3.2 multiprocess-0.70.12.2 numexpr-2.8.1 numpy-1.21.5 packaging-21.3 pandas-1.3.5 pillow-9.0.1 pluggy-1.0.0 py-1.11.0 pyBigWig-0.3.18 pyGenomeTracks-3.6 pybedtools-0.9.0 pyfaidx-0.6.4 pypairix-0.3.7 pyparsing-3.0.7 pysam-0.18.0 pytest-7.1.1 python-dateutil-2.8.2 pytz-2022.1 pyyaml-6.0 scipy-1.7.3 simplejson-3.17.6 sortedcontainers-2.4.0 tables-3.7.0 tomli-2.0.1 toolz-0.11.2 typing-extensions-4.1.1 zipp-3.7.0\n"
          ]
        },
        {
          "output_type": "display_data",
          "data": {
            "application/vnd.colab-display-data+json": {
              "pip_warning": {
                "packages": [
                  "cycler",
                  "dateutil",
                  "numexpr",
                  "numpy",
                  "packaging",
                  "pandas",
                  "pyparsing"
                ]
              }
            }
          },
          "metadata": {}
        }
      ]
    },
    {
      "cell_type": "code",
      "source": [
        "!pip install -U ipykernel"
      ],
      "metadata": {
        "colab": {
          "base_uri": "https://localhost:8080/",
          "height": 1000
        },
        "id": "1sAdc2pemQDS",
        "outputId": "90125390-e576-4cc4-dffc-38225e156e9e"
      },
      "execution_count": 68,
      "outputs": [
        {
          "output_type": "stream",
          "name": "stdout",
          "text": [
            "Collecting ipykernel\n",
            "  Downloading ipykernel-6.9.2-py3-none-any.whl (130 kB)\n",
            "\u001b[K     |████████████████████████████████| 130 kB 4.3 MB/s \n",
            "\u001b[?25hCollecting ipython>=7.23.1\n",
            "  Downloading ipython-7.32.0-py3-none-any.whl (793 kB)\n",
            "\u001b[K     |████████████████████████████████| 793 kB 39.0 MB/s \n",
            "\u001b[?25hCollecting debugpy<2.0,>=1.0.0\n",
            "  Downloading debugpy-1.5.1-cp37-cp37m-manylinux_2_5_x86_64.manylinux1_x86_64.manylinux_2_12_x86_64.manylinux2010_x86_64.whl (1.9 MB)\n",
            "\u001b[K     |████████████████████████████████| 1.9 MB 33.9 MB/s \n",
            "\u001b[?25hCollecting psutil\n",
            "  Downloading psutil-5.9.0-cp37-cp37m-manylinux_2_12_x86_64.manylinux2010_x86_64.manylinux_2_17_x86_64.manylinux2014_x86_64.whl (280 kB)\n",
            "\u001b[K     |████████████████████████████████| 280 kB 47.1 MB/s \n",
            "\u001b[?25hCollecting tornado<7.0,>=4.2\n",
            "  Downloading tornado-6.1-cp37-cp37m-manylinux2010_x86_64.whl (428 kB)\n",
            "\u001b[K     |████████████████████████████████| 428 kB 55.0 MB/s \n",
            "\u001b[?25hCollecting traitlets<6.0,>=5.1.0\n",
            "  Downloading traitlets-5.1.1-py3-none-any.whl (102 kB)\n",
            "\u001b[K     |████████████████████████████████| 102 kB 10.8 MB/s \n",
            "\u001b[?25hCollecting jupyter-client<8.0\n",
            "  Downloading jupyter_client-7.1.2-py3-none-any.whl (130 kB)\n",
            "\u001b[K     |████████████████████████████████| 130 kB 54.9 MB/s \n",
            "\u001b[?25hCollecting nest-asyncio\n",
            "  Downloading nest_asyncio-1.5.4-py3-none-any.whl (5.1 kB)\n",
            "Collecting matplotlib-inline<0.2.0,>=0.1.0\n",
            "  Downloading matplotlib_inline-0.1.3-py3-none-any.whl (8.2 kB)\n",
            "Collecting jedi>=0.16\n",
            "  Downloading jedi-0.18.1-py2.py3-none-any.whl (1.6 MB)\n",
            "\u001b[K     |████████████████████████████████| 1.6 MB 41.4 MB/s \n",
            "\u001b[?25hRequirement already satisfied: setuptools>=18.5 in /usr/local/lib/python3.7/site-packages (from ipython>=7.23.1->ipykernel) (49.6.0.post20210108)\n",
            "Collecting backcall\n",
            "  Downloading backcall-0.2.0-py2.py3-none-any.whl (11 kB)\n",
            "Collecting pexpect>4.3\n",
            "  Downloading pexpect-4.8.0-py2.py3-none-any.whl (59 kB)\n",
            "\u001b[K     |████████████████████████████████| 59 kB 4.8 MB/s \n",
            "\u001b[?25hCollecting pygments\n",
            "  Downloading Pygments-2.11.2-py3-none-any.whl (1.1 MB)\n",
            "\u001b[K     |████████████████████████████████| 1.1 MB 67.5 MB/s \n",
            "\u001b[?25hCollecting decorator\n",
            "  Downloading decorator-5.1.1-py3-none-any.whl (9.1 kB)\n",
            "Collecting pickleshare\n",
            "  Downloading pickleshare-0.7.5-py2.py3-none-any.whl (6.9 kB)\n",
            "Collecting prompt-toolkit!=3.0.0,!=3.0.1,<3.1.0,>=2.0.0\n",
            "  Downloading prompt_toolkit-3.0.28-py3-none-any.whl (380 kB)\n",
            "\u001b[K     |████████████████████████████████| 380 kB 49.2 MB/s \n",
            "\u001b[?25hCollecting parso<0.9.0,>=0.8.0\n",
            "  Downloading parso-0.8.3-py2.py3-none-any.whl (100 kB)\n",
            "\u001b[K     |████████████████████████████████| 100 kB 8.8 MB/s \n",
            "\u001b[?25hRequirement already satisfied: python-dateutil>=2.1 in /usr/local/lib/python3.7/site-packages (from jupyter-client<8.0->ipykernel) (2.8.2)\n",
            "Collecting entrypoints\n",
            "  Downloading entrypoints-0.4-py3-none-any.whl (5.3 kB)\n",
            "Collecting pyzmq>=13\n",
            "  Downloading pyzmq-22.3.0-cp37-cp37m-manylinux_2_5_x86_64.manylinux1_x86_64.whl (1.1 MB)\n",
            "\u001b[K     |████████████████████████████████| 1.1 MB 52.4 MB/s \n",
            "\u001b[?25hCollecting jupyter-core>=4.6.0\n",
            "  Downloading jupyter_core-4.9.2-py3-none-any.whl (86 kB)\n",
            "\u001b[K     |████████████████████████████████| 86 kB 5.1 MB/s \n",
            "\u001b[?25hCollecting ptyprocess>=0.5\n",
            "  Downloading ptyprocess-0.7.0-py2.py3-none-any.whl (13 kB)\n",
            "Collecting wcwidth\n",
            "  Downloading wcwidth-0.2.5-py2.py3-none-any.whl (30 kB)\n",
            "Requirement already satisfied: six>=1.5 in /usr/local/lib/python3.7/site-packages (from python-dateutil>=2.1->jupyter-client<8.0->ipykernel) (1.15.0)\n",
            "Installing collected packages: wcwidth, traitlets, ptyprocess, parso, tornado, pyzmq, pygments, prompt-toolkit, pickleshare, pexpect, nest-asyncio, matplotlib-inline, jupyter-core, jedi, entrypoints, decorator, backcall, psutil, jupyter-client, ipython, debugpy, ipykernel\n",
            "Successfully installed backcall-0.2.0 debugpy-1.5.1 decorator-5.1.1 entrypoints-0.4 ipykernel-6.9.2 ipython-7.32.0 jedi-0.18.1 jupyter-client-7.1.2 jupyter-core-4.9.2 matplotlib-inline-0.1.3 nest-asyncio-1.5.4 parso-0.8.3 pexpect-4.8.0 pickleshare-0.7.5 prompt-toolkit-3.0.28 psutil-5.9.0 ptyprocess-0.7.0 pygments-2.11.2 pyzmq-22.3.0 tornado-6.1 traitlets-5.1.1 wcwidth-0.2.5\n"
          ]
        },
        {
          "output_type": "display_data",
          "data": {
            "application/vnd.colab-display-data+json": {
              "pip_warning": {
                "packages": [
                  "jupyter_core",
                  "pexpect",
                  "pickleshare",
                  "traitlets",
                  "wcwidth",
                  "zmq"
                ]
              }
            }
          },
          "metadata": {}
        }
      ]
    },
    {
      "cell_type": "code",
      "execution_count": 69,
      "metadata": {
        "colab": {
          "base_uri": "https://localhost:8080/"
        },
        "id": "DB3XyabRA21O",
        "outputId": "923720e3-7643-4ad1-b2d2-1cac9581dc81"
      },
      "outputs": [
        {
          "output_type": "stream",
          "name": "stdout",
          "text": [
            "Adding bigwig file: cell8_coverage.bw\n",
            "Adding bigwig file: cell8_methylation.bw\n",
            "INFO:pygenometracks.tracksClass:initialize 1. [x-axis]\n",
            "INFO:pygenometracks.tracksClass:initialize 2. [spacer]\n",
            "INFO:pygenometracks.tracksClass:initialize 3. [cell8_coverage]\n",
            "INFO:pygenometracks.tracksClass:initialize 4. [cell8_methylation]\n",
            "INFO:pygenometracks.tracksClass:time initializing track(s):\n",
            "INFO:pygenometracks.tracksClass:0.013976573944091797\n",
            "DEBUG:pygenometracks.tracksClass:Figure size in cm is 40 x 6.781914893617022. Dpi is set to 72\n",
            "\n",
            "INFO:pygenometracks.tracksClass:plotting 1. [x-axis]\n",
            "INFO:pygenometracks.tracksClass:plotting 2. [spacer]\n",
            "INFO:pygenometracks.tracksClass:plotting 3. [cell8_coverage]\n",
            "INFO:pygenometracks.tracksClass:plotting 4. [cell8_methylation]\n",
            "Adding bigwig file: icm_coverage.bw\n",
            "Adding bigwig file: icm_methylation.bw\n",
            "INFO:pygenometracks.tracksClass:initialize 1. [x-axis]\n",
            "INFO:pygenometracks.tracksClass:initialize 2. [spacer]\n",
            "INFO:pygenometracks.tracksClass:initialize 3. [icm_coverage]\n",
            "INFO:pygenometracks.tracksClass:initialize 4. [icm_methylation]\n",
            "INFO:pygenometracks.tracksClass:time initializing track(s):\n",
            "INFO:pygenometracks.tracksClass:0.011697053909301758\n",
            "DEBUG:pygenometracks.tracksClass:Figure size in cm is 40 x 6.781914893617022. Dpi is set to 72\n",
            "\n",
            "INFO:pygenometracks.tracksClass:plotting 1. [x-axis]\n",
            "INFO:pygenometracks.tracksClass:plotting 2. [spacer]\n",
            "INFO:pygenometracks.tracksClass:plotting 3. [icm_coverage]\n",
            "INFO:pygenometracks.tracksClass:plotting 4. [icm_methylation]\n",
            "Adding bigwig file: epiblast_coverage.bw\n",
            "Adding bigwig file: epiblast_methylation.bw\n",
            "INFO:pygenometracks.tracksClass:initialize 1. [x-axis]\n",
            "INFO:pygenometracks.tracksClass:initialize 2. [spacer]\n",
            "INFO:pygenometracks.tracksClass:initialize 3. [epiblast_coverage]\n",
            "INFO:pygenometracks.tracksClass:initialize 4. [epiblast_methylation]\n",
            "INFO:pygenometracks.tracksClass:time initializing track(s):\n",
            "INFO:pygenometracks.tracksClass:0.0053522586822509766\n",
            "DEBUG:pygenometracks.tracksClass:Figure size in cm is 40 x 6.781914893617022. Dpi is set to 72\n",
            "\n",
            "INFO:pygenometracks.tracksClass:plotting 1. [x-axis]\n",
            "INFO:pygenometracks.tracksClass:plotting 2. [spacer]\n",
            "INFO:pygenometracks.tracksClass:plotting 3. [epiblast_coverage]\n",
            "INFO:pygenometracks.tracksClass:plotting 4. [epiblast_methylation]\n"
          ]
        }
      ],
      "source": [
        "! make_tracks_file --trackFiles cell8_coverage.bw cell8_methylation.bw -o tracks_cell8.ini\n",
        "! pyGenomeTracks --tracks tracks_cell8.ini --region chr11:3100030-3500030 -o image_cell8.png\n",
        "! make_tracks_file --trackFiles icm_coverage.bw icm_methylation.bw -o tracks_icm.ini\n",
        "! pyGenomeTracks --tracks tracks_icm.ini --region chr11:3100030-3500030 -o image_icm.png\n",
        "! make_tracks_file --trackFiles epiblast_coverage.bw epiblast_methylation.bw -o tracks_epiblast.ini\n",
        "! pyGenomeTracks --tracks tracks_epiblast.ini --region chr11:3100030-3500030 -o image_epiblast.png"
      ]
    },
    {
      "cell_type": "code",
      "execution_count": null,
      "metadata": {
        "id": "0FmAsfrhA32A"
      },
      "outputs": [],
      "source": [
        ""
      ]
    },
    {
      "cell_type": "code",
      "execution_count": null,
      "metadata": {
        "id": "p7CjvnFhwpyL"
      },
      "outputs": [],
      "source": [
        ""
      ]
    }
  ],
  "metadata": {
    "colab": {
      "collapsed_sections": [],
      "name": "Копия блокнота \"Methylation.ipynb\"",
      "provenance": []
    },
    "kernelspec": {
      "display_name": "Python 3",
      "name": "python3"
    },
    "language_info": {
      "name": "python"
    }
  },
  "nbformat": 4,
  "nbformat_minor": 0
}